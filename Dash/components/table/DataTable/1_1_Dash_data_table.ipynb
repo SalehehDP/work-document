{
 "cells": [
  {
   "cell_type": "markdown",
   "metadata": {},
   "source": [
    "    resoures : https://dash.plotly.com/datatable\n",
    "    \n",
    "    DataTable is rendered with standard, semantic HTML <table/> markup, which makes it accessible, responsive, and easy to style.\n",
    "\n",
    "    \n",
    "    Import DataTable with:"
   ]
  },
  {
   "cell_type": "code",
   "execution_count": null,
   "metadata": {
    "vscode": {
     "languageId": "plaintext"
    }
   },
   "outputs": [],
   "source": [
    "from dash import dash_table"
   ]
  },
  {
   "cell_type": "markdown",
   "metadata": {},
   "source": [
    "    The data and columns properties are the first two arguments of dash_table.DataTable. You can set these with positional or keyword arguments.\n",
    "    \n",
    "    You can also omit columns. When no columns argument is provided, columns are auto-generated based on the first row in data."
   ]
  }
 ],
 "metadata": {
  "language_info": {
   "name": "python"
  },
  "orig_nbformat": 4
 },
 "nbformat": 4,
 "nbformat_minor": 2
}
