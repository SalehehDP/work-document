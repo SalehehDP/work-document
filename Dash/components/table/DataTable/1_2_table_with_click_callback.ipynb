{
 "cells": [
  {
   "cell_type": "markdown",
   "metadata": {},
   "source": [
    "to get active cell(click on cell) in callbacks \n",
    "Input('tbl', 'active_cell')\n",
    "\n",
    "=> {'row': 5, 'column': 2, 'column_id': 'Installed Capacity (MW)'}"
   ]
  }
 ],
 "metadata": {
  "language_info": {
   "name": "python"
  },
  "orig_nbformat": 4
 },
 "nbformat": 4,
 "nbformat_minor": 2
}
