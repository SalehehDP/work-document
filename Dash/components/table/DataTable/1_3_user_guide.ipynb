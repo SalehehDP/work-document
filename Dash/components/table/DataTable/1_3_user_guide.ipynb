{
 "cells": [
  {
   "cell_type": "markdown",
   "metadata": {},
   "source": [
    "- Reference :\n",
    "- DataTable Height :\n",
    "- DataTable Width & Column Width : \n",
    "- Styling:\n",
    "- Conditional Formatting:\n",
    "- Number Formatting : \n",
    "- Sorting, Filtering, Selecting, and Paging Natively:\n",
    "- DataTable Tooltips :\n",
    "- Python-Driven Filtering, Paging, Sorting\n",
    "- Editable DataTable\n",
    "- Typing and User Input Processing\n",
    "- Dropdowns Inside DataTable\n",
    "- Virtualization\n",
    "- Filtering Syntax"
   ]
  }
 ],
 "metadata": {
  "language_info": {
   "name": "python"
  },
  "orig_nbformat": 4
 },
 "nbformat": 4,
 "nbformat_minor": 2
}
