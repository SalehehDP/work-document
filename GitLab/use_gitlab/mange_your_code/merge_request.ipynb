{
 "cells": [
  {
   "cell_type": "markdown",
   "metadata": {},
   "source": [
    "resource : https://docs.gitlab.com/ee/user/project/merge_requests/"
   ]
  },
  {
   "cell_type": "markdown",
   "metadata": {},
   "source": [
    "**Merge request workflows :**\n",
    "\n",
    "For a *software developer* working in a team:\n",
    "\n",
    "1 - You check out a new branch, and submit your changes through a merge request.( اگر یک مرج ریکوست قبل بوجود آمده باشد و در ادامه مرج ریکوست جدیدی ایجاد شود آن در ادامه تغییرات خواهد بود . )\n",
    "\n",
    "2 - You gather feedback from your team.\n",
    "\n",
    "3 - You work on the implementation optimizing code with Code Quality reports.\n",
    "\n",
    "4 - You verify your changes with Unit test reports in GitLab CI/CD.\n",
    "\n",
    "5 - You avoid using dependencies whose license is not compatible with your project with License approval policies.\n",
    "\n",
    "6 - You request the approval from your manager.\n",
    "\n",
    "7 - Your manager:\n",
    "    Pushes a commit with their final review.\n",
    "    Approves the merge request.\n",
    "\n",
    "8 - Sets it to auto-merge (formerly Merge when pipeline succeeds).\n",
    "\n",
    "9 - Your changes get deployed to production with manual jobs for GitLab CI/CD.\n",
    "\n",
    "10 - Your implementations were successfully shipped to your customer.\n",
    "\n",
    "\n",
    "For a *web developer* writing a webpage for your company’s website: ......\n",
    "\n"
   ]
  },
  {
   "cell_type": "markdown",
   "metadata": {},
   "source": [
    "**Filter activity in a merge request**"
   ]
  },
  {
   "cell_type": "markdown",
   "metadata": {},
   "source": [
    "**Merge request approvals :**\n",
    "\n",
    " - How approvals work : With merge request approval rules, you can set the minimum number of required approvals before work can merge into your project. \n",
    "\n",
    " To prevent merge request authors from approving their own merge requests, enable Prevent author approval in your project’s settings.\n",
    "\n",
    "\n",
    "https://docs.gitlab.com/ee/user/project/merge_requests/approvals/index.html"
   ]
  }
 ],
 "metadata": {
  "language_info": {
   "name": "python"
  }
 },
 "nbformat": 4,
 "nbformat_minor": 2
}
