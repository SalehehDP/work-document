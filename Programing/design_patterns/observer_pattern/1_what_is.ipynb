{
 "cells": [
  {
   "cell_type": "markdown",
   "metadata": {},
   "source": [
    "resource : https://www.tutorialspoint.com/design_pattern/observer_pattern.htm"
   ]
  },
  {
   "cell_type": "markdown",
   "metadata": {},
   "source": [
    "Observer pattern is used when there is one-to-many relationship between objects such as if one object is modified, its depenedent objects are to be notified automatically. Observer pattern falls under behavioral pattern category.\n",
    "\n",
    "یحتمل و احتمال مسیر منبع بهتری هم برای خوندن می توان پیدا کرد.\n",
    "\n",
    "https://refactoring.guru/design-patterns/observer\n",
    "\n",
    "؟؟"
   ]
  }
 ],
 "metadata": {
  "language_info": {
   "name": "python"
  },
  "orig_nbformat": 4
 },
 "nbformat": 4,
 "nbformat_minor": 2
}
