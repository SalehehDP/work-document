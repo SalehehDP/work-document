{
 "cells": [
  {
   "cell_type": "markdown",
   "metadata": {},
   "source": [
    "**INSERT…ON CONFLICT (Upsert) :**\n",
    "\n",
    "Starting with version 9.5, PostgreSQL allows *“upserts”* (update or insert) of rows into a table via the *ON CONFLICT clause of the INSERT* statement.A candidate row will only be inserted if that row does not violate any unique constraints.\n",
    "\n",
    "In the case of a unique constraint violation, a secondary action can occur:\n",
    " - “DO UPDATE”\n",
    " - “DO NOTHING” : silently skip this row.\n",
    "\n",
    "Conflicts are determined using existing *unique constraints and indexes*. \n",
    "\n",
    "SQLAlchemy provides ON CONFLICT support via the *PostgreSQL-specific insert()* function, which provides the generative methods Insert.on_conflict_do_update() and Insert.on_conflict_do_nothing():"
   ]
  },
  {
   "cell_type": "code",
   "execution_count": 2,
   "metadata": {},
   "outputs": [
    {
     "name": "stdout",
     "output_type": "stream",
     "text": [
      "INSERT INTO data (id, data) VALUES (%(id)s, %(data)s) ON CONFLICT (id) DO NOTHING\n",
      "INSERT INTO data (id, data) VALUES (%(id)s, %(data)s) ON CONFLICT ON CONSTRAINT data_pkey DO UPDATE SET data = %(param_1)s\n",
      "[]\n"
     ]
    }
   ],
   "source": [
    "from sqlalchemy.dialects.postgresql import insert\n",
    "from sqlalchemy import Table, Column, MetaData, Integer, String, create_engine, URL\n",
    "\n",
    "\n",
    "url = URL.create(\n",
    "    drivername=\"postgresql\",\n",
    "    username=\"postgres\",\n",
    "    password=\"1234\",\n",
    "    host=\"192.168.0.8\",\n",
    "    port=\"5432\",\n",
    "    database=\"tests\"\n",
    ")\n",
    "\n",
    "engine = create_engine(url)\n",
    "\n",
    "metadata = MetaData()\n",
    "table = Table(\n",
    "    \"data\",\n",
    "    metadata,\n",
    "    Column('id', Integer, primary_key=True),\n",
    "    Column('data', String)\n",
    ")\n",
    "\n",
    "\n",
    "insert_stmt = insert(table).values(\n",
    "    id= 1, # some_existing_id\n",
    "    data='some new data') # inserted value\n",
    "do_nothing_stmt = insert_stmt.on_conflict_do_nothing(\n",
    "    index_elements=['id']\n",
    ")\n",
    "print(do_nothing_stmt)\n",
    "\n",
    "do_update_stmt = insert_stmt.on_conflict_do_update(\n",
    "    constraint='data_pkey',\n",
    "    set_=dict(data='updated data')\n",
    ")\n",
    "print(do_update_stmt)\n",
    "\n",
    "with engine.begin() as conn: \n",
    "    conn.execute(do_nothing_stmt)\n",
    "    result =  conn.execute(table.select().where(table.c.data == \"some new data\"))\n",
    "    print(result.fetchall())\n",
    "\n",
    "    conn.execute(do_update_stmt)\n",
    "    "
   ]
  }
 ],
 "metadata": {
  "kernelspec": {
   "display_name": "documents-61uQ3X5r-py3.10",
   "language": "python",
   "name": "python3"
  },
  "language_info": {
   "codemirror_mode": {
    "name": "ipython",
    "version": 3
   },
   "file_extension": ".py",
   "mimetype": "text/x-python",
   "name": "python",
   "nbconvert_exporter": "python",
   "pygments_lexer": "ipython3",
   "version": "3.10.12"
  },
  "orig_nbformat": 4
 },
 "nbformat": 4,
 "nbformat_minor": 2
}
