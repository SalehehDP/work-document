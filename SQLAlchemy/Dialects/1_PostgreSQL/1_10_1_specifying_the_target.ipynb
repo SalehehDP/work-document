{
 "cells": [
  {
   "cell_type": "markdown",
   "metadata": {},
   "source": [
    "**Specifying the Target :**\n",
    "\n",
    "Both methods supply the “target” of the conflict using either the n*amed constraint* or by *column inference*:\n",
    "\n",
    "\n",
    " - 1 : The *Insert.on_conflict_do_update.index_elements* argument specifies a sequence containing string column names, Column objects, and/or SQL expression elements, which would *identify a unique index* : "
   ]
  },
  {
   "cell_type": "code",
   "execution_count": 1,
   "metadata": {},
   "outputs": [
    {
     "name": "stdout",
     "output_type": "stream",
     "text": [
      "INSERT INTO data (id, data) VALUES (%(id)s, %(data)s) ON CONFLICT (id) DO UPDATE SET data = %(param_1)s\n",
      "INSERT INTO data (id, data) VALUES (%(id)s, %(data)s) ON CONFLICT (id) DO UPDATE SET data = %(param_1)s\n"
     ]
    }
   ],
   "source": [
    "from sqlalchemy.dialects.postgresql import insert\n",
    "from sqlalchemy import Table, Column, MetaData, Integer, String, create_engine, URL\n",
    "\n",
    "\n",
    "url = URL.create(\n",
    "    drivername=\"postgresql\",\n",
    "    username=\"postgres\",\n",
    "    password=\"1234\",\n",
    "    host=\"192.168.0.8\",\n",
    "    port=\"5432\",\n",
    "    database=\"tests\"\n",
    ")\n",
    "\n",
    "engine = create_engine(url)\n",
    "\n",
    "metadata = MetaData()\n",
    "table = Table(\n",
    "    \"data\",\n",
    "    metadata,\n",
    "    Column('id', Integer, primary_key=True),\n",
    "    Column('data', String)\n",
    ")\n",
    "\n",
    "insert_stmt = insert(table).values(\n",
    "    id= 2, # some_existing_id\n",
    "    data='some new data') # inserted value\n",
    "\n",
    "do_update_stmt = insert_stmt.on_conflict_do_update(\n",
    "    index_elements=['id'],\n",
    "    set_=dict(data='updated value')\n",
    ")\n",
    "print(do_update_stmt)\n",
    "do_update_stmt = insert_stmt.on_conflict_do_update(\n",
    "    index_elements=[table.c.id],\n",
    "    set_=dict(data='updated value')\n",
    ")\n",
    "print(do_update_stmt)"
   ]
  },
  {
   "cell_type": "markdown",
   "metadata": {},
   "source": [
    " - 2: When using Insert.on_conflict_do_update.index_elements to infer an index, a partial index can be inferred by also specifying the use the *Insert.on_conflict_do_update.index_where* parameter:"
   ]
  },
  {
   "cell_type": "code",
   "execution_count": null,
   "metadata": {},
   "outputs": [],
   "source": [
    "\n",
    "user_table = Table(\n",
    "    \"user_table\",\n",
    "    metadata,\n",
    "    Column('id', Integer, primary_key=True),\n",
    "    Column('user_email', String), # try : index= True and primary_key=True \n",
    "    Column('data', String),\n",
    "    extend_existing=True\n",
    ")\n",
    "user_table.create(engine)\n",
    "\n",
    "with engine.connect() as conn :\n",
    "    conn.execute(user_table.insert(), \n",
    "                 [{'id': 1, \"data\": \"some data 1\", \"user_email\": 'a@b.com'},\n",
    "                   {'id': 2,\"data\": \"some data 2\", \"user_email\": 'a@gmail.com'}])\n",
    "    conn.commit()\n",
    "    \n",
    "\n",
    "stmt = insert(user_table).values(user_email='a@b.com', data='inserted data')\n",
    "stmt = stmt.on_conflict_do_update(\n",
    "    index_elements=[user_table.c.user_email],\n",
    "    index_where=user_table.c.user_email.like('%@gmail.com'),\n",
    "    set_=dict(data=stmt.excluded.data)\n",
    ")\n",
    "print(stmt)\n",
    "\n",
    "with engine.begin() as conn :\n",
    "    conn.execute(stmt)\n",
    "\n",
    "# ME : آیا مقدار index_elements باید به صورت یونیک در تعریف جدول وجود داشته باشه ؟ \n",
    "# why i'm getting : InvalidColumnReference: there is no unique or exclusion constraint matching the ON CONFLICT specification\n",
    "\n",
    "# ME : index_where چی کار میکند ؟ "
   ]
  },
  {
   "cell_type": "markdown",
   "metadata": {},
   "source": [
    "- 3: The *Insert.on_conflict_do_update.constraint* argument is used to specify an index directly rather than inferring it. This can be the name of a UNIQUE constraint, a PRIMARY KEY constraint, or an INDEX:"
   ]
  },
  {
   "cell_type": "code",
   "execution_count": 23,
   "metadata": {},
   "outputs": [
    {
     "name": "stdout",
     "output_type": "stream",
     "text": [
      "INSERT INTO data (id, data) VALUES (%(id)s, %(data)s) ON CONFLICT ON CONSTRAINT my_table_idx_1 DO UPDATE SET data = %(param_1)s\n",
      "INSERT INTO data (id, data) VALUES (%(id)s, %(data)s) ON CONFLICT ON CONSTRAINT data_pkey DO UPDATE SET data = %(param_1)s\n"
     ]
    }
   ],
   "source": [
    "do_update_stmt = insert_stmt.on_conflict_do_update(\n",
    "    constraint='my_table_idx_1',\n",
    "    set_=dict(data='updated value')\n",
    ")\n",
    "print(do_update_stmt)\n",
    "do_update_stmt = insert_stmt.on_conflict_do_update(\n",
    "    constraint='data_pkey',\n",
    "    set_=dict(data='updated value')\n",
    ")\n",
    "print(do_update_stmt)\n",
    "\n",
    "with engine.begin() as conn:\n",
    "    conn.execute(do_update_stmt)"
   ]
  },
  {
   "cell_type": "markdown",
   "metadata": {},
   "source": [
    "- 4: The Insert.on_conflict_do_update.constraint argument may also refer to a SQLAlchemy construct representing a constraint, e.g. UniqueConstraint, PrimaryKeyConstraint, Index, or ExcludeConstraint. In this use, if the constraint has a name, it is used directly. Otherwise, if the constraint *is unnamed*, then inference will be used, where the expressions and optional WHERE clause of the constraint will be spelled out in the construct. This use is especially convenient to refer to the named or unnamed primary key of a Table using the *Table.primary_key* attribute:"
   ]
  },
  {
   "cell_type": "code",
   "execution_count": 26,
   "metadata": {},
   "outputs": [
    {
     "name": "stdout",
     "output_type": "stream",
     "text": [
      "INSERT INTO data (id, data) VALUES (%(id)s, %(data)s) ON CONFLICT (id) DO UPDATE SET data = %(param_1)s\n"
     ]
    }
   ],
   "source": [
    "do_update_stmt = insert_stmt.on_conflict_do_update(\n",
    "    constraint=table.primary_key,\n",
    "    set_=dict(data='updated value')\n",
    ")\n",
    "print(do_update_stmt)\n",
    "\n",
    "# ME : حالات دیگر ؟ یحتمل خود شی های UniqueConstraint ,..."
   ]
  }
 ],
 "metadata": {
  "kernelspec": {
   "display_name": "documents-61uQ3X5r-py3.10",
   "language": "python",
   "name": "python3"
  },
  "language_info": {
   "codemirror_mode": {
    "name": "ipython",
    "version": 3
   },
   "file_extension": ".py",
   "mimetype": "text/x-python",
   "name": "python",
   "nbconvert_exporter": "python",
   "pygments_lexer": "ipython3",
   "version": "3.10.12"
  },
  "orig_nbformat": 4
 },
 "nbformat": 4,
 "nbformat_minor": 2
}
