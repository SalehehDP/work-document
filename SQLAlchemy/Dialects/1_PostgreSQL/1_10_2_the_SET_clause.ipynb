{
 "cells": [
  {
   "cell_type": "markdown",
   "metadata": {},
   "source": [
    "**The SET Clause :**\n",
    "\n",
    "ON CONFLICT...DO UPDATE is used to perform an update of the already existing row, using any *combination of new values as well as values from the proposed insertion*. \n",
    "\n",
    "These values are specified using the *Insert.on_conflict_do_update.set_* parameter. This parameter accepts a *dictionary* which consists of direct values for UPDATE:"
   ]
  },
  {
   "cell_type": "code",
   "execution_count": 2,
   "metadata": {},
   "outputs": [
    {
     "name": "stdout",
     "output_type": "stream",
     "text": [
      "INSERT INTO data (id, data) VALUES (%(id)s, %(data)s) ON CONFLICT (id) DO UPDATE SET data = excluded.data\n"
     ]
    }
   ],
   "source": [
    "from sqlalchemy.dialects.postgresql import insert\n",
    "from sqlalchemy import Table, Column, MetaData, Integer, String, create_engine, URL\n",
    "\n",
    "\n",
    "url = URL.create(\n",
    "    drivername=\"postgresql\",\n",
    "    username=\"postgres\",\n",
    "    password=\"1234\",\n",
    "    host=\"192.168.0.8\",\n",
    "    port=\"5432\",\n",
    "    database=\"tests\"\n",
    ")\n",
    "\n",
    "engine = create_engine(url)\n",
    "\n",
    "metadata = MetaData()\n",
    "table = Table(\n",
    "    \"data\",\n",
    "    metadata,\n",
    "    Column('id', Integer, primary_key=True),\n",
    "    Column('data', String)\n",
    ")\n",
    "\n",
    "stmt = insert(table).values(id='3', data='inserted value')\n",
    "do_update_stmt = stmt.on_conflict_do_update(\n",
    "    index_elements=['id'],\n",
    "    set_=dict(data=stmt.excluded.data) # stmt.excluded.data => values from the proposed insertion\n",
    ")\n",
    "print(do_update_stmt)\n",
    "\n",
    "with engine.begin() as conn:\n",
    "    conn.execute(do_update_stmt)"
   ]
  },
  {
   "cell_type": "markdown",
   "metadata": {},
   "source": [
    "**Warning :** The Insert.on_conflict_do_update() method does not take into account Python-side default UPDATE values or generation functions, e.g. those specified using Column.onupdate. These values will not be exercised for an ON CONFLICT style of UPDATE, unless they are manually specified in the Insert.on_conflict_do_update.set_ dictionary.\n",
    "\n",
    "ME : یعنی فقط از همین طریق می توان مقدار دهی کرد ؟ 2_1_4 ؟"
   ]
  }
 ],
 "metadata": {
  "kernelspec": {
   "display_name": "documents-61uQ3X5r-py3.10",
   "language": "python",
   "name": "python3"
  },
  "language_info": {
   "codemirror_mode": {
    "name": "ipython",
    "version": 3
   },
   "file_extension": ".py",
   "mimetype": "text/x-python",
   "name": "python",
   "nbconvert_exporter": "python",
   "pygments_lexer": "ipython3",
   "version": "3.10.12"
  },
  "orig_nbformat": 4
 },
 "nbformat": 4,
 "nbformat_minor": 2
}
