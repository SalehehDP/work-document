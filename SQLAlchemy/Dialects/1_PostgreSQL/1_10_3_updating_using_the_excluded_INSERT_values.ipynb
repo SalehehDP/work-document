{
 "cells": [
  {
   "cell_type": "markdown",
   "metadata": {},
   "source": [
    "**Updating using the Excluded INSERT Values :**\n",
    "\n",
    "In order to refer to the *proposed insertion* row, the special alias *Insert.excluded* is available"
   ]
  },
  {
   "cell_type": "code",
   "execution_count": 3,
   "metadata": {},
   "outputs": [
    {
     "name": "stdout",
     "output_type": "stream",
     "text": [
      "INSERT INTO data (id, data, author) VALUES (%(id)s, %(data)s, %(author)s) ON CONFLICT (id) DO UPDATE SET data = %(param_1)s, author = excluded.author\n"
     ]
    }
   ],
   "source": [
    "from sqlalchemy.dialects.postgresql import insert\n",
    "from sqlalchemy import Table, Column, MetaData, Integer, String\n",
    "\n",
    "\n",
    "\n",
    "metadata = MetaData()\n",
    "my_table = Table(\n",
    "    \"data\",\n",
    "    metadata,\n",
    "    Column('id', Integer, primary_key=True),\n",
    "    Column('data', String),\n",
    "    Column('author', String),\n",
    ")\n",
    "\n",
    "stmt = insert(my_table).values(\n",
    "    id='some_id',\n",
    "    data='inserted value',\n",
    "    author='jlh'\n",
    ")\n",
    "do_update_stmt = stmt.on_conflict_do_update(\n",
    "    index_elements=['id'],\n",
    "    set_=dict(data='updated value', author=stmt.excluded.author)\n",
    ")\n",
    "print(do_update_stmt)"
   ]
  }
 ],
 "metadata": {
  "kernelspec": {
   "display_name": "documents-61uQ3X5r-py3.10",
   "language": "python",
   "name": "python3"
  },
  "language_info": {
   "codemirror_mode": {
    "name": "ipython",
    "version": 3
   },
   "file_extension": ".py",
   "mimetype": "text/x-python",
   "name": "python",
   "nbconvert_exporter": "python",
   "pygments_lexer": "ipython3",
   "version": "3.10.12"
  },
  "orig_nbformat": 4
 },
 "nbformat": 4,
 "nbformat_minor": 2
}
