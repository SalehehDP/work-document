{
 "cells": [
  {
   "cell_type": "markdown",
   "metadata": {},
   "source": [
    "**Additional WHERE Criteria :**\n",
    "\n",
    "The Insert.on_conflict_do_update() method also accepts a *WHERE* clause using the Insert.on_conflict_do_update.where parameter, which will *limit those rows which receive an UPDATE*:"
   ]
  },
  {
   "cell_type": "code",
   "execution_count": null,
   "metadata": {},
   "outputs": [],
   "source": [
    "stmt = insert(my_table).values(\n",
    "    id='some_id',\n",
    "    data='inserted value',\n",
    "    author='jlh'\n",
    ")\n",
    "on_update_stmt = stmt.on_conflict_do_update(\n",
    "    index_elements=['id'],\n",
    "    set_=dict(data='updated value', author=stmt.excluded.author),\n",
    "    where=(my_table.c.status == 2)\n",
    ")\n",
    "print(on_update_stmt)"
   ]
  }
 ],
 "metadata": {
  "language_info": {
   "name": "python"
  },
  "orig_nbformat": 4
 },
 "nbformat": 4,
 "nbformat_minor": 2
}
