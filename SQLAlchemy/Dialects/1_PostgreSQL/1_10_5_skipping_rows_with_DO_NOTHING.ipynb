{
 "cells": [
  {
   "cell_type": "markdown",
   "metadata": {},
   "source": [
    "**Skipping Rows with DO NOTHING :**\n",
    "\n",
    "If DO NOTHING is used *without specifying any columns or constraint*, it has the effect of skipping the INSERT for any unique or exclusion constraint violation which occurs:"
   ]
  },
  {
   "cell_type": "code",
   "execution_count": 1,
   "metadata": {},
   "outputs": [
    {
     "name": "stdout",
     "output_type": "stream",
     "text": [
      "INSERT INTO data (id, data) VALUES (%(id)s, %(data)s) ON CONFLICT DO NOTHING\n"
     ]
    }
   ],
   "source": [
    "from sqlalchemy.dialects.postgresql import insert\n",
    "from sqlalchemy import Table, Column, MetaData, Integer, String\n",
    "\n",
    "\n",
    "\n",
    "metadata = MetaData()\n",
    "my_table = Table(\n",
    "    \"data\",\n",
    "    metadata,\n",
    "    Column('id', Integer, primary_key=True),\n",
    "    Column('data', String),\n",
    "    Column('author', String),\n",
    ")\n",
    "stmt = insert(my_table).values(id='some_id', data='inserted value')\n",
    "stmt = stmt.on_conflict_do_nothing()\n",
    "print(stmt)"
   ]
  }
 ],
 "metadata": {
  "kernelspec": {
   "display_name": "documents-61uQ3X5r-py3.10",
   "language": "python",
   "name": "python3"
  },
  "language_info": {
   "codemirror_mode": {
    "name": "ipython",
    "version": 3
   },
   "file_extension": ".py",
   "mimetype": "text/x-python",
   "name": "python",
   "nbconvert_exporter": "python",
   "pygments_lexer": "ipython3",
   "version": "3.10.12"
  },
  "orig_nbformat": 4
 },
 "nbformat": 4,
 "nbformat_minor": 2
}
