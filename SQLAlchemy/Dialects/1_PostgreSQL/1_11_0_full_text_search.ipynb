{
 "cells": [
  {
   "cell_type": "markdown",
   "metadata": {},
   "source": [
    "**Full Text Search :**\n",
    "\n",
    "PostgreSQL’s full text search system is available through the use of the *func* namespace, combined with the use of *custom operators* via the *Operators.bool_op()* method. For simple cases with some degree of cross-backend compatibility, the *Operators.match()* operator may also be used."
   ]
  }
 ],
 "metadata": {
  "language_info": {
   "name": "python"
  },
  "orig_nbformat": 4
 },
 "nbformat": 4,
 "nbformat_minor": 2
}
