{
 "cells": [
  {
   "cell_type": "markdown",
   "metadata": {},
   "source": [
    "**DBAPI Support :**\n",
    "\n",
    " - psycopg2\n",
    " - psycopg (a.k.a. psycopg 3)\n",
    " - pg8000\n",
    " - asyncpg\n",
    " - psycopg2cffi"
   ]
  }
 ],
 "metadata": {
  "language_info": {
   "name": "python"
  },
  "orig_nbformat": 4
 },
 "nbformat": 4,
 "nbformat_minor": 2
}
