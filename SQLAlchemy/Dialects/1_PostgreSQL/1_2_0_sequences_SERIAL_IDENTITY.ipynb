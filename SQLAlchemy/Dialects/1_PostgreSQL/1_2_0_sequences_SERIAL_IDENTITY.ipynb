{
 "cells": [
  {
   "cell_type": "markdown",
   "metadata": {},
   "source": [
    "**Sequences/SERIAL/IDENTITY :**\n",
    "\n",
    "//sequence number generator\n",
    "//SERIAL type: It is used to define a column of the table as an auto-increment column\n",
    "\n",
    "SQLAlchemy uses *sequences* as the default means of creating new primary key values for integer-based primary key columns.\n",
    "\n",
    "SQLAlchemy will issue the *SERIAL* datatype for *integer-based* primary key columns.\n",
    "\n",
    "\n",
    "To specify a specific *named sequence* to be used for primary key generation, use the *Sequence()* constr\n",
    "uct:"
   ]
  },
  {
   "cell_type": "code",
   "execution_count": null,
   "metadata": {},
   "outputs": [],
   "source": [
    "from sqlalchemy.schema import Table, Column\n",
    "from sqlalchemy import Integer, Sequence\n",
    "\n",
    "sometable = Table(\n",
    "    \"sometable\",\n",
    "    metadata,\n",
    "    Column(\n",
    "        \"id\", Integer, Sequence(\"some_id_seq\", start=1), primary_key=True\n",
    "    )\n",
    ")"
   ]
  },
  {
   "cell_type": "code",
   "execution_count": null,
   "metadata": {},
   "outputs": [],
   "source": [
    "# ME : تلاش برای مشاهده نوع های مختلف دنباله \n",
    "\n",
    "\n",
    "from sqlalchemy.schema import Table, Column, MetaData\n",
    "from sqlalchemy import Integer, Sequence, URL, create_engine, insert\n",
    "\n",
    "url = URL.create(\n",
    "    drivername=\"postgresql\",\n",
    "    username=\"postgres\",\n",
    "    password=\"1234\",\n",
    "    host=\"192.168.0.8\",\n",
    "    port=\"5432\",\n",
    "    database=\"tests\"\n",
    ")\n",
    "\n",
    "engine = create_engine(url)\n",
    "metadata = MetaData()\n",
    "\n",
    "sometable = Table(\n",
    "    \"sometable\",\n",
    "    metadata,\n",
    "    Column(\n",
    "        \"id\", Integer, Sequence(\"some_id_seq\", start=1, increment= 2), primary_key=True\n",
    "    ),\n",
    "    # ME : if we insert values more than maxvalue we will get following error : SequenceGeneratorLimitExceeded: nextval: reached maximum value of sequence \"some_id_seq_max\" (20) \n",
    "    # if we set cycle=True, maxvalue = 30 we will get following error:  UniqueViolation: duplicate key value violates unique constraint \"some_table_2_pkey\"\n",
    "    # cycle به چه دردی میخوره پس ؟ \n",
    "\n",
    "    Column(\n",
    "        \"num\", Integer\n",
    "    )\n",
    ")\n",
    "\n",
    "sometable.create(engine)\n",
    "\n",
    "with engine.connect() as conn :\n",
    "    conn.execute(\n",
    "            insert(sometable),\n",
    "            [{\"num\" : i} for i in range(100)]\n",
    "        )\n",
    "\n",
    "    conn.commit()"
   ]
  }
 ],
 "metadata": {
  "kernelspec": {
   "display_name": "documents-61uQ3X5r-py3.10",
   "language": "python",
   "name": "python3"
  },
  "language_info": {
   "codemirror_mode": {
    "name": "ipython",
    "version": 3
   },
   "file_extension": ".py",
   "mimetype": "text/x-python",
   "name": "python",
   "nbconvert_exporter": "python",
   "pygments_lexer": "ipython3",
   "version": "3.10.12"
  },
  "orig_nbformat": 4
 },
 "nbformat": 4,
 "nbformat_minor": 2
}
