{
 "cells": [
  {
   "cell_type": "markdown",
   "metadata": {},
   "source": [
    "**Server Side Cursors :**\n",
    "\n",
    "Server-side cursor support is available for the *psycopg2*, *asyncpg* dialects and may also be available in others.\n",
    "\n",
    "by using the Connection.execution_options.stream_results connection execution option:"
   ]
  },
  {
   "cell_type": "code",
   "execution_count": null,
   "metadata": {},
   "outputs": [],
   "source": [
    "with engine.connect() as conn:\n",
    "    result = conn.execution_options(stream_results=True).execute(text(\"select * from table\"))"
   ]
  },
  {
   "cell_type": "markdown",
   "metadata": {},
   "source": [
    "Note that some kinds of SQL statements may *not be supported with server side cursors*; generally, only SQL statements that return rows should be used with this option."
   ]
  }
 ],
 "metadata": {
  "language_info": {
   "name": "python"
  },
  "orig_nbformat": 4
 },
 "nbformat": 4,
 "nbformat_minor": 2
}
