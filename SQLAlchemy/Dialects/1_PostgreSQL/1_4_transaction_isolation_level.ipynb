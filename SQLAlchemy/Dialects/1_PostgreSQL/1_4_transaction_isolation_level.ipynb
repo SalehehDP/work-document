{
 "cells": [
  {
   "cell_type": "markdown",
   "metadata": {},
   "source": [
    "**Transaction Isolation Level :**\n",
    "\n",
    "setting of transaction isolation level : \n",
    " - create_engine.isolation_level parameter at the *create_engine() level*\n",
    " - Connection.execution_options.isolation_level parameter at the *Connection level* \n",
    "\n",
    "\n",
    "See the discussion at *Setting Transaction Isolation Levels including DBAPI Autocommit* for more.\n",
    "\n",
    "Valid values for *isolation_level* on most PostgreSQL dialects include:\n",
    "\n",
    " - READ COMMITTED\n",
    " - READ UNCOMMITTED\n",
    " - REPEATABLE READ\n",
    " - SERIALIZABLE\n",
    " - AUTOCOMMIT"
   ]
  }
 ],
 "metadata": {
  "language_info": {
   "name": "python"
  },
  "orig_nbformat": 4
 },
 "nbformat": 4,
 "nbformat_minor": 2
}
