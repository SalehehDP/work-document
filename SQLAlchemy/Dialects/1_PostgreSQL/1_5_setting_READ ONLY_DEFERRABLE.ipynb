{
 "cells": [
  {
   "cell_type": "markdown",
   "metadata": {},
   "source": [
    "**Setting READ ONLY / DEFERRABLE :**\n",
    "\n",
    "*Most* PostgreSQL dialects support setting the *“READ ONLY” and “DEFERRABLE”* characteristics of the transaction, which is in addition to the isolation level setting.\n",
    "\n",
    "These two attributes can be established either in conjunction with or independently of the isolation level by passing the *postgresql_readonly and postgresql_deferrable* flags with Connection.execution_options()."
   ]
  },
  {
   "cell_type": "code",
   "execution_count": null,
   "metadata": {},
   "outputs": [],
   "source": [
    "with engine.connect() as conn:\n",
    "    conn = conn.execution_options(\n",
    "        isolation_level=\"SERIALIZABLE\",\n",
    "        postgresql_readonly=True,\n",
    "        postgresql_deferrable=True\n",
    "    )\n",
    "    with conn.begin():\n",
    "        #  ... work with transaction"
   ]
  },
  {
   "cell_type": "markdown",
   "metadata": {},
   "source": [
    "Note that some DBAPIs such as *asyncpg* only support “readonly” with SERIALIZABLE isolation."
   ]
  }
 ],
 "metadata": {
  "language_info": {
   "name": "python"
  },
  "orig_nbformat": 4
 },
 "nbformat": 4,
 "nbformat_minor": 2
}
