{
 "cells": [
  {
   "cell_type": "markdown",
   "metadata": {},
   "source": [
    "**INSERT/UPDATE…RETURNING :**\n",
    "\n",
    "The dialect supports PG 8.2’s *INSERT..RETURNING*, *UPDATE..RETURNING* and *DELETE..RETURNING* syntaxes.\n",
    "\n",
    "\n",
    "To specify an explicit RETURNING clause, use the _UpdateBase.returning() method on a per-statement basis:"
   ]
  },
  {
   "cell_type": "code",
   "execution_count": 12,
   "metadata": {},
   "outputs": [
    {
     "ename": "AttributeError",
     "evalue": "'Delete' object has no attribute 'fetchall'",
     "output_type": "error",
     "traceback": [
      "\u001b[0;31m---------------------------------------------------------------------------\u001b[0m",
      "\u001b[0;31mAttributeError\u001b[0m                            Traceback (most recent call last)",
      "Cell \u001b[0;32mIn[12], line 41\u001b[0m\n\u001b[1;32m     36\u001b[0m \u001b[39m#print(result.fetchall())  # 'Update' object has no attribute 'fetchall'\u001b[39;00m\n\u001b[1;32m     37\u001b[0m \n\u001b[1;32m     38\u001b[0m \u001b[39m# DELETE..RETURNING\u001b[39;00m\n\u001b[1;32m     39\u001b[0m result \u001b[39m=\u001b[39m table\u001b[39m.\u001b[39mdelete()\u001b[39m.\u001b[39mreturning(table\u001b[39m.\u001b[39mc\u001b[39m.\u001b[39mid, table\u001b[39m.\u001b[39mc\u001b[39m.\u001b[39mdata)\u001b[39m.\u001b[39m\\\n\u001b[1;32m     40\u001b[0m     where(table\u001b[39m.\u001b[39mc\u001b[39m.\u001b[39mid\u001b[39m==\u001b[39m\u001b[39m1\u001b[39m)\n\u001b[0;32m---> 41\u001b[0m \u001b[39mprint\u001b[39m(result\u001b[39m.\u001b[39;49mfetchall())\n",
      "\u001b[0;31mAttributeError\u001b[0m: 'Delete' object has no attribute 'fetchall'"
     ]
    }
   ],
   "source": [
    "from sqlalchemy import Table, Column, MetaData, Integer, Identity, String, create_engine, URL\n",
    "\n",
    "\n",
    "url = URL.create(\n",
    "    drivername=\"postgresql\",\n",
    "    username=\"postgres\",\n",
    "    password=\"1234\",\n",
    "    host=\"192.168.0.8\",\n",
    "    port=\"5432\",\n",
    "    database=\"tests\"\n",
    ")\n",
    "\n",
    "engine = create_engine(url)\n",
    "\n",
    "metadata = MetaData()\n",
    "table = Table(\n",
    "    \"data\",\n",
    "    metadata,\n",
    "    Column('id', Integer, primary_key=True),\n",
    "    Column('data', String)\n",
    ")\n",
    "\n",
    "#table.create(engine)\n",
    "\n",
    "with engine.begin() as conn :\n",
    "    conn.execute(table.insert(), [{\"data\": \"some data 1\"}, {\"data\": \"some data 2\"}])\n",
    "\n",
    "# INSERT..RETURNING\n",
    "result = table.insert().returning(table.c.id, table.c.data).values(data=\"some data 3\")\n",
    "\n",
    "print(result.fetchall()) # AttributeError: 'Insert' object has no attribute 'fetchall'\n",
    "\n",
    "# UPDATE..RETURNING\n",
    "result = table.update().returning(table.c.id, table.c.data).\\\n",
    "    where(table.c.id==1).values(data='bar')\n",
    "print(result.fetchall())  # AttributeError: 'Update' object has no attribute 'fetchall'\n",
    "\n",
    "# DELETE..RETURNING\n",
    "result = table.delete().returning(table.c.id, table.c.data).\\\n",
    "    where(table.c.id==1)\n",
    "print(result.fetchall()) # AttributeError: 'Delete' object has no attribute 'fetchall'"
   ]
  }
 ],
 "metadata": {
  "kernelspec": {
   "display_name": "documents-61uQ3X5r-py3.10",
   "language": "python",
   "name": "python3"
  },
  "language_info": {
   "codemirror_mode": {
    "name": "ipython",
    "version": 3
   },
   "file_extension": ".py",
   "mimetype": "text/x-python",
   "name": "python",
   "nbconvert_exporter": "python",
   "pygments_lexer": "ipython3",
   "version": "3.10.12"
  },
  "orig_nbformat": 4
 },
 "nbformat": 4,
 "nbformat_minor": 2
}
