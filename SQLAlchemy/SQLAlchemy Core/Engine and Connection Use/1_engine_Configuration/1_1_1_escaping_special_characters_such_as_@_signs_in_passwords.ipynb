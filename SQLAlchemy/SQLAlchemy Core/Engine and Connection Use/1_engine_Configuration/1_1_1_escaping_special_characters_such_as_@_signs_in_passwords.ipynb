{
 "cells": [
  {
   "cell_type": "markdown",
   "metadata": {},
   "source": [
    "**Escaping Special Characters such as @ signs in Passwords:**\n",
    "\n",
    "\"kx@jj5/g\" => kx%40jj5%2Fg (@ = > %40 , / => %2)\n",
    "\n",
    "The encoding for the above password can be generated using *urllib.parse*:"
   ]
  },
  {
   "cell_type": "code",
   "execution_count": 1,
   "metadata": {},
   "outputs": [
    {
     "data": {
      "text/plain": [
       "'kx%40jj5%2Fg'"
      ]
     },
     "execution_count": 1,
     "metadata": {},
     "output_type": "execute_result"
    }
   ],
   "source": [
    "import urllib.parse\n",
    "urllib.parse.quote_plus(\"kx@jj5/g\")"
   ]
  },
  {
   "cell_type": "markdown",
   "metadata": {},
   "source": [
    "bypasses the parsing phase and can accommodate for unescaped strings directly."
   ]
  }
 ],
 "metadata": {
  "kernelspec": {
   "display_name": "documents-61uQ3X5r-py3.10",
   "language": "python",
   "name": "python3"
  },
  "language_info": {
   "codemirror_mode": {
    "name": "ipython",
    "version": 3
   },
   "file_extension": ".py",
   "mimetype": "text/x-python",
   "name": "python",
   "nbconvert_exporter": "python",
   "pygments_lexer": "ipython3",
   "version": "3.10.12"
  },
  "orig_nbformat": 4
 },
 "nbformat": 4,
 "nbformat_minor": 2
}
