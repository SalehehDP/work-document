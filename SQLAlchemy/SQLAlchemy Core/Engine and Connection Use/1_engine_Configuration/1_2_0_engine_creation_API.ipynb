{
 "cells": [
  {
   "cell_type": "markdown",
   "metadata": {},
   "source": [
    "| Object Name | Description | \n",
    "| --- | --- | \n",
    "| create_engine(url, **kwargs) | Create a new Engine instance. | \n",
    "| create_mock_engine(url, executor, **kw) | Create a “mock” engine used for echoing DDL. | \n",
    "| create_pool_from_url(url, **kwargs) | Create a pool instance from the given url. | \n",
    "| engine_from_config(configuration[, prefix], **kwargs) | Create a new Engine instance using a configuration dictionary. | \n",
    "| make_url(name_or_url) | Given a string, produce a new URL instance. |\n",
    "| URL | Represent the components of a URL used to connect to a database. | "
   ]
  }
 ],
 "metadata": {
  "language_info": {
   "name": "python"
  },
  "orig_nbformat": 4
 },
 "nbformat": 4,
 "nbformat_minor": 2
}
