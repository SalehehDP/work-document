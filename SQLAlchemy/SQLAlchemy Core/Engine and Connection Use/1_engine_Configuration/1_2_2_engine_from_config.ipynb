{
 "cells": [
  {
   "cell_type": "markdown",
   "metadata": {},
   "source": [
    "**engine_from_config:**\n",
    "\n",
    "function sqlalchemy.engine_from_config(configuration: Dict[str, Any], prefix: str = 'sqlalchemy.', **kwargs: Any) → Engine\n",
    "\n",
    "\n",
    "Create a new Engine instance using a configuration dictionary.\n",
    "The keys should be prefixed, e.g. sqlalchemy.url, sqlalchemy.echo, etc. \n",
    "The only required key is (assuming the default prefix) sqlalchemy.url.\n",
    "\n",
    "*Parameters:*\n",
    "\n",
    " - *configuration* \n",
    "\n",
    " - *prefix* – Prefix to match and then strip from keys in ‘configuration’.\n",
    "\n",
    " - *kwargs* – Each keyword argument to engine_from_config() itself overrides the corresponding item taken from the ‘configuration’ dictionary. Keyword arguments should not be prefixed."
   ]
  },
  {
   "cell_type": "code",
   "execution_count": 2,
   "metadata": {},
   "outputs": [],
   "source": [
    "from sqlalchemy import  engine_from_config"
   ]
  }
 ],
 "metadata": {
  "kernelspec": {
   "display_name": "documents-61uQ3X5r-py3.10",
   "language": "python",
   "name": "python3"
  },
  "language_info": {
   "codemirror_mode": {
    "name": "ipython",
    "version": 3
   },
   "file_extension": ".py",
   "mimetype": "text/x-python",
   "name": "python",
   "nbconvert_exporter": "python",
   "pygments_lexer": "ipython3",
   "version": "3.10.12"
  },
  "orig_nbformat": 4
 },
 "nbformat": 4,
 "nbformat_minor": 2
}
