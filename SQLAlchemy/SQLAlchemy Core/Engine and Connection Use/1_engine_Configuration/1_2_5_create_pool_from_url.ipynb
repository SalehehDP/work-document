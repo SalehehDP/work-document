{
 "cells": [
  {
   "cell_type": "markdown",
   "metadata": {},
   "source": [
    "**create_pool_from_url:**\n",
    "\n",
    "function sqlalchemy.create_pool_from_url(url: str | URL, **kwargs: Any) → Pool\n",
    "\n",
    "Create a pool instance from the given url.\n",
    "\n",
    "If poolclass is not provided the pool class used is selected using the dialect specified in the URL.  ME : ? when to use ?  "
   ]
  },
  {
   "cell_type": "code",
   "execution_count": 3,
   "metadata": {},
   "outputs": [],
   "source": [
    "from sqlalchemy import URL , create_engine , create_pool_from_url\n",
    "\n",
    "\n",
    "url = URL.create(\n",
    "    drivername=\"postgresql\",\n",
    "    username=\"postgres\",\n",
    "    host=\"192.168.0.8\",\n",
    "    port=\"5432\",\n",
    "    password=\"1234\",\n",
    "    database=\"tests\"\n",
    ") \n",
    "\n",
    "pool = create_pool_from_url(url)\n",
    "\n",
    "engine = create_engine(url , pool= pool)\n"
   ]
  }
 ],
 "metadata": {
  "kernelspec": {
   "display_name": "documents-61uQ3X5r-py3.10",
   "language": "python",
   "name": "python3"
  },
  "language_info": {
   "codemirror_mode": {
    "name": "ipython",
    "version": 3
   },
   "file_extension": ".py",
   "mimetype": "text/x-python",
   "name": "python",
   "nbconvert_exporter": "python",
   "pygments_lexer": "ipython3",
   "version": "3.10.12"
  },
  "orig_nbformat": 4
 },
 "nbformat": 4,
 "nbformat_minor": 2
}
