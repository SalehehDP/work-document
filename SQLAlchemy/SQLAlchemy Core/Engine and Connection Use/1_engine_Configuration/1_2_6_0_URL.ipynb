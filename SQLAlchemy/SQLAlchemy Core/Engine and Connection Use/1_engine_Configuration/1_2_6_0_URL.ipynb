{
 "cells": [
  {
   "cell_type": "markdown",
   "metadata": {},
   "source": [
    "**URL:**\n",
    "class sqlalchemy.engine.URL\n",
    "\n",
    "Represent the components of a URL used to connect to a database.\n",
    "\n",
    "make_url() function is used internally by the create_engine() function in order to parse the URL string into its individual components, \n",
    "\n",
    "The URL object is now an *immutable* object.\n",
    "\n",
    "/ To *create* a URL, use the make_url() or URL.create() function method.\n",
    "/ To *modify* a URL, use methods like URL.set() and URL.update_query_dict()\n",
    "\n",
    "\n",
    "URL contains the following attributes:\n",
    "\n",
    "- *URL.drivername*: database backend and driver name, such as postgresql+psycopg2\n",
    "\n",
    "- *URL.username*: username string\n",
    "\n",
    "- *URL.password*: password string\n",
    "\n",
    "- *URL.host*: string hostname , hostname or IP number. May also be a data source name for some drivers.\n",
    "\n",
    "- *URL.port*: integer port number\n",
    "\n",
    "- *URL.database*: string database name\n",
    "\n",
    "- *URL.query* "
   ]
  }
 ],
 "metadata": {
  "language_info": {
   "name": "python"
  },
  "orig_nbformat": 4
 },
 "nbformat": 4,
 "nbformat_minor": 2
}
