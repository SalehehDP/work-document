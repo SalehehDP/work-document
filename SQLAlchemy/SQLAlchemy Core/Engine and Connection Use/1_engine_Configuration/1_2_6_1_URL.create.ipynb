{
 "cells": [
  {
   "cell_type": "markdown",
   "metadata": {},
   "source": [
    "**create:**\n",
    "\n",
    "classmethod sqlalchemy.engine.URL.create(drivername: str, username: str | None = None, password: str | None = None, host: str | None = None, port: int | None = None, database: str | None = None, query: Mapping[str, Sequence[str] | str] = {}) → URL\n",
    "\n",
    "Create a new URL object.\n",
    "\n",
    "*Parameters:*\n",
    "\n",
    "- *drivername* \n",
    "\n",
    "- *username* \n",
    "\n",
    "- *password* – database password. Is typically a string, but may also be an object that can be stringified with str().\n",
    "\n",
    "! Note : For dynamic password generation per connect, see Generating dynamic authentication tokens.\n",
    "\n",
    "- *host*\n",
    "\n",
    "- *port* \n",
    "\n",
    "- *database* \n",
    "\n",
    "- *query* – A dictionary of string keys to string values to be passed to the dialect and/or the DBAPI upon connect.\n",
    "\n",
    "In addition, the query dictionary is also immutable."
   ]
  }
 ],
 "metadata": {
  "language_info": {
   "name": "python"
  },
  "orig_nbformat": 4
 },
 "nbformat": 4,
 "nbformat_minor": 2
}
