{
 "cells": [
  {
   "cell_type": "markdown",
   "metadata": {},
   "source": [
    "**Pooling:**\n",
    "\n",
    "*connect() or execute()* methods are called => The Engine will ask the connection pool for a connection\n",
    "\n",
    "The default connection pool, *QueuePool*\n",
    "\n",
    "QueuePool will grow its pool of connections to a default size of five, and will allow a default “overflow” of ten.\n",
    "\n",
    "you should keep a *single Engine* per database established within an application, rather than creating a new one for each connection.\n",
    "\n",
    "Note : QueuePool is not used by default for SQLite engines"
   ]
  }
 ],
 "metadata": {
  "language_info": {
   "name": "python"
  },
  "orig_nbformat": 4
 },
 "nbformat": 4,
 "nbformat_minor": 2
}
