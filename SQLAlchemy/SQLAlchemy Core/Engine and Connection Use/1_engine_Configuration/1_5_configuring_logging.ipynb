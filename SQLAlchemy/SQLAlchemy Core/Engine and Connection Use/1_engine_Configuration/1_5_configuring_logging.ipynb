{
 "cells": [
  {
   "cell_type": "markdown",
   "metadata": {},
   "source": [
    "**Configuring Logging:**\n",
    "\n",
    "Python’s standard logging module is used\n",
    "\n",
    "create_engine.echo and create_engine.echo_pool present on create_engine() which allow *immediate logging* to sys.stdout for the purposes of local development\n",
    "\n",
    "logging.getLogger('sqlalchemy')\n",
    "\n",
    "- sqlalchemy.engine - controls *SQL echoing*. echo=True , echo=\"debug\" => Set to logging.INFO for SQL query output, logging.DEBUG for query + result set output.\n",
    "\n",
    "- sqlalchemy.pool - controls connection *pool logging*.  pool_echo=True , pool_echo=\"debug\"\n",
    "\n",
    "- sqlalchemy.dialects\n",
    "\n",
    "- sqlalchemy.orm \n",
    "\n",
    "For example, to log SQL queries using Python logging instead of the echo=True flag:"
   ]
  },
  {
   "cell_type": "code",
   "execution_count": 1,
   "metadata": {},
   "outputs": [],
   "source": [
    "import logging\n",
    "\n",
    "logging.basicConfig()\n",
    "logging.getLogger(\"sqlalchemy.engine\").setLevel(logging.INFO)"
   ]
  },
  {
   "cell_type": "markdown",
   "metadata": {},
   "source": [
    "*More on the Echo Flag:*"
   ]
  },
  {
   "cell_type": "code",
   "execution_count": 7,
   "metadata": {},
   "outputs": [
    {
     "name": "stderr",
     "output_type": "stream",
     "text": [
      "DEBUG:sqlalchemy.pool.impl.QueuePool:Created new connection <connection object at 0x7f593d8a2c00; dsn: 'user=postgres password=xxx dbname=tests host=192.168.0.8 port=5432', closed: 0>\n"
     ]
    },
    {
     "name": "stdout",
     "output_type": "stream",
     "text": [
      "2023-09-02 13:31:03,525 INFO sqlalchemy.engine.Engine select pg_catalog.version()\n"
     ]
    },
    {
     "name": "stderr",
     "output_type": "stream",
     "text": [
      "INFO:sqlalchemy.engine.Engine:select pg_catalog.version()\n"
     ]
    },
    {
     "name": "stdout",
     "output_type": "stream",
     "text": [
      "2023-09-02 13:31:03,534 INFO sqlalchemy.engine.Engine [raw sql] {}\n"
     ]
    },
    {
     "name": "stderr",
     "output_type": "stream",
     "text": [
      "INFO:sqlalchemy.engine.Engine:[raw sql] {}\n"
     ]
    },
    {
     "name": "stdout",
     "output_type": "stream",
     "text": [
      "2023-09-02 13:31:03,545 INFO sqlalchemy.engine.Engine select current_schema()\n"
     ]
    },
    {
     "name": "stderr",
     "output_type": "stream",
     "text": [
      "INFO:sqlalchemy.engine.Engine:select current_schema()\n"
     ]
    },
    {
     "name": "stdout",
     "output_type": "stream",
     "text": [
      "2023-09-02 13:31:03,549 INFO sqlalchemy.engine.Engine [raw sql] {}\n"
     ]
    },
    {
     "name": "stderr",
     "output_type": "stream",
     "text": [
      "INFO:sqlalchemy.engine.Engine:[raw sql] {}\n"
     ]
    },
    {
     "name": "stdout",
     "output_type": "stream",
     "text": [
      "2023-09-02 13:31:03,556 INFO sqlalchemy.engine.Engine show standard_conforming_strings\n"
     ]
    },
    {
     "name": "stderr",
     "output_type": "stream",
     "text": [
      "INFO:sqlalchemy.engine.Engine:show standard_conforming_strings\n"
     ]
    },
    {
     "name": "stdout",
     "output_type": "stream",
     "text": [
      "2023-09-02 13:31:03,559 INFO sqlalchemy.engine.Engine [raw sql] {}\n"
     ]
    },
    {
     "name": "stderr",
     "output_type": "stream",
     "text": [
      "INFO:sqlalchemy.engine.Engine:[raw sql] {}\n",
      "DEBUG:sqlalchemy.pool.impl.QueuePool:Connection <connection object at 0x7f593d8a2c00; dsn: 'user=postgres password=xxx dbname=tests host=192.168.0.8 port=5432', closed: 0> checked out from pool\n",
      "WARNING:root:Warning\n"
     ]
    },
    {
     "name": "stdout",
     "output_type": "stream",
     "text": [
      "2023-09-02 13:31:03,567 INFO sqlalchemy.engine.Engine BEGIN (implicit)\n"
     ]
    },
    {
     "name": "stderr",
     "output_type": "stream",
     "text": [
      "INFO:sqlalchemy.engine.Engine:BEGIN (implicit)\n"
     ]
    },
    {
     "name": "stdout",
     "output_type": "stream",
     "text": [
      "2023-09-02 13:31:03,570 INFO sqlalchemy.engine.Engine SELECT t1.name \n",
      "FROM t1 \n",
      "WHERE t1.name = %(name_1)s\n"
     ]
    },
    {
     "name": "stderr",
     "output_type": "stream",
     "text": [
      "INFO:sqlalchemy.engine.Engine:SELECT t1.name \n",
      "FROM t1 \n",
      "WHERE t1.name = %(name_1)s\n"
     ]
    },
    {
     "name": "stdout",
     "output_type": "stream",
     "text": [
      "2023-09-02 13:31:03,573 INFO sqlalchemy.engine.Engine [generated in 0.00650s] {'name_1': 'some name 1'}\n"
     ]
    },
    {
     "name": "stderr",
     "output_type": "stream",
     "text": [
      "INFO:sqlalchemy.engine.Engine:[generated in 0.00650s] {'name_1': 'some name 1'}\n"
     ]
    },
    {
     "name": "stdout",
     "output_type": "stream",
     "text": [
      "2023-09-02 13:31:03,582 INFO sqlalchemy.engine.Engine ROLLBACK\n"
     ]
    },
    {
     "name": "stderr",
     "output_type": "stream",
     "text": [
      "INFO:sqlalchemy.engine.Engine:ROLLBACK\n",
      "DEBUG:sqlalchemy.pool.impl.QueuePool:Connection <connection object at 0x7f593d8a2c00; dsn: 'user=postgres password=xxx dbname=tests host=192.168.0.8 port=5432', closed: 0> being returned to pool\n",
      "DEBUG:sqlalchemy.pool.impl.QueuePool:Connection <connection object at 0x7f593d8a2c00; dsn: 'user=postgres password=xxx dbname=tests host=192.168.0.8 port=5432', closed: 0> reset, transaction already reset\n"
     ]
    }
   ],
   "source": [
    "import logging \n",
    "from sqlalchemy import create_engine, URL, String, select \n",
    "from sqlalchemy import Table, Column, MetaData \n",
    "\n",
    "e = create_engine(\"sqlite://\", echo=True, echo_pool=\"debug\")\n",
    "\n",
    "# equivalent\n",
    "\n",
    "logging.basicConfig()\n",
    "logging.getLogger(\"sqlalchemy.engine\").setLevel(logging.INFO)\n",
    "logging.getLogger(\"sqlalchemy.pool\").setLevel(logging.DEBUG)\n",
    "\n",
    "\n",
    "url = URL.create(\n",
    "    drivername=\"postgresql\",\n",
    "    username=\"postgres\",\n",
    "    host=\"192.168.0.8\",\n",
    "    port=\"5432\",\n",
    "    password=\"1234\",\n",
    "    database=\"tests\"\n",
    ")\n",
    "\n",
    "engine = create_engine(url)\n",
    "meta = MetaData()\n",
    "t1 = Table(\"t1\", meta, Column(\"name\", String(50), primary_key=True))\n",
    "\n",
    "\n",
    "with engine.connect() as conn:\n",
    "    logging.warning(\"Warning\")\n",
    "    conn.execute(select(t1).where(t1.c.name == \"some name 1\"))\n"
   ]
  },
  {
   "cell_type": "markdown",
   "metadata": {},
   "source": [
    "  It’s important to note that these *two flags work independently* of any existing logging configuration, and will make use of logging.basicConfig() *unconditionally*. This has the effect of being configured in addition to any existing logger configurations. Therefore, when configuring logging explicitly, *ensure all echo flags are set to False* at all times, to avoid getting duplicate log lines.\n",
    "\n",
    "*Setting the Logging Name:*\n",
    "\n",
    "  use the create_engine.logging_name and create_engine.pool_logging_name\n",
    "\n",
    "\n",
    "*Setting Per-Connection / Sub-Engine Tokens:*\n",
    "\n",
    "  logging name is not flexible enough for the case of tracking individual connections and/or transactions in log messages.\n",
    "  \n",
    "  Connection.*execution_options.logging_token* may be used to establish per-connection tracking tokens\n",
    "\n",
    "*Hiding Parameters:*\n",
    "\n",
    "  prevent these parameters from being logged for privacy purposes, enable the create_engine.hide_parameters flag"
   ]
  },
  {
   "cell_type": "code",
   "execution_count": 8,
   "metadata": {},
   "outputs": [
    {
     "name": "stdout",
     "output_type": "stream",
     "text": [
      "2023-09-02 13:31:04,442 DEBUG sqlalchemy.pool.impl.SingletonThreadPool Created new connection <sqlite3.Connection object at 0x7f593d89f340>\n"
     ]
    },
    {
     "name": "stderr",
     "output_type": "stream",
     "text": [
      "DEBUG:sqlalchemy.pool.impl.SingletonThreadPool:Created new connection <sqlite3.Connection object at 0x7f593d89f340>\n"
     ]
    },
    {
     "name": "stdout",
     "output_type": "stream",
     "text": [
      "2023-09-02 13:31:04,445 DEBUG sqlalchemy.pool.impl.SingletonThreadPool Connection <sqlite3.Connection object at 0x7f593d89f340> checked out from pool\n"
     ]
    },
    {
     "name": "stderr",
     "output_type": "stream",
     "text": [
      "DEBUG:sqlalchemy.pool.impl.SingletonThreadPool:Connection <sqlite3.Connection object at 0x7f593d89f340> checked out from pool\n"
     ]
    },
    {
     "name": "stdout",
     "output_type": "stream",
     "text": [
      "2023-09-02 13:31:04,446 DEBUG sqlalchemy.pool.impl.SingletonThreadPool Connection <sqlite3.Connection object at 0x7f593d89f340> being returned to pool\n"
     ]
    },
    {
     "name": "stderr",
     "output_type": "stream",
     "text": [
      "DEBUG:sqlalchemy.pool.impl.SingletonThreadPool:Connection <sqlite3.Connection object at 0x7f593d89f340> being returned to pool\n"
     ]
    },
    {
     "name": "stdout",
     "output_type": "stream",
     "text": [
      "2023-09-02 13:31:04,448 DEBUG sqlalchemy.pool.impl.SingletonThreadPool Connection <sqlite3.Connection object at 0x7f593d89f340> rollback-on-return\n"
     ]
    },
    {
     "name": "stderr",
     "output_type": "stream",
     "text": [
      "DEBUG:sqlalchemy.pool.impl.SingletonThreadPool:Connection <sqlite3.Connection object at 0x7f593d89f340> rollback-on-return\n"
     ]
    },
    {
     "ename": "ObjectNotExecutableError",
     "evalue": "Not an executable object: 'select 1'",
     "output_type": "error",
     "traceback": [
      "\u001b[0;31m---------------------------------------------------------------------------\u001b[0m",
      "\u001b[0;31mAttributeError\u001b[0m                            Traceback (most recent call last)",
      "File \u001b[0;32m~/.cache/pypoetry/virtualenvs/documents-61uQ3X5r-py3.10/lib/python3.10/site-packages/sqlalchemy/engine/base.py:1408\u001b[0m, in \u001b[0;36mConnection.execute\u001b[0;34m(self, statement, parameters, execution_options)\u001b[0m\n\u001b[1;32m   1407\u001b[0m \u001b[39mtry\u001b[39;00m:\n\u001b[0;32m-> 1408\u001b[0m     meth \u001b[39m=\u001b[39m statement\u001b[39m.\u001b[39;49m_execute_on_connection\n\u001b[1;32m   1409\u001b[0m \u001b[39mexcept\u001b[39;00m \u001b[39mAttributeError\u001b[39;00m \u001b[39mas\u001b[39;00m err:\n",
      "\u001b[0;31mAttributeError\u001b[0m: 'str' object has no attribute '_execute_on_connection'",
      "\nThe above exception was the direct cause of the following exception:\n",
      "\u001b[0;31mObjectNotExecutableError\u001b[0m                  Traceback (most recent call last)",
      "Cell \u001b[0;32mIn[8], line 6\u001b[0m\n\u001b[1;32m      4\u001b[0m e \u001b[39m=\u001b[39m create_engine(\u001b[39m\"\u001b[39m\u001b[39msqlite://\u001b[39m\u001b[39m\"\u001b[39m, echo\u001b[39m=\u001b[39m\u001b[39m\"\u001b[39m\u001b[39mdebug\u001b[39m\u001b[39m\"\u001b[39m)\n\u001b[1;32m      5\u001b[0m \u001b[39mwith\u001b[39;00m e\u001b[39m.\u001b[39mconnect()\u001b[39m.\u001b[39mexecution_options(logging_token\u001b[39m=\u001b[39m\u001b[39m\"\u001b[39m\u001b[39mtrack1\u001b[39m\u001b[39m\"\u001b[39m) \u001b[39mas\u001b[39;00m conn:\n\u001b[0;32m----> 6\u001b[0m     conn\u001b[39m.\u001b[39;49mexecute(\u001b[39m\"\u001b[39;49m\u001b[39mselect 1\u001b[39;49m\u001b[39m\"\u001b[39;49m)\u001b[39m.\u001b[39mall()\n\u001b[1;32m      9\u001b[0m e1 \u001b[39m=\u001b[39m e\u001b[39m.\u001b[39mexecution_options(logging_token\u001b[39m=\u001b[39m\u001b[39m\"\u001b[39m\u001b[39mtrack1\u001b[39m\u001b[39m\"\u001b[39m)\n\u001b[1;32m     10\u001b[0m e2 \u001b[39m=\u001b[39m e\u001b[39m.\u001b[39mexecution_options(logging_token\u001b[39m=\u001b[39m\u001b[39m\"\u001b[39m\u001b[39mtrack2\u001b[39m\u001b[39m\"\u001b[39m)\n",
      "File \u001b[0;32m~/.cache/pypoetry/virtualenvs/documents-61uQ3X5r-py3.10/lib/python3.10/site-packages/sqlalchemy/engine/base.py:1410\u001b[0m, in \u001b[0;36mConnection.execute\u001b[0;34m(self, statement, parameters, execution_options)\u001b[0m\n\u001b[1;32m   1408\u001b[0m     meth \u001b[39m=\u001b[39m statement\u001b[39m.\u001b[39m_execute_on_connection\n\u001b[1;32m   1409\u001b[0m \u001b[39mexcept\u001b[39;00m \u001b[39mAttributeError\u001b[39;00m \u001b[39mas\u001b[39;00m err:\n\u001b[0;32m-> 1410\u001b[0m     \u001b[39mraise\u001b[39;00m exc\u001b[39m.\u001b[39mObjectNotExecutableError(statement) \u001b[39mfrom\u001b[39;00m \u001b[39merr\u001b[39;00m\n\u001b[1;32m   1411\u001b[0m \u001b[39melse\u001b[39;00m:\n\u001b[1;32m   1412\u001b[0m     \u001b[39mreturn\u001b[39;00m meth(\n\u001b[1;32m   1413\u001b[0m         \u001b[39mself\u001b[39m,\n\u001b[1;32m   1414\u001b[0m         distilled_parameters,\n\u001b[1;32m   1415\u001b[0m         execution_options \u001b[39mor\u001b[39;00m NO_OPTIONS,\n\u001b[1;32m   1416\u001b[0m     )\n",
      "\u001b[0;31mObjectNotExecutableError\u001b[0m: Not an executable object: 'select 1'"
     ]
    }
   ],
   "source": [
    "# Setting Per-Connection / Sub-Engine Tokens\n",
    "\n",
    "from sqlalchemy import create_engine\n",
    "e = create_engine(\"sqlite://\", echo=\"debug\")\n",
    "with e.connect().execution_options(logging_token=\"track1\") as conn:\n",
    "    conn.execute(\"select 1\").all()\n",
    "\n",
    "\n",
    "e1 = e.execution_options(logging_token=\"track1\")\n",
    "e2 = e.execution_options(logging_token=\"track2\")\n",
    "with e1.connect() as conn:\n",
    "    conn.execute(\"select 1\").all()\n",
    "\n",
    "with e2.connect() as conn:\n",
    "    conn.execute(\"select 2\").all()\n",
    "\n",
    "\n",
    "# Hiding Parameters:\n",
    "e = create_engine(\"sqlite://\", echo=True, hide_parameters=True)\n",
    "with e.connect() as conn:\n",
    "    conn.execute(text(\"select :some_private_name\"), {\"some_private_name\": \"pii\"})\n"
   ]
  }
 ],
 "metadata": {
  "kernelspec": {
   "display_name": "documents-61uQ3X5r-py3.10",
   "language": "python",
   "name": "python3"
  },
  "language_info": {
   "codemirror_mode": {
    "name": "ipython",
    "version": 3
   },
   "file_extension": ".py",
   "mimetype": "text/x-python",
   "name": "python",
   "nbconvert_exporter": "python",
   "pygments_lexer": "ipython3",
   "version": "3.10.12"
  },
  "orig_nbformat": 4
 },
 "nbformat": 4,
 "nbformat_minor": 2
}
