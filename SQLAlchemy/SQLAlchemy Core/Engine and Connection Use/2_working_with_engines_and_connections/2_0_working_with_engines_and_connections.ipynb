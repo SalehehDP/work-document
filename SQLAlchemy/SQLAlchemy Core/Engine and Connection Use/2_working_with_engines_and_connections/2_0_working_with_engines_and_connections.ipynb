{
 "cells": [
  {
   "cell_type": "markdown",
   "metadata": {},
   "source": [
    "resource : https://docs.sqlalchemy.org/en/20/core/connections.html"
   ]
  },
  {
   "cell_type": "markdown",
   "metadata": {},
   "source": [
    "**Working with Engines and Connections:**\n",
    "\n",
    "This section details direct usage of the *Engine*, *Connection*, and related objects.\n",
    "\n",
    "when using the *SQLAlchemy ORM*, these objects are not generally accessed; instead, the *Session* object is used.\n",
    "\n",
    "for applications that are built around direct usage of textual SQL statements and/or SQL expression constructs without involvement by the ORM’s higher level management services, *the Engine and Connection are king (and queen?)*"
   ]
  }
 ],
 "metadata": {
  "language_info": {
   "name": "python"
  },
  "orig_nbformat": 4
 },
 "nbformat": 4,
 "nbformat_minor": 2
}
