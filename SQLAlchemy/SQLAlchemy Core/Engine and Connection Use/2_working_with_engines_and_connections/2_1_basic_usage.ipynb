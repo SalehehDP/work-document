{
 "cells": [
  {
   "cell_type": "markdown",
   "metadata": {},
   "source": [
    "**Basic Usage:**\n",
    "\n",
    "The typical usage of create_engine() is *once* per particular database URL, held globally for the lifetime of a single application process. \n",
    "\n",
    "- A single Engine manages many individual DBAPI connections \n",
    "\n",
    "- The Engine is not synonymous to the DBAPI connect() function\n",
    "\n",
    "the Engine is most efficient when created just once at the module level of an application, not per-object or per-function call.\n",
    "\n",
    "TIP :  it’s important that the engine is initialized *per process*. See Using Connection Pools with Multiprocessing or os.fork() for details."
   ]
  },
  {
   "cell_type": "markdown",
   "metadata": {},
   "source": [
    "The most basic function of the *Engine* is to provide access to a *Connection*:"
   ]
  },
  {
   "cell_type": "code",
   "execution_count": 6,
   "metadata": {},
   "outputs": [
    {
     "name": "stdout",
     "output_type": "stream",
     "text": [
      "id: 1\n",
      "id: 2\n",
      "id: 3\n",
      "id: 5\n",
      "id: 6\n"
     ]
    }
   ],
   "source": [
    "from sqlalchemy import text , URL , create_engine\n",
    "\n",
    "\n",
    "url = URL.create(\n",
    "    drivername=\"postgresql\",\n",
    "    username=\"postgres\",\n",
    "    host=\"192.168.0.8\",\n",
    "    port=\"5432\",\n",
    "    password=\"1234\",\n",
    "    database=\"tests\"\n",
    ")\n",
    "\n",
    "engine = create_engine(url)\n",
    "\n",
    "with engine.connect() as connection:\n",
    "    result = connection.execute(text(\"select * from person\"))\n",
    "    for row in result:\n",
    "        print(\"id:\", row.id)"
   ]
  },
  {
   "cell_type": "markdown",
   "metadata": {},
   "source": [
    "Above, the Engine.connect() method returns a *Connection object*, and by using it in a Python context manager (e.g. the with: statement) the Connection.close() method is automatically invoked.\n",
    "\n",
    "The Connection, is a *proxy* object for an actual DBAPI connection. \n",
    "\n",
    "The object returned is known as *CursorResult*, which references a DBAPI cursor."
   ]
  }
 ],
 "metadata": {
  "kernelspec": {
   "display_name": "documents-61uQ3X5r-py3.10",
   "language": "python",
   "name": "python3"
  },
  "language_info": {
   "codemirror_mode": {
    "name": "ipython",
    "version": 3
   },
   "file_extension": ".py",
   "mimetype": "text/x-python",
   "name": "python",
   "nbconvert_exporter": "python",
   "pygments_lexer": "ipython3",
   "version": "3.10.12"
  },
  "orig_nbformat": 4
 },
 "nbformat": 4,
 "nbformat_minor": 2
}
