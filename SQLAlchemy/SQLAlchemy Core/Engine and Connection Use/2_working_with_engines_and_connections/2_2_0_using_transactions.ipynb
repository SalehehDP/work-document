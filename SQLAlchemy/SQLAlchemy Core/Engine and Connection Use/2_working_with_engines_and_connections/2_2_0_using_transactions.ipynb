{
 "cells": [
  {
   "cell_type": "markdown",
   "metadata": {},
   "source": [
    "**Using Transactions :**\n",
    "\n",
    "  - Commit As You Go\n",
    "  - Begin Once\n",
    "  - Connect and Begin Once from the Engine\n",
    "  - Mixing Styles"
   ]
  }
 ],
 "metadata": {
  "language_info": {
   "name": "python"
  },
  "orig_nbformat": 4
 },
 "nbformat": 4,
 "nbformat_minor": 2
}
