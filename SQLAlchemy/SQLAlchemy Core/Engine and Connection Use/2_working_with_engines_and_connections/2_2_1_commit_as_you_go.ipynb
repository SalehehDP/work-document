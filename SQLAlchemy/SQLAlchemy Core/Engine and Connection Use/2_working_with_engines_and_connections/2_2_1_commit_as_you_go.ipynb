{
 "cells": [
  {
   "cell_type": "markdown",
   "metadata": {},
   "source": [
    "- **Commit As You Go :**\n",
    "\n",
    "The Connection object always *emits SQL statements* within the context of a *transaction block*.\n",
    "\n",
    "The *first time the Connection.execute()* method is called to execute a SQL statement, this transaction is *begun*\n",
    "\n",
    "The transaction remains in place *until* the *Connection.commit()* or *Connection.rollback()* methods are called.\n",
    "\n",
    "Example of This calling style(commit as you go): "
   ]
  },
  {
   "cell_type": "code",
   "execution_count": null,
   "metadata": {},
   "outputs": [],
   "source": [
    "with engine.connect() as connection:\n",
    "    connection.execute(some_table.insert(), {\"x\": 7, \"y\": \"this is some data\"})\n",
    "    connection.execute(\n",
    "        some_other_table.insert(), {\"q\": 8, \"p\": \"this is some more data\"}\n",
    "    )\n",
    "\n",
    "    connection.commit()  # commit the transaction"
   ]
  },
  {
   "cell_type": "markdown",
   "metadata": {},
   "source": [
    "In “commit as you go” style, we can call upon Connection.commit() and Connection.rollback() methods freely within an ongoing sequence : "
   ]
  },
  {
   "cell_type": "code",
   "execution_count": null,
   "metadata": {},
   "outputs": [],
   "source": [
    "with engine.connect() as connection:\n",
    "    connection.execute(\"<some statement>\")\n",
    "    connection.commit()  # commits \"some statement\"\n",
    "\n",
    "    # new transaction starts\n",
    "    connection.execute(\"<some other statement>\")\n",
    "    connection.rollback()  # rolls back \"some other statement\"\n",
    "\n",
    "    # new transaction starts\n",
    "    connection.execute(\"<a third statement>\")\n",
    "    connection.commit()  # commits \"a third statement\""
   ]
  }
 ],
 "metadata": {
  "language_info": {
   "name": "python"
  },
  "orig_nbformat": 4
 },
 "nbformat": 4,
 "nbformat_minor": 2
}
