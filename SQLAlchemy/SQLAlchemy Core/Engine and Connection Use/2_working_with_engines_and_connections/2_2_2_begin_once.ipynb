{
 "cells": [
  {
   "cell_type": "markdown",
   "metadata": {},
   "source": [
    "**Begin Once:**\n",
    "\n",
    "more *explicit* transaction management style : allows the start point of the transaction to be stated explicitly\n",
    "\n",
    "the *Connection.begin()* method is used, which returns a *Transaction object* which represents the DBAPI transaction.\n",
    "\n",
    "This object also supports explicit management via its own Transaction.commit() and Transaction.rollback() methods, but as a preferred practice also supports the context manager interface, where *it will commit itself* when the block ends normally and *emit a rollback* if an exception is raised,before propagating the exception outwards."
   ]
  },
  {
   "cell_type": "code",
   "execution_count": null,
   "metadata": {},
   "outputs": [],
   "source": [
    "with engine.connect() as connection:\n",
    "    with connection.begin():\n",
    "        connection.execute(some_table.insert(), {\"x\": 7, \"y\": \"this is some data\"})\n",
    "        connection.execute(\n",
    "            some_other_table.insert(), {\"q\": 8, \"p\": \"this is some more data\"}\n",
    "        )\n",
    "\n",
    "    # transaction is committed"
   ]
  }
 ],
 "metadata": {
  "language_info": {
   "name": "python"
  },
  "orig_nbformat": 4
 },
 "nbformat": 4,
 "nbformat_minor": 2
}
