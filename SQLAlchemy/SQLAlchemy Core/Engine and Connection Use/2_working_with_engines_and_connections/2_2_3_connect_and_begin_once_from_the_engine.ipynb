{
 "cells": [
  {
   "cell_type": "markdown",
   "metadata": {},
   "source": [
    "**Connect and Begin Once from the Engine :**\n",
    "\n",
    "A *convenient shorthand* form for the above “begin once” block is to use the *Engine.begin()*"
   ]
  },
  {
   "cell_type": "code",
   "execution_count": null,
   "metadata": {},
   "outputs": [],
   "source": [
    "with engine.begin() as connection:\n",
    "    connection.execute(some_table.insert(), {\"x\": 7, \"y\": \"this is some data\"})\n",
    "    connection.execute(\n",
    "        some_other_table.insert(), {\"q\": 8, \"p\": \"this is some more data\"}\n",
    "    )\n",
    "\n",
    "# transaction is committed, and Connection is released to the connection\n",
    "# pool"
   ]
  },
  {
   "cell_type": "markdown",
   "metadata": {},
   "source": [
    "TIP : Within the Engine.begin() block, we can call upon the Connection.commit() or Connection.rollback() methods, which will end the transaction normally demarcated by the block ahead of time. However, if we do so, *no further SQL operations may be emitted on the Connection until the block ends*"
   ]
  }
 ],
 "metadata": {
  "language_info": {
   "name": "python"
  },
  "orig_nbformat": 4
 },
 "nbformat": 4,
 "nbformat_minor": 2
}
