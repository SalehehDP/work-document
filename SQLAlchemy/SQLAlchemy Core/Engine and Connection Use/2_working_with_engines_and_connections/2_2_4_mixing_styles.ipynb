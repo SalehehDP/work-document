{
 "cells": [
  {
   "cell_type": "markdown",
   "metadata": {},
   "source": [
    "**Mixing Styles :**\n",
    "\n",
    "The “commit as you go” and “begin once” styles can be freely mixed within a single Engine.connect() block.\n",
    "\n",
    "When developing code that uses “begin once”, the library will raise InvalidRequestError if a transaction was already “autobegun”."
   ]
  }
 ],
 "metadata": {
  "language_info": {
   "name": "python"
  },
  "orig_nbformat": 4
 },
 "nbformat": 4,
 "nbformat_minor": 2
}
