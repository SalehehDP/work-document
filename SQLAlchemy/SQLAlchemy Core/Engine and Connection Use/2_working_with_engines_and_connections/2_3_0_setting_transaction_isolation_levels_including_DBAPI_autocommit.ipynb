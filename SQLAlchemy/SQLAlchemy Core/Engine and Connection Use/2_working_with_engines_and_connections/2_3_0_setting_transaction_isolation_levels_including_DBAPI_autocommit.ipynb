{
 "cells": [
  {
   "cell_type": "markdown",
   "metadata": {},
   "source": [
    "ME : read https://www.geeksforgeeks.org/acid-properties-in-dbms/ to understand what is Transaction Isolation\n",
    "\n",
    "\n",
    "**Setting Transaction Isolation Levels including DBAPI Autocommit :**\n",
    "\n",
    "These are traditionally the four levels “READ UNCOMMITTED”, “READ COMMITTED”, “REPEATABLE READ” and “SERIALIZABLE”.\n",
    "\n",
    "DBAPIs that support isolation levels also usually support the concept of *true “autocommit”*, which means that the DBAPI connection itself will be placed into a *non-transactional autocommit mode*\n",
    "\n",
    "SQLAlchemy treats the concept of “autocommit” like any other isolation level; in that it is an isolation level that loses not only “read committed” but also loses atomicity."
   ]
  }
 ],
 "metadata": {
  "language_info": {
   "name": "python"
  },
  "orig_nbformat": 4
 },
 "nbformat": 4,
 "nbformat_minor": 2
}
