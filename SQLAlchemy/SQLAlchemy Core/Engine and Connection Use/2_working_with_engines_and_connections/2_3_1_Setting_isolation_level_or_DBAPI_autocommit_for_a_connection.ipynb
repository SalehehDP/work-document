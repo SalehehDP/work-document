{
 "cells": [
  {
   "cell_type": "markdown",
   "metadata": {},
   "source": [
    "**Setting Isolation Level or DBAPI Autocommit for a Connection :**\n",
    "\n",
    "For an *individual Connection* object that’s acquired from Engine.connect(), the isolation level can be set for the duration of that Connection object using the *Connection.execution_options()* method.\n",
    "\n",
    "possible values for Connection.execution_options(isolation_level=\"{value}\") \n",
    "\n",
    " - \"AUTOCOMMIT\"\n",
    " - \"READ COMMITTED\"\n",
    " - \"READ UNCOMMITTED\"\n",
    " - \"REPEATABLE READ\"\n",
    " - \"SERIALIZABLE\"\n",
    "\n",
    "if an unsupported value is used for a certain backend, an error is raised.\n",
    "\n",
    "\n",
    "\n",
    "For example, to force REPEATABLE READ on a specific connection, then begin a transaction: "
   ]
  },
  {
   "cell_type": "code",
   "execution_count": 5,
   "metadata": {},
   "outputs": [
    {
     "name": "stdout",
     "output_type": "stream",
     "text": [
      "X\n"
     ]
    }
   ],
   "source": [
    "# from sqlalchemy import text, URL, create_engine, Integer \n",
    "# from sqlalchemy.schema import Table, Column, MetaData\n",
    "\n",
    "\n",
    "# url = URL.create(\n",
    "#     drivername=\"postgresql\",\n",
    "#     username=\"postgres\",\n",
    "#     host=\"192.168.0.8\",\n",
    "#     port=\"5432\",\n",
    "#     password=\"1234\",\n",
    "#     database=\"tests\"\n",
    "# )\n",
    "\n",
    "# engine = create_engine(url)\n",
    "\n",
    "with engine.connect().execution_options(\n",
    "    isolation_level=\"REPEATABLE READ\") as connection:  # it modifies the state of the Connection object in place. This is a new behavior as of SQLAlchemy 2.0.\n",
    "    with connection.begin():\n",
    "        connection.execute(\"<statement>\")"
   ]
  },
  {
   "cell_type": "markdown",
   "metadata": {},
   "source": [
    " Connection.execution_options() modifies the state of the Connection object *in place*. This is a new behavior as of SQLAlchemy 2.0. This behavior does not apply to the Engine.execution_options() method."
   ]
  }
 ],
 "metadata": {
  "kernelspec": {
   "display_name": "documents-61uQ3X5r-py3.10",
   "language": "python",
   "name": "python3"
  },
  "language_info": {
   "codemirror_mode": {
    "name": "ipython",
    "version": 3
   },
   "file_extension": ".py",
   "mimetype": "text/x-python",
   "name": "python",
   "nbconvert_exporter": "python",
   "pygments_lexer": "ipython3",
   "version": "3.10.12"
  },
  "orig_nbformat": 4
 },
 "nbformat": 4,
 "nbformat_minor": 2
}
