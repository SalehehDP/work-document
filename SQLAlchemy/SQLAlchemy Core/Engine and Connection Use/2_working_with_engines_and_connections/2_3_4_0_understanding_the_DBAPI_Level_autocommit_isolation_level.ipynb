{
 "cells": [
  {
   "cell_type": "markdown",
   "metadata": {},
   "source": [
    "**Understanding the DBAPI-Level Autocommit Isolation Level :**\n",
    "\n",
    "If we wanted to check out a Connection object and use it “autocommit” mode, we would proceed as follows:"
   ]
  },
  {
   "cell_type": "code",
   "execution_count": null,
   "metadata": {},
   "outputs": [],
   "source": [
    "with engine.connect() as connection:\n",
    "    connection.execution_options(isolation_level=\"AUTOCOMMIT\")\n",
    "    connection.execute(\"<statement>\")\n",
    "    connection.execute(\"<statement>\")"
   ]
  },
  {
   "cell_type": "markdown",
   "metadata": {},
   "source": [
    "There is *no need* to make use of methods such as *Connection.begin() or Connection.commit()*, as all statements are committed to the database immediately.\n",
    "\n",
    "It is important to note that “autocommit” mode *persists* even when the Connection.begin() method is called; the DBAPI will not emit any BEGIN to the database, nor will it emit COMMIT when Connection.commit() is called."
   ]
  }
 ],
 "metadata": {
  "language_info": {
   "name": "python"
  },
  "orig_nbformat": 4
 },
 "nbformat": 4,
 "nbformat_minor": 2
}
