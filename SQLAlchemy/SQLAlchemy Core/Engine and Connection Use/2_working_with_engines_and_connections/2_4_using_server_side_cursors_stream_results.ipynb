{
 "cells": [
  {
   "cell_type": "markdown",
   "metadata": {},
   "source": [
    "**Using Server Side Cursors (a.k.a. stream results) :**\n",
    "\n",
    "“server side cursors” versus “client side cursors”\n",
    "\n",
    "\n",
    " - *client side cursor* :  the database driver fully fetches all rows from a result set into memory before returning from a statement execution. \n",
    "\n",
    " - *server side cursor* : indicates that result rows remain pending within the database server’s state as result rows are consumed by the client.more memory efficient when fetching very large result sets\n",
    "\n",
    "*SQLite* dialect, while not using a real “client / server” architecture, still uses an unbuffered result fetching\n",
    "\n",
    "\n",
    "unbuffered cursors are not generally useful except in the uncommon case of an application fetching a very large number of rows in chunks, where the processing of these rows can be complete before more rows are fetched.\n",
    "\n",
    "\n",
    " - **Streaming with a fixed buffer via yield_per**\n",
    " - **Streaming with a dynamically growing buffer using stream_results‌:‌**\n",
    "  rows are fetched internally using a default buffering scheme that buffers first a small set of rows, then a larger and larger buffer on each fetch up to a pre-configured limit of 1000 rows\n",
    "\n",
    "ME : به طور کلی به نظر میرسه اینکه بخوایم واقعنی دونه دونه سطر ها رو بیاریم خیلی پرهزینه است بخاطر همین میان با تعین کردن مقدار یلد-پر می توان تعیین کرد هر پارتیشن که بیاد دیتاش بعد استفاده باشه ماکسیمم چه قدر جا داشته باشه . مقداری از نتیجه به صورت بافر شده میاد و. .... \n"
   ]
  }
 ],
 "metadata": {
  "language_info": {
   "name": "python"
  },
  "orig_nbformat": 4
 },
 "nbformat": 4,
 "nbformat_minor": 2
}
