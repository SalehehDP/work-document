{
 "cells": [
  {
   "cell_type": "markdown",
   "metadata": {},
   "source": [
    "**SQL Compilation Caching :**\n",
    "\n",
    "SQLAlchemy now has a transparent query caching system that substantially lowers the Python computational overhead involved in converting *SQL statement constructs into SQL strings* across both Core and ORM.\n",
    "\n",
    "SQLAlchemy includes a comprehensive caching system for the *SQL compiler*\n",
    "\n",
    "\n",
    "*This caching system is transparent within the Engine* ??? \n",
    "\n",
    "\n",
    "*Note* : it is important to note that the SQL compilation cache is caching the SQL string that is passed to the database only, and *not the data* returned by a query.\n",
    "\n",
    "\n",
    " - **How much memory does the cache use?**\n",
    " \n",
    " create_engine.query_cache_size\n",
    "\n",
    " - **Disabling or using an alternate dictionary to cache some (or all) statements :**\n",
    "\n",
    " The internal cache used is known as LRUCache, but this is mostly just a dictionary. Any dictionary may be used"
   ]
  },
  {
   "cell_type": "code",
   "execution_count": 3,
   "metadata": {},
   "outputs": [
    {
     "name": "stdout",
     "output_type": "stream",
     "text": [
      "{(<sqlalchemy.dialects.postgresql.psycopg2.PGDialect_psycopg2 object at 0x7fbbf3115ea0>, ('0', <class 'sqlalchemy.sql.elements.TextClause'>, 'text', 'select * from person'), (), False, False): <sqlalchemy.dialects.postgresql.base.PGCompiler object at 0x7fbbf3116fe0>, (<sqlalchemy.dialects.postgresql.psycopg2.PGDialect_psycopg2 object at 0x7fbbf3115ea0>, ('0', <class 'sqlalchemy.sql.selectable.Select'>, '_raw_columns', ((Table('table', MetaData(), Column('id', Integer(), table=<table>, primary_key=True, nullable=False), Column('rev_id', Integer(), table=<table>), schema=None),),), '_label_style', <SelectLabelStyle.LABEL_STYLE_DISAMBIGUATE_ONLY: 2>, '_compile_options', (<class 'sqlalchemy.sql.selectable.SelectState.default_select_compile_options'>, ())), (), False, False): <sqlalchemy.dialects.postgresql.base.PGCompiler object at 0x7fbbf28102b0>}\n"
     ]
    }
   ],
   "source": [
    "from sqlalchemy import text, URL, create_engine, Integer \n",
    "from sqlalchemy.schema import Table, Column, MetaData\n",
    "\n",
    "\n",
    "url = URL.create(\n",
    "    drivername=\"postgresql\",\n",
    "    username=\"postgres\",\n",
    "    host=\"192.168.0.8\",\n",
    "    port=\"5432\",\n",
    "    password=\"1234\",\n",
    "    database=\"tests\"\n",
    ")\n",
    "\n",
    "engine = create_engine(url)\n",
    "metadata_obj = MetaData()\n",
    "table = Table(\n",
    "    \"table\",\n",
    "    metadata_obj,\n",
    "    Column(\"id\", Integer, primary_key=True),\n",
    "    Column(\"rev_id\", Integer),\n",
    ")\n",
    "\n",
    "my_cache = {}\n",
    "with engine.connect().execution_options(compiled_cache=my_cache) as conn:\n",
    "    table.create(engine)\n",
    "    conn.execute(text(\"select * from person\"))\n",
    "    conn.execute(table.select())\n",
    "\n",
    "print(my_cache)"
   ]
  },
  {
   "cell_type": "markdown",
   "metadata": {},
   "source": [
    "The *cache can also be disabled* with this argument by sending a value of *None*\n",
    "\n",
    "\n",
    " - **Caching for Third Party Dialects**\n",
    "\n",
    " ME : ???\n",
    "\n",
    " - **Using Lambdas to add significant speed gains to statement production**\n",
    "\n",
    " Deep Alchemy : This technique is generally non-essential except in very performance intensive scenarios, and intended for experienced Python programmers."
   ]
  }
 ],
 "metadata": {
  "kernelspec": {
   "display_name": "documents-61uQ3X5r-py3.10",
   "language": "python",
   "name": "python3"
  },
  "language_info": {
   "codemirror_mode": {
    "name": "ipython",
    "version": 3
   },
   "file_extension": ".py",
   "mimetype": "text/x-python",
   "name": "python",
   "nbconvert_exporter": "python",
   "pygments_lexer": "ipython3",
   "version": "3.10.12"
  },
  "orig_nbformat": 4
 },
 "nbformat": 4,
 "nbformat_minor": 2
}
