{
 "cells": [
  {
   "cell_type": "markdown",
   "metadata": {},
   "source": [
    "**“Insert Many Values” Behavior for INSERT statements**\n",
    "\n",
    "Tip: The insertmanyvalues feature is a transparently available performance feature which requires *no end-user intervention* in order for it to take place as needed. This section describes the architecture of the feature as well as how to measure its performance and tune its behavior in order to optimize the speed of bulk INSERT statements, particularly as used by the ORM"
   ]
  }
 ],
 "metadata": {
  "language_info": {
   "name": "python"
  },
  "orig_nbformat": 4
 },
 "nbformat": 4,
 "nbformat_minor": 2
}
