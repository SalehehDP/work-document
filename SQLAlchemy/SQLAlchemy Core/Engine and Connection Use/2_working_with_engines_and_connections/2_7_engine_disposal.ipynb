{
 "cells": [
  {
   "cell_type": "markdown",
   "metadata": {},
   "source": [
    "**Engine Disposal :**\n",
    "\n",
    "The Engine refers to a connection pool, which means under normal circumstances, there are open database *connections present* while the *Engine* object is still resident in memory.\n",
    "\n",
    "\n",
    "The Engine is intended to normally be a permanent fixture established up-front and maintained throughout the lifespan of an application. It is *not intended to be created and disposed on a per-connection* basis.\n",
    "\n",
    "\n",
    "However, there are many cases where it is desirable that all connection resources referred to by the Engine be completely closed out. It’s generally not a good idea to rely on *Python garbage collection* for this to occur for these cases\n",
    "\n",
    "// Python garbage collection \n",
    "\n",
    " *Engine.dispose() method :* This disposes of the engine’s underlying connection pool and replaces it with a new one that’s empty.\n",
    "\n",
    "\n",
    "Valid use cases for calling Engine.dispose() include:\n",
    "\n",
    " - When a program wants to release any remaining checked-in connections held by the connection pool and expects to no longer be connected to that database at all for any future operations.\n",
    "\n",
    " - When a program uses multiprocessing or fork(), and an Engine object is copied to the child process, Engine.dispose() should be called so that the engine creates brand new database connections local to that fork.\n",
    "\n",
    " - Within test suites or multitenancy scenarios where many ad-hoc, short-lived Engine objects may be created and disposed.\n",
    "\n"
   ]
  }
 ],
 "metadata": {
  "language_info": {
   "name": "python"
  },
  "orig_nbformat": 4
 },
 "nbformat": 4,
 "nbformat_minor": 2
}
