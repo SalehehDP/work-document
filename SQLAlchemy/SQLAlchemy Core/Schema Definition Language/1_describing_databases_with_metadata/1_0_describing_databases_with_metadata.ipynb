{
    "cells": [
        {
            "cell_type": "markdown",
            "metadata": {},
            "source": [
                "resorses : https://docs.sqlalchemy.org/en/20/core/metadata.html"
            ]
        },
        {
            "cell_type": "markdown",
            "metadata": {},
            "source": [
                "This section discusses the fundamental **Table, Column and MetaData objects.**\n",
                "\n",
                "A collection of metadata entities is stored in an object aptly named MetaData:"
            ]
        },
        {
            "cell_type": "code",
            "execution_count": null,
            "metadata": {
                "vscode": {
                    "languageId": "plaintext"
                }
            },
            "outputs": [],
            "source": [
                "from sqlalchemy import MetaData\n",
                "\n",
                "metadata_obj = MetaData()"
            ]
        },
        {
            "cell_type": "markdown",
            "metadata": {},
            "source": [
                "**MetaData** is a container object that keeps together many different features of a database (or multiple databases) being described.\n",
                "\n",
                "To represent a table, use the Table class. Its *two primary arguments* are the *table name*, then the *MetaData* object which it will be associated with. \n",
                "\n",
                "\n",
                "\n",
                "about columns : \n",
                "    Multiple columns may be assigned the primary_key=True flag which denotes a multi-column primary key, known as a *composite primary key*.\n",
                "\n",
                "\n"
            ]
        }
    ],
    "metadata": {
        "language_info": {
            "name": "python"
        },
        "orig_nbformat": 4
    },
    "nbformat": 4,
    "nbformat_minor": 2
}