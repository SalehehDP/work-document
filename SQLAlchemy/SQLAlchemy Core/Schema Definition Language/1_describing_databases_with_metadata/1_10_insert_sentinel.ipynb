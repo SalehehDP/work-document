{
 "cells": [
  {
   "cell_type": "markdown",
   "metadata": {},
   "source": [
    "**insert_sentinel:**\n",
    "\n",
    "function sqlalchemy.schema.insert_sentinel(name: str | None = None, type_: _TypeEngineArgument[_T] | None = None, *, default: Any | None = None, omit_from_statements: bool = True) → Column[Any]\n",
    "\n",
    "Provides a surrogate Column that will act as a dedicated insert sentinel column, allowing *efficient bulk inserts* with deterministic RETURNING sorting for tables that don’t otherwise have qualifying primary key configurations.\n",
    "\n",
    "\n",
    "//BULK INSERT statement :\n",
    "\n",
    "BULK INSERT loads data from a data file into a table.\n",
    "In case of BULK INSERT, only extent allocations are logged instead of the actual data being inserted. This will provide much better performance than INSERT. The actual advantage, is to reduce the amount of data being logged in the transaction log.\n",
    "\n",
    "\n",
    "\n",
    "Adding this column to a Table object requires that a corresponding database table actually has this column present, so if adding it to an existing model, existing database tables would need to be migrated (e.g. using ALTER TABLE or similar) to include this column.\n",
    "\n",
    "For background on how this object is used, see the section Configuring Sentinel Columns as part of the section *“Insert Many Values”* Behavior for INSERT statements.\n",
    "\n",
    "resource : https://docs.sqlalchemy.org/en/20/core/connections.html#engine-insertmanyvalues-sentinel-columns\n",
    "\n",
    "**Configuring Sentinel Columns:**\n",
    "\n",
    "\n",
    "\n",
    "\n",
    "\n",
    "The Column returned will be *a nullable integer column* by default and make use of a sentinel-specific default generator used only in “insertmanyvalues” operations."
   ]
  }
 ],
 "metadata": {
  "language_info": {
   "name": "python"
  },
  "orig_nbformat": 4
 },
 "nbformat": 4,
 "nbformat_minor": 2
}
