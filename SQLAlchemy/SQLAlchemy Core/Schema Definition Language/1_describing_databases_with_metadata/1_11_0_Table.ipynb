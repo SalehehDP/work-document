{
 "cells": [
  {
   "cell_type": "markdown",
   "metadata": {},
   "source": [
    "**Table:**\n",
    "\n",
    "class sqlalchemy.schema.Table\n",
    "\n",
    "Represent a table in a database.\n",
    "\n",
    "The Table object constructs a unique instance of itself based on its *name* and *optional schema name* within the given *MetaData* object. Calling the Table constructor with the same name and same MetaData argument a second time will return the *same Table object* - in this way the Table constructor acts as a registry function.\n",
    "\n",
    "\n",
    "**Members:**\n",
    "\n",
    "_ _ init _ _(), add_is_dependent_on(), alias(), append_column(), append_constraint(), argument_for(), autoincrement_column, c, columns, compare(), compile(), constraints, corresponding_column(), create(), delete(), description, dialect_kwargs, dialect_options, drop(), entity_namespace, exported_columns, foreign_key_constraints, foreign_keys, get_children(), implicit_returning, indexes, info, inherit_cache, insert(), is_derived_from(), join(), key, kwargs, lateral(), outerjoin(), params(), primary_key, replace_selectable(), schema, select(), self_group(), table_valued(), tablesample(), to_metadata(), tometadata(), unique_params(), update()\n",
    "\n",
    "\n",
    "ME : تمامی نام های to دار به صورت زیر تغییر اسم داده اند : \n",
    "tox -> to_x"
   ]
  }
 ],
 "metadata": {
  "language_info": {
   "name": "python"
  },
  "orig_nbformat": 4
 },
 "nbformat": 4,
 "nbformat_minor": 2
}
