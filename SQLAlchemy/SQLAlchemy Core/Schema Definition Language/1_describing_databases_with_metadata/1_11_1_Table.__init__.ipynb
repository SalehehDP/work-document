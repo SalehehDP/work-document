{
 "cells": [
  {
   "cell_type": "markdown",
   "metadata": {},
   "source": [
    "**_ _ init _ _:**\n",
    "\n",
    "method sqlalchemy.schema.Table.__init__(name: str, metadata: MetaData, *args: SchemaItem, schema: str | Literal[SchemaConst.BLANK_SCHEMA] | None = None, quote: bool | None = None, quote_schema: bool | None = None, autoload_with: Engine | Connection | None = None, autoload_replace: bool = True, keep_existing: bool = False, extend_existing: bool = False, resolve_fks: bool = True, include_columns: Collection[str] | None = None, implicit_returning: bool = True, comment: str | None = None, info: Dict[Any, Any] | None = None, listeners: _typing_Sequence[Tuple[str, Callable[..., Any]]] | None = None, prefixes: _typing_Sequence[str] | None = None, _extend_on: Set[Table] | None = None, _no_init: bool = True, **kw: Any) → None\n",
    "\n",
    "\n",
    "\n",
    "**Parameters:**\n",
    "\n",
    " - *name* –\n",
    "\n",
    "The name of this table as represented in the database.\n",
    "\n",
    "The *table name*, along with the *value of the schema parameter*, forms a *key which uniquely identifies* this Table within the owning MetaData collection. Additional calls to Table with the same name, metadata, and schema name will return the same Table object.\n",
    "\n",
    "\n",
    " - *metadata* – a MetaData object which will contain this table. The metadata is used as a point of association of this table with other tables which are referenced via foreign key. It also may be used to associate this table with a particular Connection or Engine.\n",
    "\n",
    "\n",
    "ME : so tired to document\n",
    "\n",
    " - *autoload_replace* –\n",
    "\n",
    "Defaults to True; when using Table.autoload_with in conjunction with Table.extend_existing, indicates that Column objects present in the already-existing Table object *should be replaced* with columns of the same name retrieved from the autoload process. When False, columns already present under existing names will be omitted from the reflection process.\n",
    "\n"
   ]
  }
 ],
 "metadata": {
  "language_info": {
   "name": "python"
  },
  "orig_nbformat": 4
 },
 "nbformat": 4,
 "nbformat_minor": 2
}
