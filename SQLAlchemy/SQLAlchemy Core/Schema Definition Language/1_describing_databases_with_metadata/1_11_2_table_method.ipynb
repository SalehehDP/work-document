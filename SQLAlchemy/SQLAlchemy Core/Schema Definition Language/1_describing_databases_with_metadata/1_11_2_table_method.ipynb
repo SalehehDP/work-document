{
 "cells": [
  {
   "cell_type": "markdown",
   "metadata": {},
   "source": [
    "\n",
    "**update:**\n",
    "\n",
    "method sqlalchemy.schema.Table.update() → Update\n",
    "inherited from the TableClause.update() method of TableClause\n",
    "\n",
    "Generate an update() construct against this TableClause.\n"
   ]
  },
  {
   "cell_type": "code",
   "execution_count": null,
   "metadata": {},
   "outputs": [],
   "source": [
    "table.update().where(table.c.id==7).values(name='foo')"
   ]
  },
  {
   "cell_type": "markdown",
   "metadata": {},
   "source": [
    "**unique_params:**\n",
    "\n",
    "method sqlalchemy.schema.Table.unique_params(*optionaldict, **kwargs)\n",
    "inherited from the Immutable.unique_params() method of Immutable\n",
    "\n",
    "Return a copy with bindparam() elements replaced.\n",
    "\n",
    "ME : what is bindparam ? \n",
    "Same functionality as ClauseElement.params(), except adds unique=True to affected bind parameters so that multiple statements can be used."
   ]
  },
  {
   "cell_type": "code",
   "execution_count": null,
   "metadata": {},
   "outputs": [],
   "source": [
    "# bindparam example :\n",
    "# resorce : https://www.programcreek.com/python/example/78988/sqlalchemy.bindparam\n",
    "\n",
    "conn.execute(\n",
    "    clusters.delete().where(clusters.c.id == sa.bindparam(\"id\")),\n",
    "                    [{\"id\": i} for i in to_delete],\n",
    "                )"
   ]
  },
  {
   "cell_type": "markdown",
   "metadata": {},
   "source": [
    "**to_metadata:**\n",
    "\n",
    "method sqlalchemy.schema.Table.to_metadata(metadata: ~sqlalchemy.sql.schema.MetaData, schema: str | ~typing.Literal[{SchemaConst.RETAIN_SCHEMA: 1}] = SchemaConst.RETAIN_SCHEMA, referred_schema_fn: ~typing.Callable[[~sqlalchemy.sql.schema.Table, str | None, ~sqlalchemy.sql.schema.ForeignKeyConstraint, str | None], str | None] | None = None, name: str | None = None) → Table\n",
    "\n",
    "\n",
    "Return a copy of this Table associated with a different MetaData."
   ]
  },
  {
   "cell_type": "code",
   "execution_count": null,
   "metadata": {},
   "outputs": [],
   "source": [
    "m1 = MetaData()\n",
    "\n",
    "user = Table('user', m1, Column('id', Integer, primary_key=True))\n",
    "\n",
    "m2 = MetaData()\n",
    "user_copy = user.to_metadata(m2)"
   ]
  },
  {
   "cell_type": "markdown",
   "metadata": {},
   "source": [
    "**Parameters:**\n",
    " - *metadata* – Target MetaData object, into which the new Table object will be created.\n",
    "\n",
    " - *schema* – optional string name indicating the target schema. *Defaults* to the special symbol *RETAIN_SCHEMA* which indicates that no change to the schema name should be made in the new Table. f set to a *string name*, the new Table will have this new name as the .schema. If set to *None*, the schema will be set to that of the schema set on the target MetaData, which is typically None as well, unless set explicitly:"
   ]
  },
  {
   "cell_type": "code",
   "execution_count": null,
   "metadata": {},
   "outputs": [],
   "source": [
    "m2 = MetaData(schema='newschema')\n",
    "\n",
    "# user_copy_one will have \"newschema\" as the schema name\n",
    "user_copy_one = user.to_metadata(m2, schema=None)\n",
    "\n",
    "m3 = MetaData()  # schema defaults to None\n",
    "\n",
    "# user_copy_two will have None as the schema name\n",
    "user_copy_two = user.to_metadata(m3, schema=None)"
   ]
  },
  {
   "cell_type": "markdown",
   "metadata": {},
   "source": [
    "*referred_schema_fn –*\n",
    "\n",
    "optional callable which can be supplied in order to provide for the schema name that should be assigned to the referenced table of a ForeignKeyConstraint. The callable accepts this parent Table, the target schema that we are changing to, the ForeignKeyConstraint object, and the existing “target schema” of that constraint. The function should return the string schema name that should be applied. To reset the schema to “none”, return the symbol BLANK_SCHEMA. To effect no change, return None or RETAIN_SCHEMA."
   ]
  },
  {
   "cell_type": "code",
   "execution_count": null,
   "metadata": {},
   "outputs": [],
   "source": [
    "def referred_schema_fn(table, to_schema, constraint, referred_schema):\n",
    "    if referred_schema == 'base_tables':\n",
    "        return referred_schema\n",
    "    else:\n",
    "        return to_schema\n",
    "\n",
    "new_table = table.to_metadata(m2, schema=\"alt_schema\",\n",
    "                        referred_schema_fn=referred_schema_fn)"
   ]
  },
  {
   "cell_type": "markdown",
   "metadata": {},
   "source": [
    "*name* – optional string name indicating the target table name. If not specified or None, the table name is retained. This allows a Table to be copied to the same MetaData target with a new name."
   ]
  },
  {
   "cell_type": "markdown",
   "metadata": {},
   "source": [
    "**tablesample:**\n",
    "\n",
    "method sqlalchemy.schema.Table.tablesample(sampling: float | Function[Any], name: str | None = None, seed: roles.ExpressionElementRole[Any] | None = None) → TableSample\n",
    "inherited from the FromClause.tablesample() method of FromClause\n",
    "\n",
    "Return a TABLESAMPLE alias of this FromClause.\n",
    "\n",
    "The return value is the TableSample construct also provided by the top-level tablesample() function.\n",
    "\n",
    "//resource : https://docs.sqlalchemy.org/en/20/core/selectable.html#sqlalchemy.sql.expression.tablesample\n",
    "//TableSample is an Alias subclass that represents a table with the TABLESAMPLE clause applied to it. tablesample() is also available from the FromClause class via the FromClause.tablesample() method.\n",
    "\n",
    "//The TABLESAMPLE clause allows selecting a randomly selected approximate percentage of rows from a table. It supports multiple sampling methods, most commonly BERNOULLI and SYSTEM."
   ]
  },
  {
   "cell_type": "markdown",
   "metadata": {},
   "source": [
    "**table_valued:**\n",
    "\n",
    "method sqlalchemy.schema.Table.table_valued() → TableValuedColumn[Any]\n",
    "inherited from the NamedFromClause.table_valued() method of NamedFromClause\n",
    "\n",
    "Return a TableValuedColumn object for this FromClause.\n",
    "\n",
    "A TableValuedColumn is a ColumnElement that represents a *complete row* in a table. Support for this construct is backend dependent, and is supported in various forms by backends such as PostgreSQL, Oracle and SQL Server."
   ]
  },
  {
   "cell_type": "code",
   "execution_count": null,
   "metadata": {},
   "outputs": [],
   "source": [
    "from sqlalchemy import select, column, func, table\n",
    "\n",
    "a = table(\"a\", column(\"id\"), column(\"x\"), column(\"y\"))\n",
    "stmt = select(func.row_to_json(a.table_valued()))\n",
    "print(stmt)"
   ]
  },
  {
   "cell_type": "code",
   "execution_count": null,
   "metadata": {
    "vscode": {
     "languageId": "sql"
    }
   },
   "outputs": [],
   "source": [
    "SELECT row_to_json(a) AS row_to_json_1\n",
    "FROM a"
   ]
  },
  {
   "cell_type": "markdown",
   "metadata": {},
   "source": [
    "**self_group:**\n",
    "\n",
    "method sqlalchemy.schema.Table.self_group(against: OperatorType | None = None) → ClauseElement\n",
    "inherited from the ClauseElement.self_group() method of ClauseElement\n",
    "\n",
    "Apply a ‘grouping’ to this ClauseElement.\n",
    "\n",
    "This method is overridden by subclasses to return a “grouping” construct, i.e. parenthesis. In particular it’s used by “binary” expressions to provide a grouping around themselves when placed into a larger expression, as well as by select() constructs when placed into the FROM clause of another select(). (Note that subqueries should be normally created using the Select.alias() method, as many platforms require nested SELECT statements to be named).\n",
    "\n",
    "As expressions are composed together, the application of self_group() is automatic - end-user code should never need to use this method directly. Note that SQLAlchemy’s clause constructs take operator precedence into account - so parenthesis might not be needed, for example, in an expression like x OR (y AND z) - AND takes precedence over OR.\n",
    "\n",
    "The base self_group() method of ClauseElement just returns self.\n",
    "\n",
    "**select:**\n",
    "method sqlalchemy.schema.Table.select() → Select\n",
    "inherited from the FromClause.select() method of FromClause\n",
    "\n",
    "Return a SELECT of this FromClause.\n",
    "\n",
    "**schema:**\n",
    "attribute sqlalchemy.schema.Table.schema: str | None = None¶\n",
    "inherited from the FromClause.schema attribute of FromClause\n",
    "\n",
    "Define the ‘schema’ attribute for this FromClause.\n",
    "\n",
    "This is typically None for most objects except that of Table, where it is taken as the value of the Table.schema argument.\n",
    "\n",
    "*Deprecated* since version 1.4: The **Selectable.replace_selectable() method is deprecated**\n",
    "\n",
    "\n",
    "**primary_key:**\n",
    "\n",
    "attribute sqlalchemy.schema.Table.primary_key\n",
    "inherited from the FromClause.primary_key attribute of FromClause\n",
    "\n",
    "Return the iterable collection of Column objects which comprise the primary key of this _selectable.FromClause.\n",
    "\n",
    "For a Table object, this collection is represented by the *PrimaryKeyConstraint* which itself *is an iterable collection of Column objects*.\n"
   ]
  },
  {
   "cell_type": "markdown",
   "metadata": {},
   "source": [
    "**params:**\n",
    "\n",
    "method sqlalchemy.schema.Table.params(*optionaldict, **kwargs)\n",
    "inherited from the Immutable.params() method of Immutable\n",
    "\n",
    "Return a copy with bindparam() elements replaced.\n",
    "\n",
    "Returns a copy of this ClauseElement with bindparam() elements replaced with values taken from the given dictionary:\n",
    "\n",
    ">>> clause = column('x') + bindparam('foo')\n",
    ">>> print(clause.compile().params)\n",
    "{'foo':None}\n",
    ">>> print(clause.params({'foo':7}).compile().params)\n",
    "{'foo':7}\n",
    "\n",
    "\n",
    "**outerjoin:**\n",
    "\n",
    "method sqlalchemy.schema.Table.outerjoin(right: _FromClauseArgument, onclause: _ColumnExpressionArgument[bool] | None = None, full: bool = False) → Join\n",
    "\n",
    "inherited from the FromClause.outerjoin() method of FromClause\n",
    "\n",
    "Return a Join from this FromClause to another FromClause, with the “isouter” flag set to True."
   ]
  },
  {
   "cell_type": "code",
   "execution_count": null,
   "metadata": {},
   "outputs": [],
   "source": [
    "from sqlalchemy import outerjoin\n",
    "\n",
    "j = user_table.outerjoin(address_table, user_table.c.id == address_table.c.user_id)\n",
    "\n",
    "\n",
    "#The above is equivalent to:\n",
    "\n",
    "j = user_table.join(\n",
    "    address_table,\n",
    "    user_table.c.id == address_table.c.user_id,\n",
    "    isouter=True)"
   ]
  },
  {
   "cell_type": "markdown",
   "metadata": {},
   "source": [
    "**Parameters:**\n",
    "\n",
    " - *right* – the right side of the join; this is any FromClause object such as a Table object, and may also be a selectable-compatible object such as an ORM-mapped class.\n",
    "\n",
    " - *onclause* – a SQL expression representing the ON clause of the join. If left at None, FromClause.join() will attempt to join the two tables based on a foreign key relationship.\n",
    "\n",
    " - *full* – if True, render a FULL OUTER JOIN, instead of LEFT OUTER JOIN."
   ]
  },
  {
   "cell_type": "markdown",
   "metadata": {},
   "source": [
    "**lateral:**\n",
    "\n",
    "method sqlalchemy.schema.Table.lateral(name: str | None = None) → LateralFromClause\n",
    "inherited from the Selectable.lateral() method of Selectable\n",
    "\n",
    "Return a LATERAL alias of this Selectable.\n",
    "\n",
    "The return value is the Lateral construct also provided by the top-level lateral() function.\n",
    "\n",
    "\n",
    "// Lateral is an Alias subclass that represents a subquery with the LATERAL keyword applied to it.\n",
    "\n",
    "// Lateral ? \n",
    "\n",
    "// Alias ?\n",
    "\n",
    "\n",
    "**join:**\n",
    "\n",
    "method sqlalchemy.schema.Table.join(right: _FromClauseArgument, onclause: _ColumnExpressionArgument[bool] | None = None, isouter: bool = False, full: bool = False) → Join\n",
    "inherited from the FromClause.join() method of FromClause\n",
    "\n",
    "Return a Join from this FromClause to another FromClause.\n"
   ]
  },
  {
   "cell_type": "code",
   "execution_count": null,
   "metadata": {},
   "outputs": [],
   "source": [
    "from sqlalchemy import join\n",
    "\n",
    "j = user_table.join(address_table,\n",
    "                user_table.c.id == address_table.c.user_id)\n",
    "stmt = select(user_table).select_from(j)"
   ]
  },
  {
   "cell_type": "markdown",
   "metadata": {},
   "source": [
    "**Parameters:**\n",
    "\n",
    " - *right* – the right side of the join; this is any FromClause object such as a Table object, and may also be a selectable-compatible object such as an ORM-mapped class.\n",
    "\n",
    " - *onclause* – a SQL expression representing the ON clause of the join. *If left at None, FromClause.join() will attempt to join the two tables based on a foreign key relationship*.\n",
    "\n",
    " - *isouter* – if True, render a LEFT OUTER JOIN, instead of JOIN.\n",
    "\n",
    " - *full* – if True, render a FULL OUTER JOIN, instead of LEFT OUTER JOIN. Implies FromClause.join.isouter.\n",
    "\n",
    "\n",
    " "
   ]
  },
  {
   "cell_type": "markdown",
   "metadata": {},
   "source": [
    "**is_derived_from:**\n",
    "\n",
    "method sqlalchemy.schema.Table.is_derived_from(fromclause: FromClause | None) → bool\n",
    "inherited from the FromClause.is_derived_from() method of FromClause\n",
    "\n",
    "Return True if this FromClause is ‘derived’ from the given FromClause.\n",
    "\n",
    "An example would be an Alias of a Table is derived from that Table.\n",
    "\n",
    "\n",
    "**insert:**\n",
    "\n",
    "method sqlalchemy.schema.Table.insert() → Insert\n",
    "inherited from the TableClause.insert() method of TableClause\n",
    "\n",
    "Generate an Insert construct against this TableClause.\n",
    "\n",
    "\n",
    "**get_children:**\n",
    "method sqlalchemy.schema.Table.get_children(*, omit_attrs: Tuple[str, ...] = (), **kw: Any) → Iterable[HasTraverseInternals]\n",
    "inherited from the HasTraverseInternals.get_children() method of HasTraverseInternals\n",
    "\n",
    "Return immediate child HasTraverseInternals elements of this HasTraverseInternals.\n",
    "\n",
    "This is used for visit traversal.\n",
    "\n",
    "**kw may contain flags that change the collection that is returned, for example to return a subset of items in order to cut down on larger traversals, or to return child items from a different context (such as schema-level collections instead of clause-level).\n",
    "\n",
    "**drop:**\n",
    "method sqlalchemy.schema.Table.drop(bind: _CreateDropBind, checkfirst: bool = False) → None\n",
    "\n",
    "Issue a DROP statement for this Table, using the given Connection or Engine for connectivity.\n",
    "\n",
    "\n",
    "\n",
    "**delete:**\n",
    "method sqlalchemy.schema.Table.delete() → Delete\n",
    "inherited from the TableClause.delete() method of TableClause\n",
    "\n",
    "Generate a delete() construct against this TableClause."
   ]
  },
  {
   "cell_type": "code",
   "execution_count": null,
   "metadata": {},
   "outputs": [],
   "source": [
    "table.delete().where(table.c.id==7)"
   ]
  },
  {
   "cell_type": "markdown",
   "metadata": {},
   "source": [
    "**create:**\n",
    "\n",
    "method sqlalchemy.schema.Table.create(bind: _CreateDropBind, checkfirst: bool = False) → None\n",
    "\n",
    "Issue a CREATE statement for this Table, using the given Connection or Engine for connectivity.\n",
    "\n",
    "**corresponding_column:**\n",
    "\n",
    "method sqlalchemy.schema.Table.corresponding_column(column: KeyedColumnElement[Any], require_embedded: bool = False) → KeyedColumnElement[Any] | None\n",
    "\n",
    "**compile:**\n",
    "\n",
    "method sqlalchemy.schema.Table.compile(bind: Engine | Connection | None = None, dialect: Dialect | None = None, **kw: Any) → Compiled\n",
    "inherited from the CompilerElement.compile() method of CompilerElement\n",
    "\n",
    "Compile this SQL expression.\n",
    "\n",
    "**compare:**\n",
    "\n",
    "method sqlalchemy.schema.Table.compare(other: ClauseElement, **kw: Any) → bool\n",
    "inherited from the ClauseElement.compare() method of ClauseElement\n",
    "\n",
    "Compare this ClauseElement to the given ClauseElement.\n",
    "\n",
    "Subclasses should override the default behavior, which is a straight identity comparison.\n",
    "\n",
    "**kw are arguments consumed by subclass compare() methods and may be used to modify the criteria for comparison (see ColumnElement).\n",
    "\n"
   ]
  }
 ],
 "metadata": {
  "language_info": {
   "name": "python"
  },
  "orig_nbformat": 4
 },
 "nbformat": 4,
 "nbformat_minor": 2
}
