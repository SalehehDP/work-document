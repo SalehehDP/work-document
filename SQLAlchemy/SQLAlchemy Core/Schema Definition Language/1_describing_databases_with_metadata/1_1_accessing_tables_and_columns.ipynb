{
 "cells": [
  {
   "cell_type": "markdown",
   "metadata": {},
   "source": [
    "The MetaData object contains all of the **schema constructs** we’ve associated with it. It supports a few methods , such as the *sorted_tables* accessor which returns a list of each Table object in order of foreign key dependency\n",
    "\n",
    "Once a Table has been defined, it has a full set of accessors which allow inspection of its properties. Given the following Table definition:"
   ]
  },
  {
   "cell_type": "code",
   "execution_count": null,
   "metadata": {},
   "outputs": [],
   "source": [
    "employees = Table(\n",
    "    \"employees\",\n",
    "    metadata_obj,\n",
    "    Column(\"employee_id\", Integer, primary_key=True),\n",
    "    Column(\"employee_name\", String(60), nullable=False),\n",
    "    Column(\"employee_dept\", Integer, ForeignKey(\"departments.department_id\")),\n",
    ")"
   ]
  },
  {
   "cell_type": "markdown",
   "metadata": {},
   "source": [
    "**Methods of accessing information about this table include:**"
   ]
  },
  {
   "cell_type": "code",
   "execution_count": null,
   "metadata": {},
   "outputs": [],
   "source": [
    "# access the column \"employee_id\":\n",
    "employees.columns.employee_id\n",
    "\n",
    "# or just\n",
    "employees.c.employee_id\n",
    "\n",
    "# via string\n",
    "employees.c[\"employee_id\"]\n",
    "\n",
    "# a tuple of columns may be returned using multiple strings\n",
    "# (new in 2.0)\n",
    "emp_id, name, type = employees.c[\"employee_id\", \"name\", \"type\"]\n",
    "\n",
    "# iterate through all columns\n",
    "for c in employees.c:\n",
    "    print(c)\n",
    "\n",
    "# get the table's primary key columns\n",
    "for primary_key in employees.primary_key:\n",
    "    print(primary_key)\n",
    "\n",
    "# get the table's foreign key objects:\n",
    "for fkey in employees.foreign_keys:\n",
    "    print(fkey)\n",
    "\n",
    "# access the table's MetaData:\n",
    "employees.metadata\n",
    "\n",
    "# access a column's name, type, nullable, primary key, foreign key\n",
    "employees.c.employee_id.name\n",
    "employees.c.employee_id.type\n",
    "employees.c.employee_id.nullable\n",
    "employees.c.employee_id.primary_key\n",
    "employees.c.employee_dept.foreign_keys\n",
    "\n",
    "# get the \"key\" of a column, which defaults to its name, but can\n",
    "# be any user-defined string:\n",
    "employees.c.employee_name.key\n",
    "\n",
    "# access a column's table:\n",
    "employees.c.employee_id.table is employees\n",
    "\n",
    "# get the table related by a foreign key\n",
    "list(employees.c.employee_dept.foreign_keys)[0].column.table"
   ]
  },
  {
   "cell_type": "markdown",
   "metadata": {},
   "source": [
    "**Tip**\n",
    "\n",
    "The FromClause.c collection, synonymous with the FromClause.columns collection, is an instance of ColumnCollection, which provides a dictionary-like interface to the collection of columns.\n",
    "\n",
    "for **special names with spaces** or those that match the names of dictionary methods, indexed access must be used, such as employees.c['values'] or employees.c[\"some column\"]"
   ]
  },
  {
   "cell_type": "markdown",
   "metadata": {},
   "source": []
  }
 ],
 "metadata": {
  "language_info": {
   "name": "python"
  },
  "orig_nbformat": 4
 },
 "nbformat": 4,
 "nbformat_minor": 2
}
