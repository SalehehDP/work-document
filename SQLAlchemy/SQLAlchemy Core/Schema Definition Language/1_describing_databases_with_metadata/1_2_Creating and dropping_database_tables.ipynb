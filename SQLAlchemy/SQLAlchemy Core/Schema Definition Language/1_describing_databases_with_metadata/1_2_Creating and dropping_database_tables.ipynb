{
 "cells": [
  {
   "cell_type": "markdown",
   "metadata": {},
   "source": [
    "**Creating and Dropping Database Tables:**\n",
    "\n",
    "Once you’ve defined some Table objects, assuming you’re working with a brand new database one thing you might want to do is issue CREATE statements for those tables and their related constructs.\n",
    "\n",
    "The usual way to issue CREATE is to use **create_all() on the MetaData object**. This method will issue queries that *first check* for the existence of each individual table, and if not found will issue the CREATE statements:"
   ]
  },
  {
   "cell_type": "code",
   "execution_count": null,
   "metadata": {},
   "outputs": [],
   "source": [
    "engine = create_engine(\"sqlite:///:memory:\")\n",
    "\n",
    "metadata_obj = MetaData()\n",
    "\n",
    "user = Table(\n",
    "    \"user\",\n",
    "    metadata_obj,\n",
    "    Column(\"user_id\", Integer, primary_key=True),\n",
    "    Column(\"user_name\", String(16), nullable=False),\n",
    "    Column(\"email_address\", String(60), key=\"email\"),\n",
    "    Column(\"nickname\", String(50), nullable=False),\n",
    ")\n",
    "\n",
    "user_prefs = Table(\n",
    "    \"user_prefs\",\n",
    "    metadata_obj,\n",
    "    Column(\"pref_id\", Integer, primary_key=True),\n",
    "    Column(\"user_id\", Integer, ForeignKey(\"user.user_id\"), nullable=False),\n",
    "    Column(\"pref_name\", String(40), nullable=False),\n",
    "    Column(\"pref_value\", String(100)),\n",
    ")\n",
    "\n",
    "metadata_obj.create_all(engine)\n",
    "\n"
   ]
  },
  {
   "cell_type": "code",
   "execution_count": null,
   "metadata": {
    "vscode": {
     "languageId": "sql"
    }
   },
   "outputs": [],
   "source": [
    "PRAGMA table_info(user){}\n",
    "CREATE TABLE user(\n",
    "        user_id INTEGER NOT NULL PRIMARY KEY,\n",
    "        user_name VARCHAR(16) NOT NULL,\n",
    "        email_address VARCHAR(60),\n",
    "        nickname VARCHAR(50) NOT NULL\n",
    ")\n",
    "PRAGMA table_info(user_prefs){}\n",
    "CREATE TABLE user_prefs(\n",
    "        pref_id INTEGER NOT NULL PRIMARY KEY,\n",
    "        user_id INTEGER NOT NULL REFERENCES user(user_id),\n",
    "        pref_name VARCHAR(40) NOT NULL,\n",
    "        pref_value VARCHAR(100)\n",
    ")"
   ]
  },
  {
   "cell_type": "markdown",
   "metadata": {},
   "source": [
    "create_all() creates foreign key constraints between tables usually inline with the table definition itself, and for this reason it also *generates the tables in order of their dependency.* There are options to change this behavior such that ALTER TABLE is used instead.\n",
    "\n",
    "\n",
    "Dropping all tables is similarly achieved using the **drop_all()** method. This method does the exact opposite of create_all() - the presence of each table is checked first, and tables are dropped in reverse order of dependency."
   ]
  },
  {
   "cell_type": "markdown",
   "metadata": {},
   "source": [
    "Creating and dropping *individual tables* can be done via the **create() and drop() methods of Table**. These methods by default issue the CREATE or DROP *regardless of the table being present*:"
   ]
  },
  {
   "cell_type": "code",
   "execution_count": null,
   "metadata": {},
   "outputs": [],
   "source": [
    "engine = create_engine(\"sqlite:///:memory:\")\n",
    "\n",
    "metadata_obj = MetaData()\n",
    "\n",
    "employees = Table(\n",
    "    \"employees\",\n",
    "    metadata_obj,\n",
    "    Column(\"employee_id\", Integer, primary_key=True),\n",
    "    Column(\"employee_name\", String(60), nullable=False, key=\"name\"),\n",
    "    Column(\"employee_dept\", Integer, ForeignKey(\"departments.department_id\")),\n",
    ")\n",
    "employees.create(engine)\n",
    "\n",
    "#drop() method:\n",
    "employees.drop(engine)"
   ]
  },
  {
   "cell_type": "code",
   "execution_count": null,
   "metadata": {
    "vscode": {
     "languageId": "sql"
    }
   },
   "outputs": [],
   "source": [
    "\n",
    "CREATE TABLE employees(\n",
    "    employee_id SERIAL NOT NULL PRIMARY KEY,\n",
    "    employee_name VARCHAR(60) NOT NULL,\n",
    "    employee_dept INTEGER REFERENCES departments(department_id)\n",
    ")\n",
    "{}\n",
    "\n",
    "DROP TABLE employees\n",
    "{}"
   ]
  },
  {
   "cell_type": "markdown",
   "metadata": {},
   "source": [
    "To enable the “check first for the table existing” logic, add the checkfirst=True argument to create() or drop():"
   ]
  },
  {
   "cell_type": "code",
   "execution_count": null,
   "metadata": {},
   "outputs": [],
   "source": [
    "employees.create(engine, checkfirst=True)\n",
    "employees.drop(engine, checkfirst=False)"
   ]
  },
  {
   "cell_type": "markdown",
   "metadata": {},
   "source": []
  }
 ],
 "metadata": {
  "language_info": {
   "name": "python"
  },
  "orig_nbformat": 4
 },
 "nbformat": 4,
 "nbformat_minor": 2
}
