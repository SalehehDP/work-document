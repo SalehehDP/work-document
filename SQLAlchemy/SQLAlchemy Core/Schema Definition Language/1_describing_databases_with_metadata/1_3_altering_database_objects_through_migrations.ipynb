{
 "cells": [
  {
   "cell_type": "markdown",
   "metadata": {},
   "source": [
    "**Altering Database Objects through Migrations**:\n",
    "While SQLAlchemy directly supports emitting CREATE and DROP statements for schema constructs, the ability to alter those constructs, usually via the ALTER statement as well as other database-specific constructs, is outside of the scope of SQLAlchemy itself. While it’s easy enough to emit ALTER statements and similar by hand, such as by passing a text() construct to Connection.execute() or by using the DDL construct.\n",
    "\n",
    "\n",
    "*The SQLAlchemy project offers the **Alembic** migration tool for this purpose.* \n",
    "\n",
    "*Alembic features :* supporting such features as transactional DDL, automatic generation of “candidate” migrations, an “offline” mode which generates SQL scripts, and support for branch resolution.\n",
    "\n",
    "Alembic supersedes the *SQLAlchemy-Migrate* project, which is the original migration tool for SQLAlchemy and is now considered legacy.\n"
   ]
  }
 ],
 "metadata": {
  "language_info": {
   "name": "python"
  },
  "orig_nbformat": 4
 },
 "nbformat": 4,
 "nbformat_minor": 2
}
