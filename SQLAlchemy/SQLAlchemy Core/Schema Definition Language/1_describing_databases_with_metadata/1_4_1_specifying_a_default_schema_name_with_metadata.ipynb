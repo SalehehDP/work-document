{
 "cells": [
  {
   "cell_type": "markdown",
   "metadata": {},
   "source": [
    "The MetaData object may also set up an explicit default option for all Table.schema parameters by passing the MetaData.schema argument to the top level MetaData construct"
   ]
  },
  {
   "cell_type": "code",
   "execution_count": null,
   "metadata": {},
   "outputs": [],
   "source": [
    "metadata_obj = MetaData(schema=\"remote_banks\")\n",
    "\n",
    "financial_info = Table(\n",
    "    \"financial_info\",\n",
    "    metadata_obj,\n",
    "    Column(\"id\", Integer, primary_key=True),\n",
    "    Column(\"value\", String(100), nullable=False),\n",
    ")"
   ]
  },
  {
   "cell_type": "markdown",
   "metadata": {},
   "source": [
    "Above, for any Table object (or Sequence object directly associated with the MetaData) which leaves the Table.schema parameter at its default of None will instead act as though the parameter were set to the value \"remote_banks\". \n",
    "\n",
    "When using the ForeignKey or ForeignKeyConstraint objects to refer to this table, either the schema-qualified name or the non-schema-qualified name may be used to refer to the remote_banks.financial_info table:"
   ]
  },
  {
   "cell_type": "code",
   "execution_count": null,
   "metadata": {},
   "outputs": [],
   "source": [
    "# either will work:\n",
    "\n",
    "refers_to_financial_info = Table(\n",
    "    \"refers_to_financial_info\",\n",
    "    metadata_obj,\n",
    "    Column(\"id\", Integer, primary_key=True),\n",
    "    Column(\"fiid\", ForeignKey(\"financial_info.id\")),\n",
    ")\n",
    "\n",
    "\n",
    "# or\n",
    "\n",
    "refers_to_financial_info = Table(\n",
    "    \"refers_to_financial_info\",\n",
    "    metadata_obj,\n",
    "    Column(\"id\", Integer, primary_key=True),\n",
    "    Column(\"fiid\", ForeignKey(\"remote_banks.financial_info.id\")),\n",
    ")"
   ]
  },
  {
   "cell_type": "markdown",
   "metadata": {},
   "source": [
    "When using a MetaData object that sets MetaData.schema, a Table that wishes to specify that it should not be schema qualified may use the special symbol BLANK_SCHEMA"
   ]
  },
  {
   "cell_type": "code",
   "execution_count": null,
   "metadata": {},
   "outputs": [],
   "source": [
    "from sqlalchemy import BLANK_SCHEMA\n",
    "\n",
    "metadata_obj = MetaData(schema=\"remote_banks\")\n",
    "\n",
    "financial_info = Table(\n",
    "    \"financial_info\",\n",
    "    metadata_obj,\n",
    "    Column(\"id\", Integer, primary_key=True),\n",
    "    Column(\"value\", String(100), nullable=False),\n",
    "    schema=BLANK_SCHEMA,  # will not use \"remote_banks\"\n",
    ")"
   ]
  }
 ],
 "metadata": {
  "language_info": {
   "name": "python"
  },
  "orig_nbformat": 4
 },
 "nbformat": 4,
 "nbformat_minor": 2
}
