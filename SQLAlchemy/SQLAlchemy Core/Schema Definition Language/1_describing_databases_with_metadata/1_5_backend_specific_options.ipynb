{
 "cells": [
  {
   "cell_type": "markdown",
   "metadata": {},
   "source": [
    "**Backend-Specific Options:**\n",
    "\n",
    "\n",
    "Table supports database-specific options. For example, **MySQL** has different table backend types, including “MyISAM” and “InnoDB”. This can be expressed with Table using mysql_engine\n",
    "\n",
    "Other backends may support table-level options as well - these would be described in the individual documentation sections for each dialect."
   ]
  }
 ],
 "metadata": {
  "language_info": {
   "name": "python"
  },
  "orig_nbformat": 4
 },
 "nbformat": 4,
 "nbformat_minor": 2
}
