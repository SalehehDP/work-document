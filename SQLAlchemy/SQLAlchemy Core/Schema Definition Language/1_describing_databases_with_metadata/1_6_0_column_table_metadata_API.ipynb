{
 "cells": [
  {
   "cell_type": "markdown",
   "metadata": {},
   "source": [
    "\n",
    "**Column:**\n",
    "\n",
    "Represents a column in a database table.\n",
    "\n",
    "\n",
    "**insert_sentinel**([name, type_], *, [default, omit_from_statements]):\n",
    "\n",
    "Provides a surrogate Column that will act as a dedicated insert sentinel column, allowing efficient bulk inserts with deterministic RETURNING sorting for tables that don’t otherwise have qualifying primary key configurations. ??\n",
    "\n",
    "یک ستون جایگزون به عنوان نگهبان ورودی ها ؟ \n",
    "پرایمر کی ؟؟؟ \n",
    "\n",
    "\n",
    "**MetaData:**\n",
    "\n",
    "A collection of Table objects and their associated schema constructs.\n",
    "\n",
    "**SchemaConst:**\n",
    "\n",
    "An enumeration.\n",
    "\n",
    "**SchemaItem:**\n",
    "\n",
    "Base class for items that define a database schema.\n",
    "\n",
    "**Table:**\n",
    "\n",
    "Represent a table in a database."
   ]
  }
 ],
 "metadata": {
  "language_info": {
   "name": "python"
  },
  "orig_nbformat": 4
 },
 "nbformat": 4,
 "nbformat_minor": 2
}
