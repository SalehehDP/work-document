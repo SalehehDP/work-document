{
 "cells": [
  {
   "cell_type": "markdown",
   "metadata": {},
   "source": [
    "\n",
    "**_ _ init _ _()**\n",
    "Construct a new Column object.\n",
    "\n",
    "method sqlalchemy.schema.Column._ _ init _ _(\n",
    "    \n",
    "_Column__name_pos: str | _TypeEngineArgument[_T] | SchemaEventTarget | None = None,\n",
    "\n",
    "_Column__type_pos: _TypeEngineArgument[_T] | SchemaEventTarget | None = None,\n",
    "\n",
    "**args*: SchemaEventTarget, \n",
    "Additional positional arguments include various SchemaItem derived constructs which will be applied as options to the column. These include instances of Constraint, ForeignKey, ColumnDefault, Sequence, Computed Identity. In some cases an equivalent keyword argument is available such as server_default, default and unique.\n",
    "\n",
    "*name*: str | None = None,   \n",
    "This argument may be the first positional argument, or specified via keyword.\n",
    "\n",
    "no upper case characters -> reated as case insensitive -> will not be quoted\n",
    "\n",
    "any number of upper case characters  -> quoted and sent exactly\n",
    "\n",
    "The name field may be omitted at construction time and applied later, at any time before the Column is \n",
    "associated with a Table. This is to support convenient usage within the declarative extension\n",
    "\n",
    "*type_*: _TypeEngineArgument[_T] | None = None, \n",
    "The column’s type\n",
    "\n",
    "The type argument may be the second positional argument or specified by keyword.\n",
    "\n",
    "If the type is None or is omitted, it will first default to the special type NullType\n",
    "\n",
    " If and when this Column is made to refer to another column using ForeignKey and/or ForeignKeyConstraint, the type of the remote-referenced column will be copied to this column as well, at the moment that the foreign key is resolved against that remote Column object.\n",
    "\n",
    "\n",
    "*autoincrement*: _AutoIncrementType = 'auto',\n",
    "set for *integer primary key column with no foreign key dependencies*\n",
    "\n",
    "The default value is the string \"auto\"\n",
    "\n",
    "True\n",
    "\n",
    "False\n",
    "\n",
    "\"ignore_fk\"\n",
    "\n",
    "*key*: str | None = None, \n",
    "\n",
    "\n",
    "*default*: Any | None = None, \n",
    "A scalar, Python callable, or ColumnElement expression representing the default value for this column, which will be invoked upon insert if this column is otherwise not specified in the VALUES clause of the insert.\n",
    "\n",
    "This is a shortcut to using ColumnDefault as a positional argument\n",
    "\n",
    "Contrast this argument to Column.server_default which creates a default generator on the database side.\n",
    "\n",
    "*doc*: str | None = None, \n",
    "optional String that can be used by the ORM or similar to document attributes on the Python side. This attribute does not render SQL comments; use the Column.comment parameter for this purpose.\n",
    "\n",
    "\n",
    "\n",
    "*index*: bool | None = None, \n",
    "When True, indicates that a Index construct will be automatically generated for this Column\n",
    "\n",
    "Using this flag is equivalent to making use of the Index construct explicitly at the level of the Table construct itself:"
   ]
  },
  {
   "cell_type": "code",
   "execution_count": null,
   "metadata": {},
   "outputs": [],
   "source": [
    "Table(\n",
    "    \"some_table\",\n",
    "    metadata,\n",
    "    Column(\"x\", Integer),\n",
    "    Index(\"ix_some_table_x\", \"x\")\n",
    ")"
   ]
  },
  {
   "cell_type": "markdown",
   "metadata": {},
   "source": [
    "\n",
    "To add the Index.unique flag to the Index, set both the Column.unique and Column.index flags to True simultaneously, -> “CREATE UNIQUE INDEX”\n",
    "\n",
    "The name of the index is generated using the default naming convention which for the Index construct is of the form ix_{tablename}_{columnname}.\n",
    "\n",
    "\n",
    "explicit use of the Index construct should be preferred for most use cases, including composite indexes that encompass more than one column, indexes with SQL expressions or ordering, backend-specific index configuration options, and indexes that use a specific name\n",
    "\n",
    "\n",
    "Note : \n",
    "the Column.index attribute on Column does not indicate if this column is indexed or not, only if this flag was explicitly set here. To view indexes on a column, view the Table.indexes collection or use Inspector.get_indexes().\n",
    "\n",
    "\n",
    "\n",
    "*info*: _InfoType | None = None, \n",
    "Optional data dictionary which will be populated into the SchemaItem.info attribute of this object.\n",
    "\n",
    "*nullable*: bool | Literal[SchemaConst.NULL_UNSPECIFIED] | None = SchemaConst.NULL_UNSPECIFIED, \n",
    "\n",
    "False -> will cause the “NOT NULL” phrase\n",
    "\n",
    "True -> will normally generate nothing (in SQL this defaults to “NULL”)\n",
    "\n",
    "Defaults to True unless Column.primary_key is also True or the column specifies a Identity, in which case it defaults to False. \n",
    "\n",
    "Note :\n",
    " When the column specifies a Identity this parameter is in general ignored by the DDL compiler. The PostgreSQL database allows nullable identity column by setting this parameter to True explicitly.\n",
    "\n",
    "*onupdate*: Any | None = None, \n",
    "A scalar, Python callable,or ClauseElement representing a default value to be applied to the column within UPDATE statements, which will be invoked upon update if this column is not present in the SET clause of the update. This is a shortcut to using ColumnDefault as a positional argument with for_update=True.\n",
    "\n",
    "\n",
    "*primary_key*: bool = False, \n",
    "\n",
    " True -> marks this column as a primary key column\n",
    "\n",
    " Multiple columns can have this flag set to specify composite primary keys. As an alternative, the primary key of a Table can be specified via an explicit PrimaryKeyConstraint object.\n",
    "\n",
    "\n",
    "\n",
    "*server_default*: _ServerDefaultArgument | None = None, \n",
    "A FetchedValue instance, str, Unicode or text() construct representing the DDL DEFAULT value for the column.\n",
    "\n",
    "String types will be emitted as-is, surrounded by single quotes\n",
    "\n",
    "A text() expression will be rendered as-is, without quotes\n",
    "\n",
    "Strings and text() will be converted into a DefaultClause object upon initialization.\n",
    "\n",
    "This parameter can also accept complex combinations of contextually valid SQLAlchemy expressions or constructs:\n"
   ]
  },
  {
   "cell_type": "code",
   "execution_count": null,
   "metadata": {},
   "outputs": [],
   "source": [
    "Column('x', Text, server_default=\"val\")\n",
    "\n",
    "Column('y', DateTime, server_default=text('NOW()'))\n",
    "\n",
    "Column(\"bar\",ARRAY(Text),server_default=array([\"biz\", \"bang\", \"bash\"]))"
   ]
  },
  {
   "cell_type": "code",
   "execution_count": null,
   "metadata": {
    "vscode": {
     "languageId": "sql"
    }
   },
   "outputs": [],
   "source": [
    "x TEXT DEFAULT 'val'\n",
    "\n",
    "y DATETIME DEFAULT NOW()\n",
    "\n",
    "bar TEXT[] DEFAULT ARRAY['biz', 'bang', 'bash']"
   ]
  },
  {
   "cell_type": "markdown",
   "metadata": {},
   "source": [
    "\n",
    "Use FetchedValue to indicate that an already-existing column will generate a default value on the database side which will be available to SQLAlchemy for post-fetch after inserts. This construct does not specify any DDL and the implementation is left to the database, such as via a trigger.  \n",
    "\n",
    "چوکار شده ؟ یک ستونی که از قبل وجود داره مقدار پیش فرض تولید میکنه سمت دیتابیس \n",
    "- post-fetch ? "
   ]
  },
  {
   "cell_type": "markdown",
   "metadata": {},
   "source": [
    "*server_onupdate*: FetchedValue | None = None, \n",
    "\n",
    "??\n",
    "\n",
    "*quote*: bool | None = None, \n",
    "Force quoting of this column’s name on or off,\n",
    "\n",
    "default , None -> the column identifier will be quoted according to whether the name \n",
    "is case sensitive\n",
    "\n",
    "True , False \n",
    "\n",
    "This flag is only needed to force quoting of a reserved word which is not known by the SQLAlchemy dialect.\n",
    "\n",
    "?? reserved word ??\n",
    "\n",
    "*unique*: bool | None = None, \n",
    "\n",
    "When *True*, and the *Column.index* parameter is left at its default value of *False*, indicates that a UniqueConstraint construct will be automatically generated for this Column, which will result in a “UNIQUE CONSTRAINT” clause referring to this column\n",
    "\n",
    "When this flag is *True* while the *Column.index* parameter is simultaneously set to *True*, the effect instead is that a Index construct \n",
    "\n",
    "Using this flag is equivalent to making use of the UniqueConstraint construct explicitly at the level of the Table construct itself:"
   ]
  },
  {
   "cell_type": "code",
   "execution_count": null,
   "metadata": {
    "vscode": {
     "languageId": "sql"
    }
   },
   "outputs": [],
   "source": [
    "Table(\n",
    "    \"some_table\",\n",
    "    metadata,\n",
    "    Column(\"x\", Integer),\n",
    "    UniqueConstraint(\"x\")\n",
    ")"
   ]
  },
  {
   "cell_type": "markdown",
   "metadata": {},
   "source": [
    "\n",
    "The *UniqueConstraint.name* parameter of the unique constraint object is left at its *default value of None*; in the absence of a naming convention for the enclosing MetaData, the UNIQUE CONSTRAINT construct will be emitted as *unnamed*, which typically invokes a database-specific naming convention to take place.\n",
    "\n",
    "\n",
    "As this flag is intended only as a convenience for the common case of adding a single-column, default configured unique constraint to a table definition, *explicit use of the UniqueConstraint construct should be preferred for most use cases*, including composite constraints that encompass more than one column, backend-specific index configuration options, and constraints that use a specific name.\n",
    "\n",
    "\n",
    "the Column.unique attribute on Column *does not indicate if this column has a unique constraint or not*, only if this flag was explicitly set here. To view unique constraints that may involve this column, Table.constraints collections or use Inspector.get_unique_constraints()"
   ]
  },
  {
   "cell_type": "markdown",
   "metadata": {},
   "source": [
    "\n",
    "*system*: bool = False, \n",
    "When True, indicates this is a “system” column, that is a column which is automatically made available by the database, and should not be included in the columns list for a CREATE TABLE statement.\n",
    "\n",
    "*comment*: str | None = None, \n",
    "Optional string that will render an SQL comment on table creation.\n",
    "\n",
    "*insert_sentinel*: bool = False,\n",
    "Marks this Column as an insert sentinel used for optimizing the performance of the insertmanyvalues feature for tables that don’t otherwise have qualifying primary key configurations.\n",
    "\n",
    "اگر جدولی مقداری نداره که به عنوان پرایمری کی استفاده بشه این بچه میاد وسط ؟‌ایدی چیزی ؟ \n",
    "\n",
    "_omit_from_statements: bool = False, \n",
    "_proxies: Any | None = None, \n",
    "**dialect_kwargs: Any)"
   ]
  }
 ],
 "metadata": {
  "language_info": {
   "name": "python"
  },
  "orig_nbformat": 4
 },
 "nbformat": 4,
 "nbformat_minor": 2
}
