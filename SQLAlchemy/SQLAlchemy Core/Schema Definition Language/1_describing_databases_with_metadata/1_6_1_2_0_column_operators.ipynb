{
 "cells": [
  {
   "cell_type": "markdown",
   "metadata": {},
   "source": [
    "قیاس کردن دو تا ستون به چه معناست ؟ "
   ]
  },
  {
   "cell_type": "markdown",
   "metadata": {},
   "source": [
    "\n",
    "**_ _ eq _ _**\n",
    "\n",
    "method sqlalchemy.schema.Column. _ _ eq _ _(other: Any) → ColumnOperators\n",
    "\n",
    "Implement the *==* operator.\n",
    "In a column context, produces the clause a = b. If the target is None, produces a IS NULL.\n"
   ]
  },
  {
   "cell_type": "markdown",
   "metadata": {},
   "source": [
    "**_ _ le _ _**\n",
    "\n",
    "method sqlalchemy.schema.Column._ _ le _ _(other: Any) → ColumnOperators¶\n",
    "\n",
    "Implement the *<=* operator.In a column context, produces the clause a <= b."
   ]
  },
  {
   "cell_type": "markdown",
   "metadata": {},
   "source": [
    "**_ _ lt _ _**\n",
    "\n",
    "method sqlalchemy.schema.Column._ _ lt _ _(other: Any) → ColumnOperators\n",
    "\n",
    "Implement the *<* operator.In a column context, produces the clause a < b."
   ]
  },
  {
   "cell_type": "markdown",
   "metadata": {},
   "source": [
    "**_ _ ne _ _**\n",
    "\n",
    "method sqlalchemy.schema.Column._ _ ne _ _(other: Any) → ColumnOperators¶\n",
    "\n",
    "Implement the *!=* operator.In a column context, produces the clause a != b. If the target is None, produces a IS NOT NULL."
   ]
  },
  {
   "cell_type": "markdown",
   "metadata": {},
   "source": [
    "**all_()**\n",
    "\n",
    "method sqlalchemy.schema.Column.all_() → ColumnOperators¶\n",
    "\n",
    "Produce an all_() clause against the parent object.\n",
    "\n",
    "The column-level ColumnElement.all_() method is shorthand for all_(col):\n",
    "\n",
    "5 == mytable.c.somearray.all_()  \n",
    "equal with : \n",
    "5 == all_(mytable.c.somearray)\n",
    "\n",
    "Produce an ALL expression.\n",
    "For dialects such as that of PostgreSQL, this operator applies to usage of the *ARRAY datatype*, for that of MySQL, it may *apply to a subquery*.\n",
    "\n",
    "\n",
    "\n",
    "Note :\n",
    "\n",
    "be sure to not confuse the newer ColumnOperators.all_() method with its older ARRAY-specific counterpart, the Comparator.all() method, which a different calling syntax and usage pattern.\n",
    "\n",
    "//Comparator.all() ? "
   ]
  },
  {
   "cell_type": "code",
   "execution_count": null,
   "metadata": {},
   "outputs": [],
   "source": [
    "# renders on PostgreSQL:\n",
    "# '5 = ALL (somearray)'\n",
    "expr = 5 == all_(mytable.c.somearray)\n",
    "\n",
    "# renders on MySQL:\n",
    "# '5 = ALL (SELECT value FROM table)'\n",
    "expr = 5 == all_(select(table.c.value))\n",
    "\n",
    "#on MySQL ????"
   ]
  },
  {
   "cell_type": "markdown",
   "metadata": {},
   "source": [
    "**any_():**\n",
    "\n",
    "method sqlalchemy.schema.Column.any_() → ColumnOperators\n",
    "\n",
    "Produce an any_() clause against the parent object.\n",
    "\n",
    "ME : هویتا به مانند all_()\n",
    "\n",
    "Produce an ANY expression.\n",
    "For dialects such as that of PostgreSQL, this operator applies to usage of the *ARRAY datatype*, for that of MySQL, it may *apply to a subquery*.\n",
    "\n",
    "\n",
    "Note :\n",
    "\n",
    "be sure to not confuse the newer ColumnOperators.any_() method with its older ARRAY-specific counterpart, the Comparator.any() method, which a different calling syntax and usage pattern.\n",
    "\n",
    "\n",
    "\n",
    "\n"
   ]
  },
  {
   "cell_type": "code",
   "execution_count": null,
   "metadata": {},
   "outputs": [],
   "source": [
    "# renders on PostgreSQL:\n",
    "# '5 = ANY (somearray)'\n",
    "expr = 5 == any_(mytable.c.somearray)\n",
    "\n",
    "# renders on MySQL:\n",
    "# '5 = ANY (SELECT value FROM table)'\n",
    "expr = 5 == any_(select(table.c.value))"
   ]
  },
  {
   "cell_type": "markdown",
   "metadata": {},
   "source": [
    "**asc():**\n",
    "\n",
    "//ascending\n",
    "method sqlalchemy.schema.Column.asc() → ColumnOperators\n",
    "\n",
    "Produce a asc() clause against the parent object.  "
   ]
  },
  {
   "cell_type": "code",
   "execution_count": null,
   "metadata": {},
   "outputs": [],
   "source": [
    "stmt = select(users_table).order_by(users_table.c.name.asc())"
   ]
  },
  {
   "cell_type": "markdown",
   "metadata": {},
   "source": [
    "**between:**\n",
    "\n",
    "method sqlalchemy.schema.Column.between(cleft: Any, cright: Any, symmetric: bool = False) → ColumnOperators\n",
    "\n",
    "Produce a between() clause against the parent object, given the lower and upper range.\n",
    "\n",
    "The between() function is a standalone version of the ColumnElement.between() method available on all SQL expressions\n",
    "\n",
    "*Parameters:* \n",
    "\n",
    "symmetric – if True, will render “ BETWEEN SYMMETRIC “. Note that not all databases support this syntax."
   ]
  },
  {
   "cell_type": "code",
   "execution_count": null,
   "metadata": {},
   "outputs": [],
   "source": [
    "stmt = select(users_table).where(users_table.c.id.between(5, 7))"
   ]
  },
  {
   "cell_type": "markdown",
   "metadata": {},
   "source": [
    "**collate:**\n",
    "\n",
    "method sqlalchemy.schema.Column.collate(collation: str) → ColumnOperators\n",
    "\n",
    "Produce a collate() clause against the parent object, given the collation string.\n",
    "Return the clause expression COLLATE collation."
   ]
  },
  {
   "cell_type": "code",
   "execution_count": null,
   "metadata": {},
   "outputs": [],
   "source": [
    "collate(mycolumn, 'utf8_bin') #?"
   ]
  },
  {
   "cell_type": "code",
   "execution_count": null,
   "metadata": {
    "vscode": {
     "languageId": "sql"
    }
   },
   "outputs": [],
   "source": [
    "mycolumn COLLATE utf8_bin"
   ]
  },
  {
   "cell_type": "markdown",
   "metadata": {},
   "source": [
    "**concat:**\n",
    "\n",
    "method sqlalchemy.schema.Column.concat(other: Any) → ColumnOperators\n",
    "\n",
    "Implement the ‘concat’ operator.\n",
    "\n",
    "In a column context, produces the *clause a || b*, or uses the concat() operator on MySQL.\n",
    "\n",
    "\n",
    "**contains:**\n",
    "\n",
    "method sqlalchemy.schema.Column.contains(other: Any, **kw: Any) → ColumnOperators\n",
    "\n",
    "Implement the ‘contains’ operator.\n",
    "\n",
    "Produces a *LIKE* expression that tests against a match for the *middle* of a string value:"
   ]
  },
  {
   "cell_type": "code",
   "execution_count": null,
   "metadata": {
    "vscode": {
     "languageId": "sql"
    }
   },
   "outputs": [],
   "source": [
    "column LIKE '%' || <other> || '%'"
   ]
  },
  {
   "cell_type": "code",
   "execution_count": null,
   "metadata": {},
   "outputs": [],
   "source": [
    "stmt = select(sometable).\\\n",
    "    where(sometable.c.column.contains(\"foobar\"))"
   ]
  },
  {
   "cell_type": "markdown",
   "metadata": {},
   "source": [
    "Since the operator uses LIKE, wildcard characters *\"%\" and \"_\"* that are *present inside the {other} expression* will behave like wildcards as well. For literal string values, the ColumnOperators.contains.*autoescape* flag may be set to True to apply escaping to occurrences of these characters within the string value so that they match as themselves and not as wildcard characters. \n",
    "Alternatively, the ColumnOperators.contains.*escape* parameter will establish a given character as an *escape character* which can be of use when the target expression is not a literal string. //? کی استفاده می شه "
   ]
  },
  {
   "cell_type": "markdown",
   "metadata": {},
   "source": [
    "*Parameters:*\n",
    "\n",
    "*other* – expression to be compared. This is usually a plain string value, but can also be an arbitrary SQL expression. LIKE wildcard characters % and _ *are not escaped by default* unless the ColumnOperators.contains.autoescape flag is set to True.\n",
    "\n",
    "*autoescape* –boolean;\n",
    "True ->  establishes an escape character within the LIKE expression, then applies it to all occurrences of \"%\", \"_\" and the escape character itself within the comparison value, which is assumed to be a literal string and not a SQL expression.\n",
    "\n",
    "An expression such as:"
   ]
  },
  {
   "cell_type": "code",
   "execution_count": null,
   "metadata": {},
   "outputs": [],
   "source": [
    "somecolumn.contains(\"foo%bar\", autoescape=True)"
   ]
  },
  {
   "cell_type": "code",
   "execution_count": null,
   "metadata": {
    "vscode": {
     "languageId": "sql"
    }
   },
   "outputs": [],
   "source": [
    "somecolumn LIKE '%' || :param || '%' ESCAPE '/' \n"
   ]
  },
  {
   "cell_type": "markdown",
   "metadata": {},
   "source": [
    ":param  =>  \"foo/%bar\"\n",
    "\n",
    "*escape* –\n",
    "\n",
    "a character which when given will render with the ESCAPE keyword to establish that character as the escape character. This character can then be *placed preceding occurrences of % and _ to allow them to act as themselves and not wildcard characters*.\n",
    "\n",
    "An expression such as:"
   ]
  },
  {
   "cell_type": "code",
   "execution_count": null,
   "metadata": {},
   "outputs": [],
   "source": [
    "somecolumn.contains(\"foo/%bar\", escape=\"^\")\n",
    "\n",
    "#The parameter may also be combined with ColumnOperators.contains.autoescape:\n",
    "somecolumn.contains(\"foo%bar^bat\", escape=\"^\", autoescape=True)"
   ]
  },
  {
   "cell_type": "markdown",
   "metadata": {},
   "source": [
    "Where above, the given literal parameter will be converted to *\"foo^%bar^^bat\"* before being passed to the database.\n",
    "\n",
    "\n",
    "// bar^^bat why ?? من قرار از ٪ و ـ فرار کنم از ^چرا باید قبل خودش قرار بگیرد ؟ \n",
    "// مگر بدین صورت باشد :‌^ هرجا ببنیم ازش چشم پوشی میکنیم و حرف بعدی بدون در نظر گرفتن هیچی قرار خواهیم داد . "
   ]
  },
  {
   "cell_type": "markdown",
   "metadata": {},
   "source": [
    "**desc:**\n",
    "\n",
    "method sqlalchemy.schema.Column.desc() → ColumnOperators\n",
    "\n",
    "Produce a desc() clause against the parent object.\n",
    "\n"
   ]
  },
  {
   "cell_type": "markdown",
   "metadata": {},
   "source": [
    "**distinct:**\n",
    "\n",
    "method sqlalchemy.schema.Column.distinct() → ColumnOperators\n",
    "\n",
    "Produce a distinct() clause against the parent object. // parent object => Column ?\n",
    "\n",
    "This applies the DISTINCT keyword to an individual column expression, and is typically contained within an aggregate function, as in:"
   ]
  },
  {
   "cell_type": "code",
   "execution_count": null,
   "metadata": {},
   "outputs": [],
   "source": [
    "stmt = select(func.count(users_table.c.name.distinct()))"
   ]
  },
  {
   "cell_type": "code",
   "execution_count": null,
   "metadata": {
    "vscode": {
     "languageId": "sql"
    }
   },
   "outputs": [],
   "source": [
    "SELECT COUNT(DISTINCT name) FROM user"
   ]
  },
  {
   "cell_type": "markdown",
   "metadata": {},
   "source": [
    "**endswith:**\n",
    "\n",
    "method sqlalchemy.schema.Column.endswith(other: Any, escape: str | None = None, autoescape: bool = False) → ColumnOperators\n",
    "\n",
    "Implement the ‘endswith’ operator.\n",
    "\n",
    "Produces a *LIKE* expression that tests against a match for the end of a string value:"
   ]
  },
  {
   "cell_type": "code",
   "execution_count": null,
   "metadata": {
    "vscode": {
     "languageId": "sql"
    }
   },
   "outputs": [],
   "source": [
    "column LIKE '%' || <other>"
   ]
  },
  {
   "cell_type": "code",
   "execution_count": null,
   "metadata": {},
   "outputs": [],
   "source": [
    "stmt = select(sometable).\\\n",
    "    where(sometable.c.column.endswith(\"foobar\"))"
   ]
  },
  {
   "cell_type": "markdown",
   "metadata": {},
   "source": [
    "ME : پارامتر های  autoescape and escape  بمانند بخش متد like عمل می کنند. \n",
    "مثال ها : "
   ]
  },
  {
   "cell_type": "code",
   "execution_count": null,
   "metadata": {},
   "outputs": [],
   "source": [
    "somecolumn.endswith(\"foo%bar\", autoescape=True)"
   ]
  },
  {
   "cell_type": "code",
   "execution_count": null,
   "metadata": {
    "vscode": {
     "languageId": "sql"
    }
   },
   "outputs": [],
   "source": [
    "somecolumn LIKE '%' || :param ESCAPE '/'"
   ]
  },
  {
   "cell_type": "markdown",
   "metadata": {},
   "source": [
    ":param =>\"foo/%bar\""
   ]
  },
  {
   "cell_type": "code",
   "execution_count": null,
   "metadata": {},
   "outputs": [],
   "source": [
    "somecolumn.endswith(\"foo%bar^bat\", escape=\"^\", autoescape=True)  # => \"foo^%bar^^bat\""
   ]
  },
  {
   "cell_type": "markdown",
   "metadata": {},
   "source": [
    "**icontains:**\n",
    "\n",
    "method sqlalchemy.schema.Column.icontains(other: Any, **kw: Any) → ColumnOperators\n",
    "\n",
    "Implement the icontains operator, e.g. case *insensitive* version of ColumnOperators.*contains*().\n",
    "\n",
    "Produces a LIKE expression that tests against an *insensitive match* for the middle of a string value:"
   ]
  },
  {
   "cell_type": "code",
   "execution_count": null,
   "metadata": {},
   "outputs": [],
   "source": [
    "stmt = select(sometable).\\\n",
    "    where(sometable.c.column.icontains(\"foobar\"))"
   ]
  },
  {
   "cell_type": "code",
   "execution_count": null,
   "metadata": {
    "vscode": {
     "languageId": "sql"
    }
   },
   "outputs": [],
   "source": [
    "lower(column) LIKE '%' || lower(<other>) || '%'"
   ]
  },
  {
   "cell_type": "markdown",
   "metadata": {},
   "source": [
    "ME : پارامتر های  autoescape and escape  بمانند بخش متد like عمل می کنند. "
   ]
  },
  {
   "cell_type": "markdown",
   "metadata": {},
   "source": [
    "**iendswith:**\n",
    "\n",
    "method sqlalchemy.schema.Column.iendswith(other: Any, escape: str | None = None, autoescape: bool = False) → ColumnOperators\n",
    "\n",
    "Implement the iendswith operator, e.g. case *insensitive* version of ColumnOperators.endswith().\n",
    "\n",
    "Produces a LIKE expression that tests against an insensitive match for the end of a string value\n",
    "\n",
    "ME : پارامتر های  autoescape and escape  بمانند بخش متد like عمل می کنند. \n",
    "\n",
    "\n",
    "**ilike:**\n",
    "\n",
    "method sqlalchemy.schema.Column.ilike(other: Any, escape: str | None = None) → ColumnOperators\n",
    "\n",
    "Implement the ilike operator, e.g. case *insensitive LIKE*.\n",
    "\n",
    "In a column context, produces an expression either of the form:"
   ]
  },
  {
   "cell_type": "code",
   "execution_count": null,
   "metadata": {},
   "outputs": [],
   "source": [
    "stmt = select(sometable).\\\n",
    "    where(sometable.c.column.ilike(\"%foobar%\")) # equal to icontains ?"
   ]
  },
  {
   "cell_type": "code",
   "execution_count": null,
   "metadata": {
    "vscode": {
     "languageId": "sql"
    }
   },
   "outputs": [],
   "source": [
    "lower(a) LIKE lower(other)"
   ]
  },
  {
   "cell_type": "markdown",
   "metadata": {},
   "source": [
    "Or on backends that support the ILIKE operator:"
   ]
  },
  {
   "cell_type": "code",
   "execution_count": null,
   "metadata": {
    "vscode": {
     "languageId": "sql"
    }
   },
   "outputs": [],
   "source": [
    "a ILIKE other"
   ]
  },
  {
   "cell_type": "markdown",
   "metadata": {},
   "source": [
    "**in_:**\n",
    "\n",
    "method sqlalchemy.schema.Column.in_(other: Any) → ColumnOperators\n",
    "\n",
    "Implement the *in* operator.\n",
    "\n",
    "In a column context, produces the clause column IN {other}.\n",
    "\n",
    "The given parameter other may be:\n",
    "\n",
    "- A list of literal values, e.g.:"
   ]
  },
  {
   "cell_type": "code",
   "execution_count": null,
   "metadata": {},
   "outputs": [],
   "source": [
    "stmt.where(column.in_([1, 2, 3]))"
   ]
  },
  {
   "cell_type": "markdown",
   "metadata": {},
   "source": [
    "In this calling form, the list of items is converted to a set of *bound parameters* the same length as the list given:\n",
    "\n",
    "// bound parameters => They act as a placeholder for any literal value, such as a bare number or a single quote string."
   ]
  },
  {
   "cell_type": "code",
   "execution_count": null,
   "metadata": {
    "vscode": {
     "languageId": "sql"
    }
   },
   "outputs": [],
   "source": [
    "WHERE COL IN (?, ?, ?)"
   ]
  },
  {
   "cell_type": "markdown",
   "metadata": {},
   "source": [
    "- A list of tuples may be provided if the comparison is *against a tuple_()* containing multiple expressions:"
   ]
  },
  {
   "cell_type": "code",
   "execution_count": null,
   "metadata": {},
   "outputs": [],
   "source": [
    "from sqlalchemy import tuple_\n",
    "\n",
    "stmt.where(tuple_(col1, col2).in_([(1, 10), (2, 20), (3, 30)]))"
   ]
  },
  {
   "cell_type": "markdown",
   "metadata": {},
   "source": [
    "- An empty list, e.g.:"
   ]
  },
  {
   "cell_type": "code",
   "execution_count": null,
   "metadata": {},
   "outputs": [],
   "source": [
    "stmt.where(column.in_([]))"
   ]
  },
  {
   "cell_type": "markdown",
   "metadata": {},
   "source": [
    "In this calling form, the expression renders an *“empty set” expression*. These expressions are tailored to individual backends and are generally trying to *get an empty SELECT statement* as a subquery. Such as on SQLite, the expression is:"
   ]
  },
  {
   "cell_type": "code",
   "execution_count": null,
   "metadata": {
    "vscode": {
     "languageId": "sql"
    }
   },
   "outputs": [],
   "source": [
    "WHERE col IN (SELECT 1 FROM (SELECT 1) WHERE 1!=1)"
   ]
  },
  {
   "cell_type": "markdown",
   "metadata": {},
   "source": [
    "Changed in version 1.4: empty IN expressions now use an execution-time generated SELECT subquery in all cases.\n",
    "\n",
    "ME : WHAT?? o.o\n",
    "\n",
    "- A bound parameter, e.g. bindparam(), may be used if it includes the bindparam.expanding flag:"
   ]
  },
  {
   "cell_type": "code",
   "execution_count": null,
   "metadata": {},
   "outputs": [],
   "source": [
    "stmt.where(column.in_(bindparam('value', expanding=True)))"
   ]
  },
  {
   "cell_type": "markdown",
   "metadata": {},
   "source": [
    "In this calling form, the expression renders a special non-SQL placeholder expression that looks like:"
   ]
  },
  {
   "cell_type": "code",
   "execution_count": null,
   "metadata": {
    "vscode": {
     "languageId": "sql"
    }
   },
   "outputs": [],
   "source": [
    "WHERE COL IN ([EXPANDING_value])"
   ]
  },
  {
   "cell_type": "markdown",
   "metadata": {},
   "source": [
    "This placeholder expression is intercepted at statement execution time to be converted into the variable number of bound parameter form illustrated earlier. If the statement were executed as:"
   ]
  },
  {
   "cell_type": "code",
   "execution_count": null,
   "metadata": {
    "vscode": {
     "languageId": "sql"
    }
   },
   "outputs": [],
   "source": [
    "connection.execute(stmt, {\"value\": [1, 2, 3]})"
   ]
  },
  {
   "cell_type": "markdown",
   "metadata": {},
   "source": [
    "New in version 1.2: added “expanding” bound parameters\n",
    "\n",
    "\n",
    "If an empty list is passed, a special “empty list” expression, which is specific to the database in use, is rendered. On SQLite this would be:"
   ]
  },
  {
   "cell_type": "code",
   "execution_count": null,
   "metadata": {
    "vscode": {
     "languageId": "sql"
    }
   },
   "outputs": [],
   "source": [
    "WHERE COL IN (SELECT 1 FROM (SELECT 1) WHERE 1!=1)"
   ]
  },
  {
   "cell_type": "markdown",
   "metadata": {},
   "source": [
    "- a select() construct, which is usually a correlated *scalar select*:\n",
    "\n",
    "//An SQL scalar function is a user-defined function written in SQL and it returns a single value each time it is invoked"
   ]
  },
  {
   "cell_type": "code",
   "execution_count": null,
   "metadata": {},
   "outputs": [],
   "source": [
    "stmt.where(\n",
    "    column.in_(\n",
    "        select(othertable.c.y).\n",
    "        where(table.c.x == othertable.c.x)\n",
    "    )\n",
    ")"
   ]
  },
  {
   "cell_type": "code",
   "execution_count": null,
   "metadata": {
    "vscode": {
     "languageId": "sql"
    }
   },
   "outputs": [],
   "source": [
    "WHERE COL IN (SELECT othertable.y\n",
    "FROM othertable WHERE othertable.x = table.x)"
   ]
  },
  {
   "cell_type": "markdown",
   "metadata": {},
   "source": [
    "*Parameters:*\n",
    "\n",
    "- other – a list of literals, a select() construct, or a bindparam() construct that includes the bindparam.expanding flag set to True."
   ]
  },
  {
   "cell_type": "markdown",
   "metadata": {},
   "source": [
    "**is_:**\n",
    "\n",
    "method sqlalchemy.schema.Column.is_(other: Any) → ColumnOperators\n",
    "\n",
    "Implement the *IS* operator.\n",
    "\n",
    "Normally, IS is generated automatically when *comparing to a value of None*, which resolves to NULL. However, explicit usage of IS may be desirable if *comparing to boolean values on certain platforms.*\n",
    "\n",
    "\n",
    "\n",
    "**is_distinct_from:**\n",
    "\n",
    "method sqlalchemy.schema.Column.is_distinct_from(other: Any) → ColumnOperators\n",
    "\n",
    "Implement the *IS DISTINCT FROM* operator.\n",
    "\n",
    "Renders “a IS DISTINCT FROM b” on *most platforms*; on some such as *SQLite* may render “a IS NOT b”.\n",
    "\n",
    "\n",
    "\n",
    "**istartswith:**\n",
    "\n",
    "method sqlalchemy.schema.Column.istartswith(other: Any, escape: str | None = None, autoescape: bool = False) → ColumnOperators\n",
    "\n",
    "\n",
    "Implement the istartswith operator, e.g. case *insensitive* version of ColumnOperators.*startswith()*.\n",
    "\n",
    "Produces a LIKE expression that tests against an insensitive match for the start of a string value:\n",
    "\n",
    "ME : پارامتر های  autoescape and escape  بمانند بخش متد like عمل می کنند. "
   ]
  },
  {
   "cell_type": "code",
   "execution_count": null,
   "metadata": {},
   "outputs": [],
   "source": [
    "stmt = select(sometable).\\\n",
    "    where(sometable.c.column.istartswith(\"foobar\"))"
   ]
  },
  {
   "cell_type": "code",
   "execution_count": null,
   "metadata": {
    "vscode": {
     "languageId": "sql"
    }
   },
   "outputs": [],
   "source": [
    "lower(column) LIKE lower(<other>) || '%'"
   ]
  },
  {
   "cell_type": "markdown",
   "metadata": {},
   "source": [
    "**like:**\n",
    "\n",
    "method sqlalchemy.schema.Column.like(other: Any, escape: str | None = None) → ColumnOperators\n",
    "\n",
    "Implement the *like* operator.\n",
    "\n",
    "In a column context, produces the expression:\n",
    "\n",
    "\n",
    "ME : like دقیقا چ میکند یک  contain , start_with , end_with "
   ]
  },
  {
   "cell_type": "code",
   "execution_count": null,
   "metadata": {
    "vscode": {
     "languageId": "sql"
    }
   },
   "outputs": [],
   "source": [
    "a LIKE other"
   ]
  },
  {
   "cell_type": "markdown",
   "metadata": {},
   "source": [
    "**match:**\n",
    "\n",
    "method sqlalchemy.schema.Column.match(other: Any, **kwargs: Any) → ColumnOperators\n",
    "\n",
    "Implements a *database-specific ‘match’* operator.\n",
    "\n",
    "ColumnOperators.match() attempts to resolve to a *MATCH-like* function or operator provided by the backend. Examples include:\n",
    "\n",
    "- PostgreSQL - renders x @@ plainto_tsquery(y)\n",
    "- MySQL - renders MATCH (x) AGAINST (y IN BOOLEAN MODE)\n",
    "- Oracle - renders CONTAINS(x, y)\n",
    "- Backends without any special implementation will emit the operator as “MATCH”. This is compatible with SQLite, for example.\n",
    "\n",
    "\n",
    "**not_ilike:**\n",
    "\n",
    "method sqlalchemy.schema.Column.not_ilike(other: Any, escape: str | None = None) → ColumnOperators\n",
    "\n",
    "implement the *NOT ILIKE* operator.\n",
    "\n",
    "This is equivalent to using negation with ColumnOperators.ilike(), i.e. *~x.ilike(y)*.\n",
    "\n",
    "**not_in:**\n",
    "method sqlalchemy.schema.Column.not_in(other: Any) → ColumnOperators\n",
    "\n",
    "implement the *NOT IN* operator.\n",
    "\n",
    "This is equivalent to using negation with ColumnOperators.in_(), i.e. *~x.in_(y)*.\n",
    "\n",
    "In the case that other is an empty sequence, the compiler produces an “empty not in” expression. This defaults to the expression “1 = 1” to produce true in all cases. The create_engine.empty_in_strategy may be used to alter this behavior.\n",
    "\n",
    "\n",
    "**not_like:**\n",
    "\n",
    "method sqlalchemy.schema.Column.not_like(other: Any, escape: str | None = None) → ColumnOperators\n",
    "\n",
    "implement the *NOT LIKE* operator.\n",
    "\n",
    "This is equivalent to using negation with ColumnOperators.like(), i.e. *~x.like(y)*.\n",
    "\n",
    "\n",
    "\n",
    "**nulls_first:**\n",
    "\n",
    "method sqlalchemy.schema.Column.nulls_first() → ColumnOperators\n",
    "\n",
    "Produce a *nulls_first()* clause against the parent object.\n",
    "\n",
    "Produce the NULLS FIRST modifier for an ORDER BY expression.\n",
    "\n",
    "nulls_first() is intended to modify the expression produced by asc() or desc(), and indicates how NULL values should be handled when they are encountered during ordering:"
   ]
  },
  {
   "cell_type": "code",
   "execution_count": null,
   "metadata": {},
   "outputs": [],
   "source": [
    "from sqlalchemy import desc, nulls_first\n",
    "\n",
    "stmt = select(users_table).order_by(\n",
    "    nulls_first(desc(users_table.c.name)))"
   ]
  },
  {
   "cell_type": "code",
   "execution_count": null,
   "metadata": {
    "vscode": {
     "languageId": "sql"
    }
   },
   "outputs": [],
   "source": [
    "SELECT id, name FROM user ORDER BY name DESC NULLS FIRST"
   ]
  },
  {
   "cell_type": "markdown",
   "metadata": {},
   "source": [
    "**nulls_last:**\n",
    "\n",
    "method sqlalchemy.schema.Column.nulls_last() → ColumnOperators\n",
    "\n",
    "Produce a *nulls_last()* clause against the parent object.\n",
    "\n",
    "\n",
    "\n",
    "**regexp_match:** // NEED TO READ AGAIN\n",
    "method sqlalchemy.schema.Column.regexp_match(pattern: Any, flags: str | None = None) → ColumnOperators\n",
    "\n",
    "\n",
    "Implements a database-specific ‘regexp match’ operator.\n",
    "\n",
    "//The regular expression operator, REGEXP, can be used in the WHERE clause to handle complex matching queries. This operator applies a regular expression pattern match of a string to the pattern passed as an argument. "
   ]
  },
  {
   "cell_type": "code",
   "execution_count": null,
   "metadata": {},
   "outputs": [],
   "source": [
    "stmt = select(table.c.some_column).where(\n",
    "    table.c.some_column.regexp_match('^(b|c)')\n",
    ")"
   ]
  },
  {
   "cell_type": "markdown",
   "metadata": {},
   "source": [
    "ColumnOperators.regexp_match() attempts to resolve to a REGEXP-like function or operator provided by the backend, however the specific regular expression syntax and flags available are *not backend agnostic*. \n",
    "\n",
    "ME : DBMS استفاده کرده باشه  بستگی داره از کدوم \n",
    "\n",
    "\n",
    "Examples include:\n",
    "\n",
    "- PostgreSQL - renders x ~ y or x !~ y when negated. //؟\n",
    "\n",
    "- Oracle - renders REGEXP_LIKE(x, y)\n",
    "\n",
    "- SQLite - uses SQLite’s REGEXP placeholder operator and calls into the Python re.match() builtin.\n",
    "\n",
    "- other backends may provide special implementations.\n",
    "\n",
    "- Backends without any special implementation will emit the operator as “REGEXP” or “NOT REGEXP”. This is compatible with SQLite and MySQL, for example.\n",
    "\n",
    "Regular expression support is currently implemented for Oracle, PostgreSQL, MySQL and MariaDB. Partial support is available for SQLite. Support among third-party dialects may vary.\n",
    "\n",
    "\n",
    "*Parameters:*\n",
    "pattern – The regular expression pattern string or column clause.\n",
    "\n",
    "flags – Any regular expression string flags to apply, passed as plain Python string only. These flags are backend specific. Some backends, like PostgreSQL and MariaDB, may alternatively specify the flags as part of the pattern. When using the ignore case flag ‘i’ in PostgreSQL, the ignore case regexp match operator ~* or !~* will be used."
   ]
  },
  {
   "cell_type": "markdown",
   "metadata": {},
   "source": [
    "**regexp_replace:** // NEED TO READ AGAIN\n",
    "\n",
    "method sqlalchemy.schema.Column.regexp_replace(pattern: Any, replacement: Any, flags: str | None = None) → ColumnOperators\n",
    "\n",
    "Implements a database-specific ‘regexp replace’ operator."
   ]
  },
  {
   "cell_type": "code",
   "execution_count": null,
   "metadata": {},
   "outputs": [],
   "source": [
    "stmt = select(\n",
    "    table.c.some_column.regexp_replace(\n",
    "        'b(..)',\n",
    "        'X\u0001Y',\n",
    "        flags='g'\n",
    "    )\n",
    ")"
   ]
  },
  {
   "cell_type": "markdown",
   "metadata": {},
   "source": [
    "**startswith:**\n",
    "\n",
    "method sqlalchemy.schema.Column.startswith(other: Any, escape: str | None = None, autoescape: bool = False) → ColumnOperators\n",
    "\n",
    "Implement the *startswith* operator.\n",
    "\n",
    "Produces a LIKE expression that tests against a match for the start of a string value:"
   ]
  },
  {
   "cell_type": "code",
   "execution_count": null,
   "metadata": {
    "vscode": {
     "languageId": "sql"
    }
   },
   "outputs": [],
   "source": [
    "column LIKE <other> || '%'"
   ]
  },
  {
   "cell_type": "code",
   "execution_count": null,
   "metadata": {},
   "outputs": [],
   "source": [
    "stmt = select(sometable).\\\n",
    "    where(sometable.c.column.startswith(\"foobar\"))"
   ]
  },
  {
   "cell_type": "markdown",
   "metadata": {},
   "source": [
    "ME : پارامتر های  autoescape and escape  بمانند بخش متد like عمل می کنند. \n",
    "\n",
    "\n"
   ]
  }
 ],
 "metadata": {
  "language_info": {
   "name": "python"
  },
  "orig_nbformat": 4
 },
 "nbformat": 4,
 "nbformat_minor": 2
}
