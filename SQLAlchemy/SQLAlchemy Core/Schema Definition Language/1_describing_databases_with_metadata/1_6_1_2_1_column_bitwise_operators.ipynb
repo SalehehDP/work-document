{
 "cells": [
  {
   "cell_type": "markdown",
   "metadata": {},
   "source": [
    "**Bitwise Operators:**\n",
    "\n",
    "Bitwise operator functions provide uniform access to bitwise operators across different backends, which are expected to operate on compatible values such as integers and bit-strings (e.g. PostgreSQL BIT and similar).*? Note that these are not general boolean operators. ?*\n",
    "\n",
    "! New in version 2.0.2: Added dedicated operators for bitwise operations."
   ]
  },
  {
   "cell_type": "markdown",
   "metadata": {},
   "source": [
    "**bitwise_and:**\n",
    "\n",
    "method sqlalchemy.schema.Column.bitwise_and(other: Any) → ColumnOperators\n",
    "\n",
    "Produce a bitwise AND operation, typically via the *&* operator."
   ]
  },
  {
   "cell_type": "markdown",
   "metadata": {},
   "source": [
    "*bitwise_lshift:*\n",
    "\n",
    "method sqlalchemy.schema.Column.bitwise_lshift(other: Any) → ColumnOperators\n",
    "\n",
    "Produce a bitwise LSHIFT operation, typically via the *<<* operator."
   ]
  },
  {
   "cell_type": "markdown",
   "metadata": {},
   "source": [
    "**bitwise_not:**\n",
    "\n",
    "method sqlalchemy.schema.Column.bitwise_not() → ColumnOperators\n",
    "\n",
    "Produce a bitwise NOT operation, typically via the *~* operator.\n",
    "\n",
    "**bitwise_or:**\n",
    "\n",
    "method sqlalchemy.schema.Column.bitwise_or(other: Any) → ColumnOperators\n",
    "\n",
    "Produce a bitwise OR operation, typically via the *|* operator.\n",
    "\n",
    "\n",
    "**bitwise_rshift:**\n",
    "\n",
    "method sqlalchemy.schema.Column.bitwise_rshift(other: Any) → ColumnOperators\n",
    "\n",
    "Produce a bitwise RSHIFT operation, typically via the *>>* operator.\n",
    "\n",
    "**bitwise_xor:**\n",
    "\n",
    "method sqlalchemy.schema.Column.bitwise_xor(other: Any) → ColumnOperators\n",
    "\n",
    "Produce a bitwise XOR operation, typically via the *^* operator, or *# for PostgreSQL*."
   ]
  }
 ],
 "metadata": {
  "language_info": {
   "name": "python"
  },
  "orig_nbformat": 4
 },
 "nbformat": 4,
 "nbformat_minor": 2
}
