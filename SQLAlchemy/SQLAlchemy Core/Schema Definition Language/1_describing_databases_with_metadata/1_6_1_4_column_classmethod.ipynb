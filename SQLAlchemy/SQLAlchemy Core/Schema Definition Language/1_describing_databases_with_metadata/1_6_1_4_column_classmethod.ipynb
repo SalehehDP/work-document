{
 "cells": [
  {
   "cell_type": "markdown",
   "metadata": {},
   "source": [
    "**argument_for:**\n",
    "\n",
    "classmethod sqlalchemy.schema.Column.argument_for(dialect_name, argument_name, default)\n",
    "\n",
    "Add a new kind of dialect-specific keyword argument for this class."
   ]
  },
  {
   "cell_type": "code",
   "execution_count": null,
   "metadata": {},
   "outputs": [],
   "source": [
    "Index.argument_for(\"mydialect\", \"length\", None)\n",
    "\n",
    "some_index = Index('a', 'b', mydialect_length=5)"
   ]
  },
  {
   "cell_type": "markdown",
   "metadata": {},
   "source": [
    "**Parameters**:\n",
    "\n",
    "*dialect_name* – name of a dialect. The dialect must be locatable, else a NoSuchModuleError is raised. The dialect must also include an existing DefaultDialect.construct_arguments collection, indicating that it participates in the keyword-argument validation and default system, else ArgumentError is raised. If the dialect does not include this collection, then any keyword argument can be specified on behalf of this dialect already. All dialects packaged within SQLAlchemy include this collection, however for third party dialects, support may vary. //??\n",
    "\n",
    "*argument_name* – name of the parameter.\n",
    "\n",
    "*default* – default value of the parameter."
   ]
  },
  {
   "cell_type": "markdown",
   "metadata": {},
   "source": [
    "The DialectKWArgs.argument_for() method is a *per-argument* way *adding extra arguments* to the DefaultDialect.construct_arguments dictionary. This dictionary provides a list of argument names *accepted by various schema-level* constructs on behalf of a dialect.\n",
    "\n",
    "*New dialects* should typically specify this dictionary *all at once as a data member* of the dialect class. The *use case* for ad-hoc addition of argument names is typically for end-user code that is also using a custom compilation scheme which consumes the additional arguments.\n",
    "\n",
    "// use case کجاست ؟   "
   ]
  }
 ],
 "metadata": {
  "language_info": {
   "name": "python"
  },
  "orig_nbformat": 4
 },
 "nbformat": 4,
 "nbformat_minor": 2
}
