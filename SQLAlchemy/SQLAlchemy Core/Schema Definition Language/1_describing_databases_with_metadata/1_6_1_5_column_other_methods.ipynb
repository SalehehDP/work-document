{
 "cells": [
  {
   "cell_type": "markdown",
   "metadata": {},
   "source": [
    "**bool_op:**\n",
    "\n",
    "method sqlalchemy.schema.Column.bool_op(opstring: str, precedence: int = 0, python_impl: Callable{{...}, Any} | None = None) → Callable{{Any}, Operators}\n",
    "\n",
    "inherited from the Operators.bool_op() method of Operators\n",
    "\n",
    "Return a custom boolean operator.\n",
    "\n",
    "This method is *shorthand* for calling *Operators.op()* and passing the Operators.op.is_comparison flag with True. A key advantage to using Operators.bool_op() is that when using column constructs, the “boolean” nature of the returned expression will be present for *PEP 484* purposes.\n",
    "\n",
    "**Parameters**:\n",
    "\n",
    "*opstring* – a string which will be output as the infix operator between this element and the expression passed to the generated function.\n",
    "\n",
    "*precedence* –\n",
    "\n",
    "precedence which the database is expected to apply to the operator in SQL expressions. This integer value acts as a *hint for the SQL compiler to know when explicit parenthesis should be rendered around a particular operation*. A lower number will cause the expression to be parenthesized when applied against another operator with higher precedence. The default value of 0 is lower than all operators except for the comma (,) and AS operators. A value of 100 will be higher or equal to all operators, and -100 will be lower than or equal to all operators.\n",
    "\n",
    "ME : هرچه عدد تقدم کمتر باشد نسبت به عملگری که عدد بالاتری دارد الویت بالاتری برای پرانتز گذاری دارد .\n",
    "\n",
    "\n",
    "*python_impl* –\n",
    "\n",
    "an optional Python function that can evaluate two Python values in the same way as this operator works when run on the database server. Useful for in-Python SQL expression evaluation functions, such as for ORM hybrid attributes, and the ORM “evaluator” used to match objects in a session after a multi-row update or delete.\n",
    "\n",
    "e.g.:\n",
    "\n",
    ">>> expr = column('x').op('+', python_impl=lambda a, b: a + b)('y')\n",
    "The operator for the above expression will also work for non-SQL left and right objects:\n",
    "\n",
    ">>> expr.operator(5, 10)\n",
    "15"
   ]
  },
  {
   "cell_type": "markdown",
   "metadata": {},
   "source": [
    "**cast:**\n",
    "\n",
    "method sqlalchemy.schema.Column.cast(type_: _TypeEngineArgument[_OPT]) → Cast[_OPT]\n",
    "inherited from the ColumnElement.cast() method of ColumnElement\n",
    "\n",
    "Produce a type cast, i.e. CAST({expression} AS {type}).\n",
    "\n",
    "This is a shortcut to the cast() function."
   ]
  },
  {
   "cell_type": "markdown",
   "metadata": {},
   "source": [
    "**compare:**\n",
    "\n",
    "method sqlalchemy.schema.Column.compare(other: ClauseElement, **kw: Any) → bool\n",
    "inherited from the ClauseElement.compare() method of *ClauseElement*\n",
    "\n",
    "Compare this ClauseElement to the given ClauseElement.\n",
    "\n",
    "Subclasses should override the default behavior, which is a straight identity comparison.\n",
    "\n",
    "**kw are arguments consumed by subclass compare() methods and may be used to modify the criteria for comparison (see ColumnElement)."
   ]
  },
  {
   "cell_type": "markdown",
   "metadata": {},
   "source": [
    "**compile:**\n",
    "\n",
    "method sqlalchemy.schema.Column.compile(bind: Engine | Connection | None = None, dialect: Dialect | None = None, **kw: Any) → Compiled\n",
    "inherited from the CompilerElement.compile() method of CompilerElement\n",
    "\n",
    "Compile this SQL expression.\n",
    "\n",
    "The return value is a Compiled object. Calling str() or unicode() on the returned value will yield a string representation of the result. The Compiled object also can return a dictionary of bind parameter names and values using the params accessor.\n",
    "\n",
    "\n",
    "*Parameters:*\n",
    "\n",
    "*bind* – An Connection or Engine which can provide a Dialect in order to generate a Compiled object. If the bind and dialect parameters are both omitted, a default SQL compiler is used.\n",
    "\n",
    "*column_keys* – Used for INSERT and UPDATE statements,*a list of column names which should be present in the VALUES clause* of the compiled statement. If *None*, all columns from the target table object are rendered.\n",
    "\n",
    "*dialect* – A Dialect instance which can generate a Compiled object. This argument *takes precedence over* the bind argument.\n",
    "\n",
    "*compile_kwargs* –\n",
    "\n",
    "optional dictionary of additional parameters that will be passed through to the compiler within all “visit” methods. This allows any custom flag to be passed through to a custom compilation construct, for example. It is also used for the case of passing the literal_binds flag through:\n",
    "\n",
    "\n",
    "//bind ?  literal_binds ? "
   ]
  },
  {
   "cell_type": "code",
   "execution_count": null,
   "metadata": {},
   "outputs": [],
   "source": [
    "from sqlalchemy.sql import table, column, select\n",
    "\n",
    "t = table('t', column('x'))\n",
    "\n",
    "s = select(t).where(t.c.x == 5) # statement ? != column \n",
    "\n",
    "print(s.compile(compile_kwargs={\"literal_binds\": True}))"
   ]
  },
  {
   "cell_type": "markdown",
   "metadata": {},
   "source": [
    "**copy:**\n",
    "\n",
    "method sqlalchemy.schema.Column.copy(**kw: Any) → Column[Any]\n",
    "\n",
    "*Deprecated* since version 1.4: The Column.copy() method is deprecated and will be removed in a future release.\n",
    "\n",
    "\n",
    "**get_children:**\n",
    "\n",
    "method sqlalchemy.schema.Column.get_children(*, column_tables=False, **kw)\n",
    "inherited from the ColumnClause.get_children() method of ColumnClause\n",
    "\n",
    "Return immediate child HasTraverseInternals elements of this HasTraverseInternals.\n",
    "\n",
    "This is used for visit traversal.\n",
    "\n",
    "**kw may contain flags that change the collection that is returned, for example to return a subset of items in order to cut down on larger traversals, or to return child items from a different context (such as schema-level collections instead of clause-level)."
   ]
  },
  {
   "cell_type": "markdown",
   "metadata": {},
   "source": [
    "**label:**\n",
    "\n",
    "method sqlalchemy.schema.Column.label(name: str | None) → Label[_T]\n",
    "inherited from the ColumnElement.label() method of ColumnElement\n",
    "\n",
    "Produce a *column label*, i.e. {columnname} AS {name}.\n",
    "\n",
    "This is a shortcut to the label() function.\n",
    "\n",
    "If ‘name’ is None, an anonymous label name will be generated.\n",
    "\n",
    "\n",
    "**op:**\n",
    "\n",
    "method sqlalchemy.schema.Column.op(opstring: str, precedence: int = 0, is_comparison: bool = False, return_type: Type[TypeEngine[Any]] | TypeEngine[Any] | None = None, python_impl: Callable[..., Any] | None = None) → Callable[[Any], Operators]\n",
    "inherited from the Operators.op() method of Operators\n",
    "\n",
    "Produce a generic operator function.\n",
    "\n",
    "ME : bool_op دوتا پارامتر کمتر از op دارد ."
   ]
  },
  {
   "cell_type": "code",
   "execution_count": null,
   "metadata": {},
   "outputs": [],
   "source": [
    "somecolumn.op(\"*\")(5)"
   ]
  },
  {
   "cell_type": "markdown",
   "metadata": {},
   "source": [
    "**Additional parameters:**\n",
    "\n",
    "- is_comparison –\n",
    "\n",
    "legacy; if True, the operator will be considered as a “comparison” operator, that is which evaluates to a boolean true/false value, like ==, >, etc. This flag is provided so that ORM relationships can establish that the operator is a comparison operator when used in a custom join condition.\n",
    "\n",
    "Using the is_comparison parameter is superseded by using the Operators.bool_op() method instead; this more succinct operator sets this parameter automatically, but also provides correct PEP 484 typing support as the returned object will express a “boolean” datatype, i.e. BinaryExpression[bool].\n",
    "\n",
    "- return_type – a TypeEngine class or object that will force the return type of an expression produced by this operator to be of that type. By default, operators that specify Operators.op.is_comparison will resolve to Boolean, and those that do not will be of the same type as the left-hand operand.\n",
    "\n",
    "\n",
    "**operate:**\n",
    "\n",
    "method sqlalchemy.schema.Column.operate(op: OperatorType, *other: Any, **kwargs: Any) → ColumnElement[Any]\n",
    "inherited from the ColumnElement.operate() method of ColumnElement\n",
    "\n",
    "Operate on an argument.\n",
    "\n",
    "This is the *lowest level of operation*, raises NotImplementedError by default.\n",
    "\n",
    "Overriding this on a subclass can allow common behavior to be applied to all operations. For example, overriding ColumnOperators to apply func.lower() to the left and right side:"
   ]
  },
  {
   "cell_type": "code",
   "execution_count": null,
   "metadata": {},
   "outputs": [],
   "source": [
    "class MyComparator(ColumnOperators):\n",
    "    def operate(self, op, other, **kwargs):\n",
    "        return op(func.lower(self), func.lower(other), **kwargs)"
   ]
  },
  {
   "cell_type": "markdown",
   "metadata": {},
   "source": [
    "*Parameters:*\n",
    "\n",
    "op – Operator callable.\n",
    "\n",
    "*other – the ‘other’ side of the operation. Will be a single scalar for most operations.\n",
    "\n",
    "**kwargs – modifiers. These may be passed by special operators such as ColumnOperators.contains().\n",
    "\n",
    "ME : یک اپراتور جدید تولید می کنیم ?  یک تغییری رو یک اپراتور اعمال میکنیم ؟ \n",
    "\n",
    "\n",
    "**params:**\n",
    "\n",
    "method sqlalchemy.schema.Column.params(*optionaldict, **kwargs)\n",
    "inherited from the Immutable.params() method of Immutable\n",
    "\n",
    "Return a copy with bindparam() elements replaced.\n",
    "\n",
    "Returns a copy of this ClauseElement with bindparam() elements replaced with values taken from the given dictionary:\n",
    "\n",
    ">>> clause = column('x') + bindparam('foo')\n",
    ">>> print(clause.compile().params)\n",
    "{'foo':None}\n",
    ">>> print(clause.params({'foo':7}).compile().params)\n",
    "{'foo':7}"
   ]
  },
  {
   "cell_type": "markdown",
   "metadata": {},
   "source": [
    "**references:**\n",
    "method sqlalchemy.schema.Column.references(column: Column[Any]) → bool\n",
    "\n",
    "Return *True* if this Column references the given column *via foreign key*.\n",
    "\n",
    "\n",
    "**reverse_operate:**\n",
    "\n",
    "method sqlalchemy.schema.Column.reverse_operate(op: OperatorType, other: Any, **kwargs: Any) → ColumnElement[Any]\n",
    "inherited from the ColumnElement.reverse_operate() method of ColumnElement\n",
    "\n",
    "Reverse operate on an argument.\n",
    "\n",
    "Usage is the same as operate().\n"
   ]
  },
  {
   "cell_type": "markdown",
   "metadata": {},
   "source": [
    "**self_group:**\n",
    "\n",
    "method sqlalchemy.schema.Column.self_group(against: OperatorType | None = None) → ColumnElement[Any]\n",
    "\n",
    "Apply a ‘grouping’ to this ClauseElement.\n",
    "\n",
    "\n",
    "This method is overridden by subclasses to return a “grouping” construct, i.e. *parenthesis*. In particular it’s used by “binary” expressions to provide a grouping around themselves when placed into a larger expression, as well as by select() constructs when placed into the FROM clause of another select(). (Note that subqueries should be normally created using the Select.alias() method, as many platforms require nested SELECT statements to be named).\n",
    "\n",
    "As expressions are composed together, the application of self_group() is automatic - end-user code should never need to use this method directly. Note that SQLAlchemy’s clause constructs take operator precedence into account - so parenthesis might not be needed, for example, in an expression like x OR (y AND z) - AND takes precedence over OR."
   ]
  },
  {
   "cell_type": "markdown",
   "metadata": {},
   "source": [
    "**shares_lineage:**\n",
    "\n",
    "method sqlalchemy.schema.Column.shares_lineage(othercolumn: ColumnElement[Any])\n",
    "\n",
    "inherited from the ColumnElement.shares_lineage() method of ColumnElement\n",
    "\n",
    "Return True if the given ColumnElement has a common ancestor to this ColumnElement.\n",
    "\n",
    "**unique_params:**\n",
    "\n",
    "method sqlalchemy.schema.Column.unique_params(*optionaldict, **kwargs)\n",
    "inherited from the Immutable.unique_params() method of Immutable\n",
    "\n",
    "Return a copy with bindparam() elements replaced.\n",
    "\n",
    "Same functionality as ClauseElement.params(), except adds unique=True to affected bind parameters so that multiple statements can be used.\n"
   ]
  }
 ],
 "metadata": {
  "language_info": {
   "name": "python"
  },
  "orig_nbformat": 4
 },
 "nbformat": 4,
 "nbformat_minor": 2
}
