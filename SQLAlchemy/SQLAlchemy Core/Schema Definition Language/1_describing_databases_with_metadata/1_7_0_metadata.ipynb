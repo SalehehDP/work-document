{
 "cells": [
  {
   "cell_type": "markdown",
   "metadata": {},
   "source": [
    "**MetaData:**\n",
    "\n",
    "class sqlalchemy.schema.MetaData\n",
    "\n",
    "A collection of *Table* objects and their associated schema constructs.\n",
    "\n",
    "Holds a collection of Table objects as well as an optional binding to an Engine or Connection.If bound, the Table objects in the collection and their columns may participate in implicit SQL execution.\n",
    "\n",
    "MetaData is a *thread-safe* object for *read operations*. *Construction of new tables* within a single MetaData object, either explicitly or via reflection, may *not be completely thread-safe*.\n",
    "\n",
    "\n",
    "ME : ساخت جدول به صورت صریح یا از طریق رفلکشن ؟ \n",
    "\n",
    "\n",
    "*Members:*\n",
    "\n",
    "_ _ init _ _(), clear(), create_all(), drop_all(), reflect(), remove(), sorted_tables, tables"
   ]
  }
 ],
 "metadata": {
  "language_info": {
   "name": "python"
  },
  "orig_nbformat": 4
 },
 "nbformat": 4,
 "nbformat_minor": 2
}
