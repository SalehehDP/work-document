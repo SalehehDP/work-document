{
 "cells": [
  {
   "cell_type": "markdown",
   "metadata": {},
   "source": [
    "**_ _ init _ _:**\n",
    "\n",
    "method sqlalchemy.schema.MetaData._ _ init _ _(schema: str | None = None, quote_schema: bool | None = None, naming_convention: _NamingSchemaParameter | None = None, info: _InfoType | None = None) → None\n",
    "Create a new MetaData object.\n",
    "\n",
    "\n",
    "**Parameters:**\n",
    "\n",
    "*schema* – The *default schema* to use for the Table, Sequence, and potentially other objects associated with this MetaData. Defaults to None.\n",
    "\n",
    "*quote_schema* – Sets the quote_schema flag for those Table, Sequence, and other objects which *make usage of the local schema name.*\n",
    "\n",
    "\n",
    "*info* – Optional data dictionary which will be populated into the *SchemaItem.info attribute of this object*.\n",
    "\n",
    "*naming_convention* – a dictionary referring to values which will establish default naming conventions for Constraint and Index objects, for those objects which are not given a name explicitly.\n",
    "\n",
    "\n",
    "The keys of this dictionary may be:\n",
    "\n",
    " - a constraint or Index class, e.g. the UniqueConstraint, ForeignKeyConstraint class, the Index class\n",
    "\n",
    " - a string mnemonic for one of the known constraint classes; \"fk\", \"pk\", \"ix\", \"ck\", \"uq\" for foreign key, primary key, index, check, and unique constraint, respectively.\n",
    "\n",
    " - the string name of a user-defined “token” that can be used to define new naming tokens.\n",
    "\n",
    "\n",
    "The values associated with each “constraint class” or “constraint mnemonic” key are *string naming templates*, such as \"uq_%(table_name)s_%(column_0_name)s\", which describe how the name should be composed.\n",
    "The values associated with user-defined “token” keys should be callables of the form fn(constraint, table), which accepts the constraint/index object and Table as arguments, returning a string result.\n"
   ]
  },
  {
   "cell_type": "markdown",
   "metadata": {},
   "source": [
    "The *built-in names* are as follows, some of which may only be available for certain types of constraint:\n",
    "\n",
    " - %(table_name)s - the name of the Table object associated with the constraint.\n",
    "\n",
    " - %(referred_table_name)s - the name of the Table object associated with the referencing target of a ForeignKeyConstraint.\n",
    "\n",
    " - %(column_0_name)s - the name of the Column at index position “0” within the constraint.\n",
    "\n",
    " - %(column_0N_name)s - the name of all Column objects in order within the constraint, joined without a separator.\n",
    "\n",
    " - %(column_0_N_name)s - the name of all Column objects in order within the constraint, joined with an underscore as a separator.\n",
    "\n",
    " - %(column_0_label)s, %(column_0N_label)s, %(column_0_N_label)s - the label of either the zeroth Column or all Columns, separated with or without an underscore\n",
    "\n",
    " - %(column_0_key)s, %(column_0N_key)s, %(column_0_N_key)s - the key of either the zeroth Column or all Columns, separated with or without an underscore\n",
    "\n",
    " - %(referred_column_0_name)s, %(referred_column_0N_name)s %(referred_column_0_N_name)s, %(referred_column_0_key)s, %(referred_column_0N_key)s, … column tokens which render the names/keys/labels of columns that are referenced by a ForeignKeyConstraint.\n",
    "\n",
    " - %(constraint_name)s - a special key that refers to the existing name given to the constraint. When this key is present, the Constraint object’s existing name will be replaced with one that is composed from template string that uses this token. When this token is present, it is required that the Constraint is given an explicit name ahead of time.\n",
    "\n",
    " - user-defined: any additional token may be implemented by passing it along with a fn(constraint, table) callable to the naming_convention dictionary."
   ]
  }
 ],
 "metadata": {
  "language_info": {
   "name": "python"
  },
  "orig_nbformat": 4
 },
 "nbformat": 4,
 "nbformat_minor": 2
}
