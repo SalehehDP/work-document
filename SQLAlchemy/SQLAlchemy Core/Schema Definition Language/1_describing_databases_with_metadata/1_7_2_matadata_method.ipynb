{
 "cells": [
  {
   "cell_type": "markdown",
   "metadata": {},
   "source": [
    "**clear:**\n",
    "\n",
    "method sqlalchemy.schema.MetaData.clear() → None\n",
    "Clear all Table objects from this MetaData.\n",
    "\n",
    "\n",
    "**create_all:**\n",
    "\n",
    "method sqlalchemy.schema.MetaData.create_all(bind: _CreateDropBind, tables: _typing_Sequence[Table] | None = None, checkfirst: bool = True) → None\n",
    "\n",
    "Create all tables stored in this metadata.\n",
    "\n",
    "Conditional by default, will not attempt to recreate tables already present in the target database.\n",
    "\n",
    "**Parameters:**\n",
    "*bind* – A Connection or Engine used to access the database.\n",
    "\n",
    "*tables* – *Optional* list of Table objects, *which is a subset of the total tables* in the MetaData (others are ignored).\n",
    "\n",
    "*checkfirst* – Defaults to True, don’t issue CREATEs for tables already present in the target database.\n",
    "\n",
    "\n",
    "**drop_all:**\n",
    "\n",
    "method sqlalchemy.schema.MetaData.drop_all(bind: _CreateDropBind, tables: _typing_Sequence[Table] | None = None, checkfirst: bool = True) → None\n",
    "\n",
    "Drop all tables stored in this metadata.\n",
    "\n",
    "Conditional by default, will not attempt to drop tables not present in the target database.\n",
    "\n",
    "ME : Parameters same as crate_alll\n"
   ]
  },
  {
   "cell_type": "markdown",
   "metadata": {},
   "source": [
    "\n",
    "**reflect:**\n",
    "method sqlalchemy.schema.MetaData.reflect(bind: Engine | Connection, schema: str | None = None, views: bool = False, only: _typing_Sequence[str] | None = None, extend_existing: bool = False, autoload_replace: bool = True, resolve_fks: bool = True, **dialect_kwargs: Any) → None\n",
    "\n",
    "Load all *available table definitions* from the database.\n",
    "\n",
    "Automatically creates Table entries in this MetaData for any table available in the database but not yet present in the MetaData. May be called multiple times to pick up tables recently added to the database, however no special action is taken if a table in this MetaData no longer exists in the database.\n",
    "\n",
    "\n",
    "ME : تیبل ها می تواند در دیتابیس موجود باشند ولی در متادیتا نباشند ؟ رفلکت ؟ چجوری اگه متادیتا ندیم به تیبل ؟\n",
    "\n",
    "\n",
    "**Parameters:**\n",
    "*bind* – A Connection or Engine used to access the database.\n",
    "\n",
    "*schema* – Optional, query and reflect tables from an alternate schema. If None, the *schema associated with this MetaData is used*, if any.\n",
    "\n",
    "*views* – If True, also reflect views (materialized and plain).\n",
    "\n",
    "*only* – Optional. Load only a sub-set of available named tables. May be specified as a sequence of names or a callable.\n",
    "\n",
    "If a sequence of names is provided, only those tables will be reflected. An error is raised if a table is requested but not available. Named tables already present in this MetaData are ignored.\n",
    "\n",
    "If a callable is provided, it will be used as a boolean predicate to filter the list of potential table names. The callable is called with a table name and this MetaData instance as positional arguments and should return a true value for any table to reflect.\n",
    "\n",
    "*extend_existing* – Passed along to each Table as Table.extend_existing.\n",
    "\n",
    "*autoload_replace* – Passed along to each Table as Table.autoload_replace.\n",
    "\n",
    "*resolve_fks* – \n",
    "if True, reflect Table objects linked to ForeignKey objects located in each Table. For MetaData.reflect(), this has the effect of reflecting related tables that might otherwise not be in the list of tables being reflected, for example *if the referenced table is in a different schema* or is omitted via the MetaData.reflect.only parameter. \n",
    "\n",
    "When False, ForeignKey objects are not followed to the Table in which they link, however if the related table is also part of the list of tables that would be reflected in any case, the ForeignKey object will still resolve to its related Table after the MetaData.reflect() operation is complete. Defaults to True.\n",
    "\n",
    "*dialect_kwargs* – Additional keyword arguments not mentioned above are dialect specific, and passed in the form {dialectname}_{argname}. See the documentation regarding an individual dialect at Dialects for detail on documented arguments.\n",
    "\n",
    "**remove:**\n",
    "\n",
    "method sqlalchemy.schema.MetaData.remove(table: Table) → None\n",
    "Remove the given Table object from this MetaData."
   ]
  },
  {
   "cell_type": "markdown",
   "metadata": {},
   "source": [
    "\n"
   ]
  }
 ],
 "metadata": {
  "language_info": {
   "name": "python"
  },
  "orig_nbformat": 4
 },
 "nbformat": 4,
 "nbformat_minor": 2
}
