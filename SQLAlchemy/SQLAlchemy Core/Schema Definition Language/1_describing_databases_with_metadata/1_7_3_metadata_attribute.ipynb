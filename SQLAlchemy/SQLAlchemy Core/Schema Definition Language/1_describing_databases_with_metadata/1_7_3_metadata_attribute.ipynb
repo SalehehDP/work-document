{
 "cells": [
  {
   "cell_type": "markdown",
   "metadata": {},
   "source": [
    "**sorted_tables:**\n",
    "\n",
    "attribute sqlalchemy.schema.MetaData.sorted_tables\n",
    "Returns a list of Table objects sorted in order of foreign key dependency.\n",
    "\n",
    "The sorting will place Table objects that have dependencies first, before the dependencies themselves, representing the order in which they can be *created*. To get the order in which the tables would be *dropped*, use the *reversed()* Python built-in.\n",
    "\n",
    "\n",
    "**Warning:** // need to read again \n",
    "\n",
    "The MetaData.sorted_tables attribute cannot by itself accommodate automatic resolution of dependency cycles between tables, which are usually caused by mutually dependent foreign key constraints. When these cycles are detected, the foreign keys of these tables are omitted from consideration in the sort. A warning is emitted when this condition occurs, which will be an exception raise in a future release. Tables which are not part of the cycle will still be returned in dependency order.\n",
    "\n",
    "To resolve these cycles, the ForeignKeyConstraint.use_alter parameter may be applied to those constraints which create a cycle. Alternatively, the sort_tables_and_constraints() function will automatically return foreign key constraints in a separate collection when cycles are detected so that they may be applied to a schema separately.\n",
    "\n",
    "\n",
    "**tables:**\n",
    "attribute sqlalchemy.schema.MetaData.tables: util.FacadeDict[str, Table]\n",
    "A dictionary of Table objects keyed to their name or “table key”.\n",
    "\n",
    "The exact key is that determined by the Table.key attribute; *for a table with no Table.schema attribute, this is the same as Table.name*. For a table with a schema, it is typically of the form schemaname.tablename.\n",
    "\n"
   ]
  }
 ],
 "metadata": {
  "language_info": {
   "name": "python"
  },
  "orig_nbformat": 4
 },
 "nbformat": 4,
 "nbformat_minor": 2
}
