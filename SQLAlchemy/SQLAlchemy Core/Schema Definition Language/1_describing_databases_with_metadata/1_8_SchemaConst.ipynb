{
 "cells": [
  {
   "cell_type": "markdown",
   "metadata": {},
   "source": [
    "**SchemaConst:**\n",
    "\n",
    "class sqlalchemy.schema.SchemaConst\n",
    "An enumeration.\n",
    "\n",
    "*Members*\n",
    "\n",
    "BLANK_SCHEMA, NULL_UNSPECIFIED, RETAIN_SCHEMA\n",
    "\n",
    "Class signature\n",
    "class sqlalchemy.schema.SchemaConst (enum.Enum)\n",
    "\n",
    " - **BLANK_SCHEMA:**\n",
    "attribute sqlalchemy.schema.SchemaConst.BLANK_SCHEMA = 2  \n",
    "\n",
    "Symbol indicating that a Table or Sequence should have ‘None’ for its schema, even if the parent MetaData has specified a schema.\n",
    "\n",
    " - **NULL_UNSPECIFIED:**\n",
    "attribute sqlalchemy.schema.SchemaConst.NULL_UNSPECIFIED = 3\n",
    "\n",
    "Symbol indicating the “nullable” keyword was not passed to a Column.\n",
    "\n",
    "This is used to distinguish between the use case of passing *nullable=None* to a Column, which has special meaning on some backends such as SQL Server.\n",
    "\n",
    " - **RETAIN_SCHEMA:**\n",
    "attribute sqlalchemy.schema.SchemaConst.RETAIN_SCHEMA = 1\n",
    "Symbol indicating that a Table, Sequence or in some cases a ForeignKey object, in situations where the object is being copied for a Table.to_metadata() operation, should retain the schema name that it already has."
   ]
  }
 ],
 "metadata": {
  "language_info": {
   "name": "python"
  },
  "orig_nbformat": 4
 },
 "nbformat": 4,
 "nbformat_minor": 2
}
