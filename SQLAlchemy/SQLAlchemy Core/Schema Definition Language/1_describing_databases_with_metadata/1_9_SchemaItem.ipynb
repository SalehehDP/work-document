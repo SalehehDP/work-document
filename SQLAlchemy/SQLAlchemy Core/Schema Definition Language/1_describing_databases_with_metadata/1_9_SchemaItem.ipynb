{
 "cells": [
  {
   "cell_type": "markdown",
   "metadata": {},
   "source": [
    "**SchemaItem:**\n",
    "\n",
    "class sqlalchemy.schema.SchemaItem\n",
    "\n",
    "Base class for *items that define a database schema*. // ?\n",
    "\n",
    "*Members*\n",
    "info\n",
    "\n",
    "Class signature : \n",
    "class sqlalchemy.schema.SchemaItem (sqlalchemy.sql.expression.SchemaEventTarget, sqlalchemy.sql.visitors.Visitable)\n",
    "\n",
    "\n",
    "**info:**\n",
    "attribute sqlalchemy.schema.SchemaItem.info\n",
    "\n",
    "Info dictionary associated with the object, allowing user-defined data to be associated with this SchemaItem.\n",
    "\n",
    "The dictionary is automatically generated when first accessed. It can also be specified in the constructor of some objects, such as Table and Column."
   ]
  }
 ],
 "metadata": {
  "language_info": {
   "name": "python"
  },
  "orig_nbformat": 4
 },
 "nbformat": 4,
 "nbformat_minor": 2
}
