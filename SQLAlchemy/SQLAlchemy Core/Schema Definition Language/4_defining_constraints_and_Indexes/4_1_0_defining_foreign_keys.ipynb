{
 "cells": [
  {
   "cell_type": "markdown",
   "metadata": {},
   "source": [
    "**Defining Foreign Keys:**\n",
    "\n",
    "A foreign key in SQL is a *table-level construct* that constrains *one or more columns* in that table to only allow values that are *present in a different set of columns*, typically but not always located on a different table.\n",
    "\n",
    "the columns which they are constrained towards the referenced columns\n",
    "\n",
    "The referenced columns *almost always define the primary key* for their owning table, though there are exceptions to this. \n",
    "\n",
    "connects together pairs of rows which have a relationship with each other // ??? pairs of rows\n",
    "and SQLAlchemy assigns very deep importance to this concept in virtually every area of its operation.\n",
    "\n",
    "\n",
    "The single column foreign key is more common, and at the column level is specified by constructing a *ForeignKey* object as an argument to a Column object:"
   ]
  },
  {
   "cell_type": "code",
   "execution_count": 22,
   "metadata": {},
   "outputs": [],
   "source": [
    "from sqlalchemy import URL ,MetaData, Table , Column , Integer ,String , ForeignKey , create_engine\n",
    "\n",
    "url = URL.create(\n",
    "    drivername=\"postgresql\",\n",
    "    username=\"postgres\",\n",
    "    host=\"192.168.0.8\",\n",
    "    port=\"5432\",\n",
    "    password=\"1234\",\n",
    "    database=\"tests\"\n",
    ")\n",
    "\n",
    "engine = create_engine(url)\n",
    "metadata_obj = MetaData()#schema=\"public\"\n",
    "\n",
    "user = Table(\n",
    "    \"user\",\n",
    "    metadata_obj,\n",
    "    Column(\"user_id\", Integer, primary_key=True),\n",
    "    #schema=\"public\"\n",
    ")\n",
    "\n",
    "user_preference = Table(\n",
    "    \"user_preference\",\n",
    "    metadata_obj,\n",
    "    Column(\"pref_id\", Integer, primary_key=True),\n",
    "    Column(\"user_id\", Integer, ForeignKey(\"user.user_id\"), nullable=False),#ForeignKey(\"public.user.user_id\")\n",
    "    Column(\"pref_name\", String(40), nullable=False),\n",
    "    Column(\"pref_value\", String(100)),\n",
    "    #schema=\"public\"\n",
    ")\n",
    "\n",
    "\n",
    "metadata_obj.create_all(engine)"
   ]
  },
  {
   "cell_type": "markdown",
   "metadata": {},
   "source": [
    "The argument to ForeignKey is most commonly a string of the form {tablename}.{columnname}, or for a table in a remote schema or “owner” of the form {schemaname}.{tablename}.{columnname}.\n",
    "\n",
    "It may also be an actual Column object ad it's accessed from an existing Table object via its c collection:"
   ]
  },
  {
   "cell_type": "code",
   "execution_count": 26,
   "metadata": {},
   "outputs": [],
   "source": [
    "ForeignKey(user.c.user_id)\n",
    "\n",
    "\n",
    "user_test = Table(\n",
    "    \"user_test\",\n",
    "    metadata_obj,\n",
    "    Column(\"pref_id\", Integer, primary_key=True),\n",
    "    Column(\"user_id\", Integer, ForeignKey(user.c.user_id), nullable=False),\n",
    "    Column(\"pref_name\", String(40), nullable=False),\n",
    "    Column(\"pref_value\", String(100)),\n",
    ")\n",
    "\n",
    "user_test.create(engine)"
   ]
  },
  {
   "cell_type": "markdown",
   "metadata": {},
   "source": [
    "The *advantage to using a string* is that the in-python linkage between user and user_preference is resolved only when first needed, so that *table objects can be easily spread across multiple modules and defined in any order.*\n",
    "\n",
    "Foreign keys may also be defined at the table level, using the *ForeignKeyConstraint* object. This object can describe a single- or multi-column foreign key. A multi-column foreign key is known as a *composite foreign key*, and *almost always* references a table that has a composite primary key"
   ]
  },
  {
   "cell_type": "code",
   "execution_count": 29,
   "metadata": {},
   "outputs": [
    {
     "ename": "InvalidRequestError",
     "evalue": "Table 'public.invoice' is already defined for this MetaData instance.  Specify 'extend_existing=True' to redefine options and columns on an existing Table object.",
     "output_type": "error",
     "traceback": [
      "\u001b[0;31m---------------------------------------------------------------------------\u001b[0m",
      "\u001b[0;31mInvalidRequestError\u001b[0m                       Traceback (most recent call last)",
      "Cell \u001b[0;32mIn[29], line 1\u001b[0m\n\u001b[0;32m----> 1\u001b[0m invoice \u001b[39m=\u001b[39m Table(\n\u001b[1;32m      2\u001b[0m     \u001b[39m\"\u001b[39;49m\u001b[39minvoice\u001b[39;49m\u001b[39m\"\u001b[39;49m,\n\u001b[1;32m      3\u001b[0m     metadata_obj,\n\u001b[1;32m      4\u001b[0m     Column(\u001b[39m\"\u001b[39;49m\u001b[39minvoice_id\u001b[39;49m\u001b[39m\"\u001b[39;49m, Integer, primary_key\u001b[39m=\u001b[39;49m\u001b[39mTrue\u001b[39;49;00m),\n\u001b[1;32m      5\u001b[0m     Column(\u001b[39m\"\u001b[39;49m\u001b[39mref_num\u001b[39;49m\u001b[39m\"\u001b[39;49m, Integer, primary_key\u001b[39m=\u001b[39;49m\u001b[39mTrue\u001b[39;49;00m),\n\u001b[1;32m      6\u001b[0m     Column(\u001b[39m\"\u001b[39;49m\u001b[39mdescription\u001b[39;49m\u001b[39m\"\u001b[39;49m, String(\u001b[39m60\u001b[39;49m), nullable\u001b[39m=\u001b[39;49m\u001b[39mFalse\u001b[39;49;00m),\n\u001b[1;32m      7\u001b[0m )\n\u001b[1;32m      9\u001b[0m \u001b[39mfrom\u001b[39;00m \u001b[39msqlalchemy\u001b[39;00m \u001b[39mimport\u001b[39;00m ForeignKeyConstraint\n\u001b[1;32m     11\u001b[0m invoice_item \u001b[39m=\u001b[39m Table(\n\u001b[1;32m     12\u001b[0m     \u001b[39m\"\u001b[39m\u001b[39minvoice_item\u001b[39m\u001b[39m\"\u001b[39m,\n\u001b[1;32m     13\u001b[0m     metadata_obj,\n\u001b[0;32m   (...)\u001b[0m\n\u001b[1;32m     20\u001b[0m     ),\n\u001b[1;32m     21\u001b[0m )\n",
      "File \u001b[0;32m<string>:2\u001b[0m, in \u001b[0;36m__new__\u001b[0;34m(cls, *args, **kw)\u001b[0m\n",
      "File \u001b[0;32m~/.cache/pypoetry/virtualenvs/documents-61uQ3X5r-py3.10/lib/python3.10/site-packages/sqlalchemy/util/deprecations.py:281\u001b[0m, in \u001b[0;36mdeprecated_params.<locals>.decorate.<locals>.warned\u001b[0;34m(fn, *args, **kwargs)\u001b[0m\n\u001b[1;32m    274\u001b[0m     \u001b[39mif\u001b[39;00m m \u001b[39min\u001b[39;00m kwargs:\n\u001b[1;32m    275\u001b[0m         _warn_with_version(\n\u001b[1;32m    276\u001b[0m             messages[m],\n\u001b[1;32m    277\u001b[0m             versions[m],\n\u001b[1;32m    278\u001b[0m             version_warnings[m],\n\u001b[1;32m    279\u001b[0m             stacklevel\u001b[39m=\u001b[39m\u001b[39m3\u001b[39m,\n\u001b[1;32m    280\u001b[0m         )\n\u001b[0;32m--> 281\u001b[0m \u001b[39mreturn\u001b[39;00m fn(\u001b[39m*\u001b[39;49margs, \u001b[39m*\u001b[39;49m\u001b[39m*\u001b[39;49mkwargs)\n",
      "File \u001b[0;32m~/.cache/pypoetry/virtualenvs/documents-61uQ3X5r-py3.10/lib/python3.10/site-packages/sqlalchemy/sql/schema.py:434\u001b[0m, in \u001b[0;36mTable.__new__\u001b[0;34m(cls, *args, **kw)\u001b[0m\n\u001b[1;32m    427\u001b[0m \u001b[39m@util\u001b[39m\u001b[39m.\u001b[39mdeprecated_params(\n\u001b[1;32m    428\u001b[0m     mustexist\u001b[39m=\u001b[39m(\n\u001b[1;32m    429\u001b[0m         \u001b[39m\"\u001b[39m\u001b[39m1.4\u001b[39m\u001b[39m\"\u001b[39m,\n\u001b[0;32m   (...)\u001b[0m\n\u001b[1;32m    432\u001b[0m )\n\u001b[1;32m    433\u001b[0m \u001b[39mdef\u001b[39;00m \u001b[39m__new__\u001b[39m(\u001b[39mcls\u001b[39m, \u001b[39m*\u001b[39margs: Any, \u001b[39m*\u001b[39m\u001b[39m*\u001b[39mkw: Any) \u001b[39m-\u001b[39m\u001b[39m>\u001b[39m Any:\n\u001b[0;32m--> 434\u001b[0m     \u001b[39mreturn\u001b[39;00m \u001b[39mcls\u001b[39;49m\u001b[39m.\u001b[39;49m_new(\u001b[39m*\u001b[39;49margs, \u001b[39m*\u001b[39;49m\u001b[39m*\u001b[39;49mkw)\n",
      "File \u001b[0;32m~/.cache/pypoetry/virtualenvs/documents-61uQ3X5r-py3.10/lib/python3.10/site-packages/sqlalchemy/sql/schema.py:466\u001b[0m, in \u001b[0;36mTable._new\u001b[0;34m(cls, *args, **kw)\u001b[0m\n\u001b[1;32m    464\u001b[0m \u001b[39mif\u001b[39;00m key \u001b[39min\u001b[39;00m metadata\u001b[39m.\u001b[39mtables:\n\u001b[1;32m    465\u001b[0m     \u001b[39mif\u001b[39;00m \u001b[39mnot\u001b[39;00m keep_existing \u001b[39mand\u001b[39;00m \u001b[39mnot\u001b[39;00m extend_existing \u001b[39mand\u001b[39;00m \u001b[39mbool\u001b[39m(args):\n\u001b[0;32m--> 466\u001b[0m         \u001b[39mraise\u001b[39;00m exc\u001b[39m.\u001b[39mInvalidRequestError(\n\u001b[1;32m    467\u001b[0m             \u001b[39m\"\u001b[39m\u001b[39mTable \u001b[39m\u001b[39m'\u001b[39m\u001b[39m%s\u001b[39;00m\u001b[39m'\u001b[39m\u001b[39m is already defined for this MetaData \u001b[39m\u001b[39m\"\u001b[39m\n\u001b[1;32m    468\u001b[0m             \u001b[39m\"\u001b[39m\u001b[39minstance.  Specify \u001b[39m\u001b[39m'\u001b[39m\u001b[39mextend_existing=True\u001b[39m\u001b[39m'\u001b[39m\u001b[39m \u001b[39m\u001b[39m\"\u001b[39m\n\u001b[1;32m    469\u001b[0m             \u001b[39m\"\u001b[39m\u001b[39mto redefine \u001b[39m\u001b[39m\"\u001b[39m\n\u001b[1;32m    470\u001b[0m             \u001b[39m\"\u001b[39m\u001b[39moptions and columns on an \u001b[39m\u001b[39m\"\u001b[39m\n\u001b[1;32m    471\u001b[0m             \u001b[39m\"\u001b[39m\u001b[39mexisting Table object.\u001b[39m\u001b[39m\"\u001b[39m \u001b[39m%\u001b[39m key\n\u001b[1;32m    472\u001b[0m         )\n\u001b[1;32m    473\u001b[0m     table \u001b[39m=\u001b[39m metadata\u001b[39m.\u001b[39mtables[key]\n\u001b[1;32m    474\u001b[0m     \u001b[39mif\u001b[39;00m extend_existing:\n",
      "\u001b[0;31mInvalidRequestError\u001b[0m: Table 'public.invoice' is already defined for this MetaData instance.  Specify 'extend_existing=True' to redefine options and columns on an existing Table object."
     ]
    }
   ],
   "source": [
    "invoice = Table(\n",
    "    \"invoice\",\n",
    "    metadata_obj,\n",
    "    Column(\"invoice_id\", Integer, primary_key=True),\n",
    "    Column(\"ref_num\", Integer, primary_key=True),\n",
    "    Column(\"description\", String(60), nullable=False),\n",
    ")\n",
    "\n",
    "from sqlalchemy import ForeignKeyConstraint\n",
    "\n",
    "invoice_item = Table(\n",
    "    \"invoice_item\",\n",
    "    metadata_obj,\n",
    "    Column(\"item_id\", Integer, primary_key=True),\n",
    "    Column(\"item_name\", String(60), nullable=False),\n",
    "    Column(\"invoice_id\", Integer, nullable=False),\n",
    "    Column(\"ref_num\", Integer, nullable=False),\n",
    "    ForeignKeyConstraint(\n",
    "        [\"invoice_id\", \"ref_num\"], [\"invoice.invoice_id\", \"invoice.ref_num\"]\n",
    "    ),\n",
    ")"
   ]
  }
 ],
 "metadata": {
  "kernelspec": {
   "display_name": "documents-61uQ3X5r-py3.10",
   "language": "python",
   "name": "python3"
  },
  "language_info": {
   "codemirror_mode": {
    "name": "ipython",
    "version": 3
   },
   "file_extension": ".py",
   "mimetype": "text/x-python",
   "name": "python",
   "nbconvert_exporter": "python",
   "pygments_lexer": "ipython3",
   "version": "3.10.12"
  },
  "orig_nbformat": 4
 },
 "nbformat": 4,
 "nbformat_minor": 2
}
