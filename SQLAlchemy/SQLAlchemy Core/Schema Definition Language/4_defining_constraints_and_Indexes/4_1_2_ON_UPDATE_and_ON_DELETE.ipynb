{
 "cells": [
  {
   "cell_type": "markdown",
   "metadata": {},
   "source": [
    "**ON UPDATE and ON DELETE:**\n",
    "\n",
    "Most databases support *cascading* of foreign key values, that is the when a parent row is updated the new value is placed in child rows, or when the parent row is deleted all corresponding child rows are set to null or deleted.\n",
    "\n",
    "\n",
    "In data definition language these are specified using phrases like *“ON UPDATE CASCADE”*, *“ON DELETE CASCADE”*, and *“ON DELETE SET NULL”*, corresponding to foreign key constraints. The *phrase after “ON UPDATE” or “ON DELETE”* may also allow other phrases that are specific to the database in use. \n",
    "\n",
    "\n",
    "The ForeignKey and ForeignKeyConstraint objects support the generation of this clause via the *onupdate* and *ondelete* keyword arguments. The value is any string which will be output after the appropriate “ON UPDATE” or “ON DELETE” phrase:\n",
    "\n",
    "\n",
    "//https://www.postgresqltutorial.com/postgresql-tutorial/postgresql-foreign-key/\n",
    "\n",
    "\n",
    "PostgreSQL supports the following actions:\n",
    "\n",
    " - SET NULL\n",
    " - SET DEFAULT\n",
    " - RESTRICT\n",
    " - NO ACTION\n",
    " - CASCADE"
   ]
  },
  {
   "cell_type": "code",
   "execution_count": 4,
   "metadata": {},
   "outputs": [],
   "source": [
    "from sqlalchemy.schema import Table, Column\n",
    "from sqlalchemy import Integer, ForeignKeyConstraint, MetaData, URL, create_engine \n",
    "\n",
    "url = URL.create(\n",
    "    drivername=\"postgresql\",\n",
    "    username=\"postgres\",\n",
    "    host=\"192.168.0.8\",\n",
    "    port=\"5432\",\n",
    "    password=\"1234\",\n",
    "    database=\"tests\"\n",
    ")\n",
    "\n",
    "engine =create_engine(url)\n",
    "metadata_obj = MetaData()\n",
    "\n",
    "\n",
    "revisions = Table(\n",
    "    \"revisions\",\n",
    "    metadata_obj,\n",
    "    Column(\"id\", Integer, primary_key=True),\n",
    "    Column(\"note_id\", Integer, primary_key=True),\n",
    ")\n",
    "\n",
    "composite = Table(\n",
    "    \"composite\",\n",
    "    metadata_obj,\n",
    "    Column(\"id\", Integer, primary_key=True),\n",
    "    Column(\"rev_id\", Integer),\n",
    "    Column(\"note_id\", Integer),\n",
    "    ForeignKeyConstraint(\n",
    "        [\"rev_id\", \"note_id\"],\n",
    "        [\"revisions.id\", \"revisions.note_id\"],\n",
    "        onupdate=\"CASCADE\",\n",
    "        ondelete=\"SET NULL\",\n",
    "    ),\n",
    ")\n",
    "\n",
    "metadata_obj.create_all(engine)"
   ]
  },
  {
   "cell_type": "markdown",
   "metadata": {},
   "source": [
    "Note that these clauses require InnoDB tables when used with MySQL. They may also not be supported on other databases."
   ]
  }
 ],
 "metadata": {
  "kernelspec": {
   "display_name": "documents-61uQ3X5r-py3.10",
   "language": "python",
   "name": "python3"
  },
  "language_info": {
   "codemirror_mode": {
    "name": "ipython",
    "version": 3
   },
   "file_extension": ".py",
   "mimetype": "text/x-python",
   "name": "python",
   "nbconvert_exporter": "python",
   "pygments_lexer": "ipython3",
   "version": "3.10.12"
  },
  "orig_nbformat": 4
 },
 "nbformat": 4,
 "nbformat_minor": 2
}
