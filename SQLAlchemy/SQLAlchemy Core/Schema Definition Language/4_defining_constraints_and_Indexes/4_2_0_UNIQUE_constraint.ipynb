{
 "cells": [
  {
   "cell_type": "markdown",
   "metadata": {},
   "source": [
    "**UNIQUE Constraint:**\n",
    "\n",
    "Unique constraints can be created anonymously on a single column using the u*nique keyword on Column*. Explicitly named unique constraints and/or those with *multiple columns* are created via the UniqueConstraint table-level construct.\n",
    "\n"
   ]
  },
  {
   "cell_type": "code",
   "execution_count": null,
   "metadata": {},
   "outputs": [],
   "source": [
    "from sqlalchemy import UniqueConstraint\n",
    "\n",
    "metadata_obj = MetaData()\n",
    "mytable = Table(\n",
    "    \"mytable\",\n",
    "    metadata_obj,\n",
    "    # per-column anonymous unique constraint\n",
    "    Column(\"col1\", Integer, unique=True),\n",
    "    Column(\"col2\", Integer),\n",
    "    Column(\"col3\", Integer),\n",
    "    # explicit/composite unique constraint.  'name' is optional.\n",
    "    UniqueConstraint(\"col2\", \"col3\", name=\"uix_1\"),\n",
    ")"
   ]
  }
 ],
 "metadata": {
  "language_info": {
   "name": "python"
  },
  "orig_nbformat": 4
 },
 "nbformat": 4,
 "nbformat_minor": 2
}
