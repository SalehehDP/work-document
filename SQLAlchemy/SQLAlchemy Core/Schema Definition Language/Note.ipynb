{
 "cells": [
  {
   "cell_type": "markdown",
   "metadata": {},
   "source": [
    "resurce : https://tekshinobi.com/sql-alchemy-tutorial/\n",
    "\n",
    "Note: ForeignKey is shortcut for ForeignKeyContraint, which should be used for composite references."
   ]
  }
 ],
 "metadata": {
  "language_info": {
   "name": "python"
  },
  "orig_nbformat": 4
 },
 "nbformat": 4,
 "nbformat_minor": 2
}
