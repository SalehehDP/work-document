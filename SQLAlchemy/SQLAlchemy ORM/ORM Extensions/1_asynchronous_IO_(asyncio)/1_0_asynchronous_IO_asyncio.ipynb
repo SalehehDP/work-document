{
 "cells": [
  {
   "cell_type": "markdown",
   "metadata": {},
   "source": [
    "**Asynchronous I/O (asyncio):**\n",
    "\n",
    "Support for Python asyncio. Support for *Core and ORM* usage, using asyncio-compatible dialects."
   ]
  }
 ],
 "metadata": {
  "language_info": {
   "name": "python"
  },
  "orig_nbformat": 4
 },
 "nbformat": 4,
 "nbformat_minor": 2
}
