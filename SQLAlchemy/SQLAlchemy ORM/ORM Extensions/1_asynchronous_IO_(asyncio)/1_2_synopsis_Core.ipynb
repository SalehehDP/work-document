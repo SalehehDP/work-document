{
    "cells": [
        {
            "cell_type": "markdown",
            "metadata": {},
            "source": [
                "**Synopsis - Core:**\n",
                "\n",
                "For Core use, the create_async_engine() function creates an instance of *AsyncEngine* which then offers an async version of the traditional Engine API. The AsyncEngine delivers an *AsyncConnection* => via its AsyncEngine.connect() and AsyncEngine.begin() methods .The AsyncConnection can then invoke statements AsyncConnection.execute() or AsyncConnection.stream() "
            ]
        },
        {
            "cell_type": "code",
            "execution_count": 1,
            "metadata": {},
            "outputs": [
                {
                    "ename": "RuntimeError",
                    "evalue": "asyncio.run() cannot be called from a running event loop",
                    "output_type": "error",
                    "traceback": [
                        "\u001b[0;31m---------------------------------------------------------------------------\u001b[0m",
                        "\u001b[0;31mRuntimeError\u001b[0m                              Traceback (most recent call last)",
                        "Cell \u001b[0;32mIn[1], line 45\u001b[0m\n\u001b[1;32m     40\u001b[0m     \u001b[39m# for AsyncEngine created in function scope, close and\u001b[39;00m\n\u001b[1;32m     41\u001b[0m     \u001b[39m# clean-up pooled connections\u001b[39;00m\n\u001b[1;32m     42\u001b[0m     \u001b[39mawait\u001b[39;00m engine\u001b[39m.\u001b[39mdispose()\n\u001b[0;32m---> 45\u001b[0m asyncio\u001b[39m.\u001b[39;49mrun(async_main())\n",
                        "File \u001b[0;32m/usr/lib/python3.10/asyncio/runners.py:33\u001b[0m, in \u001b[0;36mrun\u001b[0;34m(main, debug)\u001b[0m\n\u001b[1;32m      9\u001b[0m \u001b[39m\u001b[39m\u001b[39m\"\"\"Execute the coroutine and return the result.\u001b[39;00m\n\u001b[1;32m     10\u001b[0m \n\u001b[1;32m     11\u001b[0m \u001b[39mThis function runs the passed coroutine, taking care of\u001b[39;00m\n\u001b[0;32m   (...)\u001b[0m\n\u001b[1;32m     30\u001b[0m \u001b[39m    asyncio.run(main())\u001b[39;00m\n\u001b[1;32m     31\u001b[0m \u001b[39m\"\"\"\u001b[39;00m\n\u001b[1;32m     32\u001b[0m \u001b[39mif\u001b[39;00m events\u001b[39m.\u001b[39m_get_running_loop() \u001b[39mis\u001b[39;00m \u001b[39mnot\u001b[39;00m \u001b[39mNone\u001b[39;00m:\n\u001b[0;32m---> 33\u001b[0m     \u001b[39mraise\u001b[39;00m \u001b[39mRuntimeError\u001b[39;00m(\n\u001b[1;32m     34\u001b[0m         \u001b[39m\"\u001b[39m\u001b[39masyncio.run() cannot be called from a running event loop\u001b[39m\u001b[39m\"\u001b[39m)\n\u001b[1;32m     36\u001b[0m \u001b[39mif\u001b[39;00m \u001b[39mnot\u001b[39;00m coroutines\u001b[39m.\u001b[39miscoroutine(main):\n\u001b[1;32m     37\u001b[0m     \u001b[39mraise\u001b[39;00m \u001b[39mValueError\u001b[39;00m(\u001b[39m\"\u001b[39m\u001b[39ma coroutine was expected, got \u001b[39m\u001b[39m{!r}\u001b[39;00m\u001b[39m\"\u001b[39m\u001b[39m.\u001b[39mformat(main))\n",
                        "\u001b[0;31mRuntimeError\u001b[0m: asyncio.run() cannot be called from a running event loop"
                    ]
                }
            ],
            "source": [
                "import asyncio\n",
                "\n",
                "from sqlalchemy import Column, Table, MetaData, select, String, URL , engine\n",
                "from sqlalchemy.ext.asyncio import create_async_engine\n",
                "\n",
                "url = URL.create(\n",
                "    drivername=\"postgresql+asyncpg\", # The asyncio extension requires an async driver to be used. The loaded 'psycopg2' is not async.\n",
                "    username=\"postgres\",\n",
                "    host=\"192.168.0.8\",\n",
                "    port=\"5432\",\n",
                "    password=\"1234\",\n",
                "    database=\"tests\"\n",
                ")\n",
                "meta = MetaData()\n",
                "t1 = Table(\"t1\", meta, Column(\"name\", String(50), primary_key=True))\n",
                "\n",
                "async def async_main() -> None:\n",
                "    engine = create_async_engine(\n",
                "        url,\n",
                "        echo=True,\n",
                "    )\n",
                "\n",
                "    print(isinstance(engine , Engine))\n",
                "\n",
                "    async with engine.begin() as conn:\n",
                "        await conn.run_sync(meta.create_all)\n",
                "\n",
                "        await conn.execute(\n",
                "            t1.insert(), [{\"name\": \"some name 1\"}, {\"name\": \"some name 2\"}]\n",
                "        )\n",
                "\n",
                "    async with engine.connect() as conn:\n",
                "        # select a Result, which will be delivered with buffered\n",
                "        # results\n",
                "        result = await conn.execute(select(t1).where(t1.c.name == \"some name 1\"))\n",
                "\n",
                "        print(result.fetchall())\n",
                "\n",
                "    # for AsyncEngine created in function scope, close and\n",
                "    # clean-up pooled connections\n",
                "    await engine.dispose()\n",
                "\n",
                "\n",
                "asyncio.run(async_main())"
            ]
        },
        {
            "cell_type": "markdown",
            "metadata": {},
            "source": [
                "Above, the *AsyncConnection.run_sync()* method may be used to invoke special DDL functions such as MetaData.create_all() that *don’t include an awaitable* hook.\n",
                "\n",
                "The AsyncConnection also features a *“streaming”* API via the AsyncConnection.stream() method that returns an AsyncResult object. This result object uses a server-side cursor and provides an async/await API, such as an async iterator:"
            ]
        },
        {
            "cell_type": "code",
            "execution_count": null,
            "metadata": {},
            "outputs": [],
            "source": [
                "async with engine.connect() as conn:\n",
                "    async_result = await conn.stream(select(t1))\n",
                "\n",
                "    async for row in async_result:\n",
                "        print(\"row: %s\" % (row,))"
            ]
        }
    ],
    "metadata": {
        "kernelspec": {
            "display_name": "documents-61uQ3X5r-py3.10",
            "language": "python",
            "name": "python3"
        },
        "language_info": {
            "codemirror_mode": {
                "name": "ipython",
                "version": 3
            },
            "file_extension": ".py",
            "mimetype": "text/x-python",
            "name": "python",
            "nbconvert_exporter": "python",
            "pygments_lexer": "ipython3",
            "version": "3.10.12"
        },
        "orig_nbformat": 4
    },
    "nbformat": 4,
    "nbformat_minor": 2
}
