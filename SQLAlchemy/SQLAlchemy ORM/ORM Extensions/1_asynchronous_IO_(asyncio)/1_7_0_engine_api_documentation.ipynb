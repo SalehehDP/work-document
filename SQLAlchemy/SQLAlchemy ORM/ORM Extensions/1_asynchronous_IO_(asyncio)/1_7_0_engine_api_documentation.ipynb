{
 "cells": [
  {
   "cell_type": "markdown",
   "metadata": {},
   "source": [
    "| Object Name | Description | \n",
    "| --- | --- | \n",
    "| async_engine_from_config(configuration[, prefix], **kwargs) | Create a new AsyncEngine instance using a configuration dictionary. | \n",
    "| AsyncConnection | An asyncio proxy for a Connection. | \n",
    "| AsyncEngine | An asyncio proxy for a Engine. | \n",
    "| AsyncTransaction | An asyncio proxy for a Transaction. | \n",
    "| create_async_engine(url, **kw) | Create a new async engine instance. |\n",
    "| create_async_pool_from_url(url, **kwargs) | Create a new async engine instance. | \n",
    "\n",
    "\n",
    "if need more reading : \n",
    "https://docs.sqlalchemy.org/en/20/orm/extensions/asyncio.html#engine-api-documentation"
   ]
  }
 ],
 "metadata": {
  "language_info": {
   "name": "python"
  },
  "orig_nbformat": 4
 },
 "nbformat": 4,
 "nbformat_minor": 2
}
