{
 "cells": [
  {
   "cell_type": "markdown",
   "metadata": {},
   "source": [
    "هدف غایی بهتر کردن کد است . \n",
    "\n",
    "..... "
   ]
  }
 ],
 "metadata": {
  "language_info": {
   "name": "python"
  }
 },
 "nbformat": 4,
 "nbformat_minor": 2
}
