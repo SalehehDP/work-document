{
 "cells": [
  {
   "cell_type": "markdown",
   "metadata": {},
   "source": [
    " - What is *UML diagram*?\n",
    "A UML diagram is a diagram based on the UML (Unified Modeling Language) with the purpose of visually representing a system along with its main actors, roles, actions, artifacts or classes, in order to better understand, alter, maintain, or document information about the system.\n",
    "\n",
    "\n",
    " - different *kind* of diagrams :\n",
    "    - Class diagram\n",
    "    - Object diagram\n",
    "    - Activity diagram\n",
    "\n",
    "\n",
    "\n",
    "\n",
    " - *Is Unified Modeling Language (UML) still a thing these days?*\n",
    "\n",
    "While some see it as an integral part of software systems and development, there are a significant number of people that deem it completely unnecessary.\n",
    "\n",
    "Especially for larger and distributed project, UML modeling is believed to contribute to shared understanding of the system and more effective communication.\n",
    "\n",
    "\n",
    "\n",
    "? آیا ما میخواهیم داشته باشیم اگر  اگر آری به چ طریقت و کیفتی ? \n",
    "\n"
   ]
  },
  {
   "cell_type": "markdown",
   "metadata": {},
   "source": [
    "**PlantUML :**\n",
    "\n",
    "PlantUML is an open-source tool allowing users to create diagrams from a plain text language.(file with the extension of .pu/.puml)\n",
    "\n",
    "If we using Visual studio code we can use PlantUML extension which provides helpful features like preview our UML diagrams\n"
   ]
  },
  {
   "cell_type": "markdown",
   "metadata": {},
   "source": [
    "**.MD file :**"
   ]
  }
 ],
 "metadata": {
  "language_info": {
   "name": "python"
  }
 },
 "nbformat": 4,
 "nbformat_minor": 2
}
