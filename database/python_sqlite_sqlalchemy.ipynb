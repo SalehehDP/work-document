{
 "cells": [
  {
   "cell_type": "markdown",
   "metadata": {},
   "source": [
    "https://realpython.com/python-sqlite-sqlalchemy/"
   ]
  },
  {
   "cell_type": "markdown",
   "metadata": {},
   "source": [
    "\n",
    "**Structuring a Database With SQL:**\n",
    "\n",
    "Conceptually, data is stored in the database in two-dimensional table structures. Each table consists of rows of records, and each record consists of columns, or fields, containing data.\n",
    "\n",
    "Each record in the table has a primary key defined to give a record a unique identifier. The primary key is similar to the key in a Python dictionary. The database engine itself often generates the primary key as an incrementing integer value for every record inserted into the database table.\n",
    "\n",
    "\n",
    "**Creating Tables With SQL:**\n",
    "\n",
    "There are no file operations, no variables created, and no structures to hold them. The statements describe only the desired result: the creation of a table with particular attributes. The database engine determines how to do this."
   ]
  }
 ],
 "metadata": {
  "language_info": {
   "name": "python"
  },
  "orig_nbformat": 4
 },
 "nbformat": 4,
 "nbformat_minor": 2
}
