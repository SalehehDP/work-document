{
 "cells": [
  {
   "cell_type": "markdown",
   "metadata": {},
   "source": [
    "resourses : https://www.geeksforgeeks.org/what-is-database/"
   ]
  },
  {
   "cell_type": "markdown",
   "metadata": {},
   "source": [
    "**Database** : an organized collection of data and information or interrelated data collected at one place.\n",
    "\n",
    "**DBMS**: Collection of interrelated data and set of program to access data example – MySql, Oracle.\n",
    "\n",
    "A database is usually controlled by a database management system (DBMS). \n",
    "\n",
    "Most databases use structured query language (SQL) for writing and querying data."
   ]
  }
 ],
 "metadata": {
  "language_info": {
   "name": "python"
  },
  "orig_nbformat": 4
 },
 "nbformat": 4,
 "nbformat_minor": 2
}
