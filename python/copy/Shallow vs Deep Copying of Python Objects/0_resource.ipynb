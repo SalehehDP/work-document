{
 "cells": [
  {
   "cell_type": "markdown",
   "metadata": {},
   "source": [
    "https://realpython.com/copying-python-objects/#:~:text=Copying%20Arbitrary%20Python%20Objects,-The%20question%20we&text=Its%20copy.,used%20to%20duplicate%20any%20object."
   ]
  }
 ],
 "metadata": {
  "language_info": {
   "name": "python"
  },
  "orig_nbformat": 4
 },
 "nbformat": 4,
 "nbformat_minor": 2
}
