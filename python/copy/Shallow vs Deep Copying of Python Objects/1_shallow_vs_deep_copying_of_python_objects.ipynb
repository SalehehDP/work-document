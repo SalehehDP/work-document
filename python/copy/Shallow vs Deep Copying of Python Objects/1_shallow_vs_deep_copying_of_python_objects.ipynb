{
 "cells": [
  {
   "cell_type": "markdown",
   "metadata": {},
   "source": [
    "**Shallow vs Deep Copying of Python Objects:**\n",
    "\n",
    "**Assignment statements in Python do not create copies of objects**\n",
    "\n",
    "Essentially, you’ll sometimes want copies that you can modify without automatically modifying the original at the same time.\n",
    "\n",
    "Python’s built-in mutable collections like lists, dicts, and sets can be copied by calling their factory functions on an existing collection:"
   ]
  },
  {
   "cell_type": "code",
   "execution_count": null,
   "metadata": {},
   "outputs": [],
   "source": [
    "new_list = list(original_list)\n",
    "new_dict = dict(original_dict)\n",
    "new_set = set(original_set)"
   ]
  },
  {
   "cell_type": "markdown",
   "metadata": {},
   "source": [
    "However, this method won’t work for custom objects and, on top of that, it only creates *shallow copies*. For compound objects like lists, dicts, and sets, there’s an important difference between shallow and deep copying:"
   ]
  }
 ],
 "metadata": {
  "language_info": {
   "name": "python"
  },
  "orig_nbformat": 4
 },
 "nbformat": 4,
 "nbformat_minor": 2
}
